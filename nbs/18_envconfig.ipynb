{
 "cells": [
  {
   "cell_type": "markdown",
   "metadata": {},
   "source": [
    "# envconfig\n",
    "\n",
    "> For environment config"
   ]
  },
  {
   "cell_type": "code",
   "execution_count": 3,
   "metadata": {},
   "outputs": [],
   "source": [
    "#| default_exp envconfig"
   ]
  },
  {
   "cell_type": "code",
   "execution_count": 4,
   "metadata": {},
   "outputs": [
    {
     "name": "stdout",
     "output_type": "stream",
     "text": [
      "/home/uts/aishiftscheduler/.venv/bin/python\n"
     ]
    }
   ],
   "source": [
    "!which python"
   ]
  },
  {
   "cell_type": "code",
   "execution_count": 5,
   "metadata": {},
   "outputs": [
    {
     "name": "stdout",
     "output_type": "stream",
     "text": [
      "Python 3.10.12\n"
     ]
    }
   ],
   "source": [
    "!python --version"
   ]
  },
  {
   "cell_type": "code",
   "execution_count": 6,
   "metadata": {},
   "outputs": [],
   "source": [
    "# Set up autoreload\n",
    "%load_ext autoreload\n",
    "%autoreload 2"
   ]
  },
  {
   "cell_type": "code",
   "execution_count": 7,
   "metadata": {},
   "outputs": [],
   "source": [
    "#| hide\n",
    "from nbdev.showdoc import *"
   ]
  },
  {
   "cell_type": "code",
   "execution_count": 10,
   "metadata": {},
   "outputs": [
    {
     "name": "stdout",
     "output_type": "stream",
     "text": [
      "/home/uts/aishiftscheduler/aishiftscheduler/shift_scheduler_data.xlsx\n",
      "/home/uts/aishiftscheduler/aishiftscheduler/best_theta_data.xlsx\n",
      "/home/uts/aishiftscheduler/aishiftscheduler/AIShiftScheduler1.png\n",
      "\n",
      "len(thNAMES)=5\n",
      "thNAMES=['thCumSlots', 'thSickProb', 'thCumMerits', 'thContSlots', 'thSelect']\n"
     ]
    }
   ],
   "source": [
    "#| export\n",
    "# from jose import JWTError, jwt\n",
    "# from datetime import datetime, timedelta\n",
    "# import aishiftscheduler.schemas as sch\n",
    "# import aishiftscheduler.database as db\n",
    "# import aishiftscheduler.dbmodels as dbm\n",
    "# from fastapi import Depends, status, HTTPException\n",
    "# from fastapi.security import OAuth2PasswordBearer\n",
    "# from sqlalchemy.orm import Session\n",
    "\n",
    "# oauth2_scheme = OAuth2PasswordBearer(tokenUrl=\"login\")\n",
    "\n",
    "# # import aishiftscheduler.dbmodels as dbm\n",
    "# # import aishiftscheduler.schemas as sch\n",
    "# # import aishiftscheduler.utils as utl\n",
    "# # from aishiftscheduler.database import get_db"
   ]
  },
  {
   "cell_type": "code",
   "execution_count": null,
   "metadata": {},
   "outputs": [],
   "source": [
    "#| export\n",
    "# from pydantic import BaseSettings\n",
    "from pydantic_settings import BaseSettings, SettingsConfigDict\n",
    "import os\n",
    "\n",
    "\n",
    "# class Settings(BaseSettings):\n",
    "#     database_hostname: str = \"localhost\"\n",
    "#     database_username: str = \"postgres\"\n",
    "#     secret_key: str = \"123jklj902734789df\"\n",
    "\n",
    "class Settings(BaseSettings):\n",
    "    database_hostname: str\n",
    "    database_port: str\n",
    "    database_password: str\n",
    "    database_name: str\n",
    "    database_username: str\n",
    "    secret_key: str\n",
    "    algorithm: str\n",
    "    access_token_expire_minutes: str\n",
    "\n",
    "    class Config:\n",
    "        #- env_file = \"../.env\"\n",
    "        env_file = \".env\"\n",
    "\n",
    "    # model_config = SettingsConfigDict(env_file=\"../.env\")\n",
    "    # model_config = SettingsConfigDict(env_file=\"./.env\")\n",
    "\n",
    "settings = Settings()\n",
    "# print(os.getcwd())\n",
    "# model_config = SettingsConfigDict(env_file=\"../.env\")\n",
    "# model_config = SettingsConfigDict(env_file=\".env\")\n",
    "# print(model_config)\n",
    "# print(settings.database_password)"
   ]
  },
  {
   "cell_type": "code",
   "execution_count": null,
   "metadata": {},
   "outputs": [],
   "source": [
    "#| hide\n",
    "import nbdev; nbdev.nbdev_export()"
   ]
  }
 ],
 "metadata": {
  "kernelspec": {
   "display_name": "python3",
   "language": "python",
   "name": "python3"
  },
  "language_info": {
   "codemirror_mode": {
    "name": "ipython",
    "version": 3
   },
   "file_extension": ".py",
   "mimetype": "text/x-python",
   "name": "python",
   "nbconvert_exporter": "python",
   "pygments_lexer": "ipython3",
   "version": "3.10.12"
  }
 },
 "nbformat": 4,
 "nbformat_minor": 4
}
