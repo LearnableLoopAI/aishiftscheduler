{
 "cells": [
  {
   "cell_type": "markdown",
   "metadata": {},
   "source": [
    "# utils\n",
    "> Utilities\n",
    "- order: 12"
   ]
  },
  {
   "cell_type": "code",
   "execution_count": 1,
   "metadata": {},
   "outputs": [],
   "source": [
    "#| default_exp utils"
   ]
  },
  {
   "cell_type": "code",
   "execution_count": 2,
   "metadata": {},
   "outputs": [
    {
     "name": "stdout",
     "output_type": "stream",
     "text": [
      "/Users/kobus/aishiftscheduler/.venv/bin/python\n"
     ]
    }
   ],
   "source": [
    "!which python"
   ]
  },
  {
   "cell_type": "code",
   "execution_count": 3,
   "metadata": {},
   "outputs": [],
   "source": [
    "# Set up autoreload\n",
    "%load_ext autoreload\n",
    "%autoreload 2"
   ]
  },
  {
   "cell_type": "code",
   "execution_count": 4,
   "metadata": {},
   "outputs": [],
   "source": [
    "#| hide\n",
    "from nbdev.showdoc import *"
   ]
  },
  {
   "cell_type": "code",
   "execution_count": 5,
   "metadata": {},
   "outputs": [
    {
     "name": "stdout",
     "output_type": "stream",
     "text": [
      "/Users/kobus/aishiftscheduler/aishiftscheduler/shift_scheduler_data.xlsx\n",
      "/Users/kobus/aishiftscheduler/aishiftscheduler/AIShiftScheduler1.png\n",
      "\n",
      "len(thNAMES)=5\n",
      "thNAMES=['thCumSlots', 'thSickProb', 'thCumMerits', 'thContSlots', 'thSelect']\n"
     ]
    }
   ],
   "source": [
    "#| export\n",
    "from collections import defaultdict\n",
    "import pandas as pd\n",
    "# import matplotlib as mpl\n",
    "# import matplotlib.pyplot as plt\n",
    "from copy import copy\n",
    "# import time\n",
    "# import math\n",
    "# from pprint import pprint\n",
    "## !pip install -U \"ray\"\n",
    "# import ray\n",
    "# import json\n",
    "\n",
    "from fastcore.basics import patch\n",
    "import aishiftscheduler.config as cf\n",
    "# import aishiftscheduler.policy as pol\n",
    "# import aishiftscheduler.visualization as vis"
   ]
  },
  {
   "cell_type": "code",
   "execution_count": 6,
   "metadata": {},
   "outputs": [],
   "source": [
    "#| export\n",
    "def print_schedule_shifts(df, pars):\n",
    "  mask = df.columns.str.contains('Allocd_t')\n",
    "  resource_allocs = list(df.columns[mask])\n",
    "  sched = copy(df)\n",
    "  schedule = sched[['dt']+resource_allocs]\n",
    "\n",
    "  print(f\"SCHEDULE SHIFTS:\")\n",
    "  print(f\"===============\")\n",
    "  for res_alloc in resource_allocs:\n",
    "    _,_,id,resType,_,_,_ = res_alloc.split('_')\n",
    "    resName = id+'_'+resType\n",
    "    print(f'\\n************** {resName}:')\n",
    "    sched_list = list(schedule.loc[\n",
    "      schedule[res_alloc] == True,\n",
    "      ['dt', res_alloc]\n",
    "    ]['dt'])\n",
    "    if len(sched_list) > 0:\n",
    "      ts_1 = sched_list[0]\n",
    "      dow_1 = sched_list[0].day_of_week\n",
    "      print(f\"{(sched_list[0]-pd.Timedelta(pars.DATE_TIME_DELTA)).strftime('%a %b %d %Hh%M')}\")\n",
    "      for ts in sched_list:\n",
    "        dow = ts.day_of_week\n",
    "        if dow != dow_1:\n",
    "          print(f\"{(ts_1).strftime('%a %b %d %Hh%M')}\\n\")\n",
    "          print(f\"{(ts-pd.Timedelta(pars.DATE_TIME_DELTA)).strftime('%a %b %d %Hh%M')}\")\n",
    "        dow_1 = dow\n",
    "        ts_1 = ts\n",
    "      print(f\"{(sched_list[-1]).strftime('%a %b %d %Hh%M')}\")\n",
    "  print(f'\\n{cf.CONTIGUOUS_REWARD=}')\n",
    "  print(f'{pars.MAX_DAILY_SLOT_RUN=} ({pars.RESOLUTION}s)')\n",
    "  print(f'{cf.TH_CumSlots_SPEC=}')\n",
    "  print(f'{cf.TH_SickProb_SPEC=}')\n",
    "  print(f'{cf.TH_CumMerits_SPEC=}')\n",
    "  print(f'{cf.TH_ContSlots_SPEC=}')\n",
    "  print(f'{cf.TH_Select_SPEC=}')"
   ]
  },
  {
   "cell_type": "code",
   "execution_count": 7,
   "metadata": {},
   "outputs": [],
   "source": [
    "#| export\n",
    "def gap_minutes(resolution):\n",
    "  if resolution == 'QUARTER_HOUR':\n",
    "    return 15\n",
    "  elif resolution == 'HOUR':\n",
    "    return 60\n",
    "  elif resolution == 'BLOCK_8_HOUR':\n",
    "    return 480\n",
    "  else:\n",
    "    print(f'ERROR: Invalid RESOLUTION: {cf.RESOLUTION}')"
   ]
  },
  {
   "cell_type": "code",
   "execution_count": 8,
   "metadata": {},
   "outputs": [],
   "source": [
    "#| export\n",
    "def print_schedule_slots(df, pars):\n",
    "  gap_mins = gap_minutes(pars.RESOLUTION)\n",
    "  mask = df.columns.str.contains('Allocd_t')\n",
    "  resource_allocs = list(df.columns[mask])\n",
    "  sched = copy(df)\n",
    "  schedule = sched[['dt']+resource_allocs]\n",
    "\n",
    "  print(f\"SCHEDULE SLOTS:\")\n",
    "  print(f\"===============\")\n",
    "  n_gaps = 0\n",
    "  for res_alloc in resource_allocs:\n",
    "    _,_,id,resType,_,_,_ = res_alloc.split('_')\n",
    "    resName = id+'_'+resType\n",
    "    print(f'\\n************** {resName}:')\n",
    "    sched_list = list(schedule.loc[\n",
    "      schedule[res_alloc] == True,\n",
    "      ['dt', res_alloc]\n",
    "    ]['dt'])\n",
    "    if len(sched_list) > 0:\n",
    "      ## print each slot and indicate gaps\n",
    "      ts_1 = sched_list[0]\n",
    "      dow_1 = -1\n",
    "      for ts in sched_list:\n",
    "        dow = ts.day_of_week\n",
    "        if dow != dow_1: print('')\n",
    "        if (int((ts.to_datetime64() - ts_1.to_datetime64())/(1e9*60)) > gap_mins)\\\n",
    "          and (dow == dow_1):\n",
    "          n_gaps += 1\n",
    "          print(f\"{(ts-pd.Timedelta(pars.DATE_TIME_DELTA)).strftime('%a %b %d %Hh%M')} GAP\")\n",
    "        else:\n",
    "          print(f\"{(ts-pd.Timedelta(pars.DATE_TIME_DELTA)).strftime('%a %b %d %Hh%M')}\")\n",
    "        dow_1 = dow\n",
    "        ts_1 = ts\n",
    "  print(f'\\nTOTAL NUMBER OF GAPS FOR ALL RESOURCES: {n_gaps}')\n",
    "  print(f'{cf.CONTIGUOUS_REWARD=}')\n",
    "  print(f'{pars.MAX_DAILY_SLOT_RUN=} ({pars.RESOLUTION}s)')\n",
    "  print(f'{cf.TH_CumSlots_SPEC=}')\n",
    "  print(f'{cf.TH_SickProb_SPEC=}')\n",
    "  print(f'{cf.TH_CumMerits_SPEC=}')\n",
    "  print(f'{cf.TH_ContSlots_SPEC=}')\n",
    "  print(f'{cf.TH_Select_SPEC=}')"
   ]
  },
  {
   "cell_type": "code",
   "execution_count": 9,
   "metadata": {},
   "outputs": [],
   "source": [
    "#| hide\n",
    "import nbdev; nbdev.nbdev_export()"
   ]
  },
  {
   "cell_type": "code",
   "execution_count": null,
   "metadata": {},
   "outputs": [],
   "source": []
  }
 ],
 "metadata": {
  "kernelspec": {
   "display_name": ".venv",
   "language": "python",
   "name": "python3"
  },
  "language_info": {
   "codemirror_mode": {
    "name": "ipython",
    "version": 3
   },
   "file_extension": ".py",
   "mimetype": "text/x-python",
   "name": "python",
   "nbconvert_exporter": "python",
   "pygments_lexer": "ipython3",
   "version": "3.10.0"
  }
 },
 "nbformat": 4,
 "nbformat_minor": 4
}
