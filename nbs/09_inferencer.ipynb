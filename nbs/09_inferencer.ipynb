{
 "cells": [
  {
   "cell_type": "markdown",
   "metadata": {},
   "source": [
    "# inferencer\n",
    "\n",
    "> Infers the schedule\n",
    "- order: 9"
   ]
  },
  {
   "cell_type": "code",
   "execution_count": null,
   "metadata": {},
   "outputs": [],
   "source": [
    "#| default_exp inferencer"
   ]
  },
  {
   "cell_type": "code",
   "execution_count": null,
   "metadata": {},
   "outputs": [
    {
     "name": "stdout",
     "output_type": "stream",
     "text": [
      "/Users/kobus/aishiftscheduler/.venv/bin/python\n"
     ]
    }
   ],
   "source": [
    "!which python"
   ]
  },
  {
   "cell_type": "code",
   "execution_count": null,
   "metadata": {},
   "outputs": [
    {
     "name": "stdout",
     "output_type": "stream",
     "text": [
      "The autoreload extension is already loaded. To reload it, use:\n",
      "  %reload_ext autoreload\n"
     ]
    }
   ],
   "source": [
    "# Set up autoreload\n",
    "%load_ext autoreload\n",
    "%autoreload 2"
   ]
  },
  {
   "cell_type": "code",
   "execution_count": null,
   "metadata": {},
   "outputs": [],
   "source": [
    "#| hide\n",
    "from nbdev.showdoc import *"
   ]
  },
  {
   "cell_type": "code",
   "execution_count": null,
   "metadata": {},
   "outputs": [],
   "source": [
    "#| export\n",
    "from collections import defaultdict\n",
    "import pandas as pd\n",
    "from copy import copy\n",
    "import time\n",
    "\n",
    "import aishiftscheduler.config as cf\n",
    "import aishiftscheduler.model as mod\n",
    "import aishiftscheduler.policy as pol\n",
    "import aishiftscheduler.utils as utl"
   ]
  },
  {
   "cell_type": "code",
   "execution_count": null,
   "metadata": {},
   "outputs": [],
   "source": [
    "#| export\n",
    "def get_best_theta_Alloc():\n",
    "  best_theta_Alloc = \\\n",
    "    pol.Policy(None).build_theta({\n",
    "      'thCumSlots': cf.BEST_THETA_Alloc[0],\n",
    "      'thSickProb': cf.BEST_THETA_Alloc[1],\n",
    "      'thCumMerits': cf.BEST_THETA_Alloc[2],\n",
    "      'thContSlots': cf.BEST_THETA_Alloc[3],\n",
    "      'thSelect': cf.BEST_THETA_Alloc[4]\n",
    "    })\n",
    "  return best_theta_Alloc"
   ]
  },
  {
   "cell_type": "code",
   "execution_count": null,
   "metadata": {},
   "outputs": [],
   "source": [
    "#| export\n",
    "def do_infer(L, T, best_theta_Alloc, pars):\n",
    "  M = mod.Model(pars)\n",
    "  P = pol.Policy(M)\n",
    "  ## DEM = DemandSimulator(seed=SEED_EVALU)\n",
    "  ## MER = MeritSimulator(seed=SEED_EVALU)\n",
    "  \n",
    "  thetasOpt = []; thetasOpt.append(best_theta_Alloc) ##from storage\n",
    "  return \\\n",
    "    P.perform_grid_search_sample_paths('X__Alloc', thetasOpt, L, T, pars)"
   ]
  },
  {
   "cell_type": "code",
   "execution_count": null,
   "metadata": {},
   "outputs": [],
   "source": [
    "#| export\n",
    "from io import StringIO\n",
    "def prepare_schedule_shifts_as_text(df, buf, pars):\n",
    "  mask = df.columns.str.contains('Allocd_t')\n",
    "  resource_allocs = list(df.columns[mask])\n",
    "  sched = copy(df)\n",
    "  schedule = sched[['dt']+resource_allocs]\n",
    "\n",
    "  buf.write(f\"SCHEDULE SHIFTS:\\n\")\n",
    "  buf.write(f\"================\\n\")\n",
    "  for res_alloc in resource_allocs:\n",
    "    _,_,id,resType,_,_,_ = res_alloc.split('_')\n",
    "    resName = id+'_'+resType\n",
    "    buf.write(f'\\n************** {resName}:\\n')\n",
    "    sched_list = list(schedule.loc[\n",
    "      schedule[res_alloc] == True,\n",
    "      ['dt', res_alloc]\n",
    "    ]['dt'])\n",
    "    if len(sched_list) > 0:\n",
    "      ts_1 = sched_list[0]\n",
    "      dow_1 = sched_list[0].day_of_week\n",
    "      buf.write(f\"{(sched_list[0]-pd.Timedelta(pars.DATE_TIME_DELTA)).strftime('%a %b %d %Hh%M')}\\n\")\n",
    "      for ts in sched_list:\n",
    "        dow = ts.day_of_week\n",
    "        if dow != dow_1:\n",
    "          buf.write(f\"{(ts_1).strftime('%a %b %d %Hh%M')}\\n\\n\")\n",
    "          buf.write(f\"{(ts-pd.Timedelta(pars.DATE_TIME_DELTA)).strftime('%a %b %d %Hh%M')}\\n\")\n",
    "        dow_1 = dow\n",
    "        ts_1 = ts\n",
    "      buf.write(f\"{(sched_list[-1]).strftime('%a %b %d %Hh%M')}\\n\")\n",
    "  buf.write(f'\\n{cf.CONTIGUOUS_REWARD=}\\n')\n",
    "  buf.write(f'{pars.MAX_DAILY_SLOT_RUN=} ({pars.RESOLUTION}s)\\n')\n",
    "  buf.write(f'{cf.TH_CumSlots_SPEC=}\\n')\n",
    "  buf.write(f'{cf.TH_SickProb_SPEC=}\\n')\n",
    "  buf.write(f'{cf.TH_CumMerits_SPEC=}\\n')\n",
    "  buf.write(f'{cf.TH_ContSlots_SPEC=}\\n')\n",
    "  buf.write(f'{cf.TH_Select_SPEC=}\\n')\n",
    "  return buf.getvalue()"
   ]
  },
  {
   "cell_type": "code",
   "execution_count": null,
   "metadata": {},
   "outputs": [],
   "source": [
    "#| export\n",
    "from io import StringIO\n",
    "def prepare_schedule_slots_as_text(df, buf):\n",
    "  gap_mins = utl.gap_minutes(cf.RESOLUTION)\n",
    "  mask = df.columns.str.contains('Allocd_t')\n",
    "  resource_allocs = list(df.columns[mask])\n",
    "  sched = copy(df)\n",
    "  schedule = sched[['dt']+resource_allocs]\n",
    "\n",
    "  buf.write(f\"SCHEDULE SLOTS:\\n\")\n",
    "  buf.write(f\"===============\\n\")\n",
    "  n_gaps = 0\n",
    "  for res_alloc in resource_allocs:\n",
    "    _,_,id,resType,_,_,_ = res_alloc.split('_')\n",
    "    resName = id+'_'+resType\n",
    "    buf.write(f'\\n************** {resName}:\\n')\n",
    "    sched_list = list(schedule.loc[\n",
    "      schedule[res_alloc] == True,\n",
    "      ['dt', res_alloc]\n",
    "    ]['dt'])\n",
    "    if len(sched_list) > 0:\n",
    "      ## print each slot and indicate gaps\n",
    "      ts_1 = sched_list[0]\n",
    "      dow_1 = -1\n",
    "      for ts in sched_list:\n",
    "        dow = ts.day_of_week\n",
    "        if dow != dow_1: buf.write('\\n')\n",
    "        if (int((ts.to_datetime64() - ts_1.to_datetime64())/(1e9*60)) > gap_mins)\\\n",
    "          and (dow == dow_1):\n",
    "          n_gaps += 1\n",
    "          buf.write(f\"{(ts-pd.Timedelta(cf.DATE_TIME_DELTA)).strftime('%a %b %d %Hh%M')} GAP\\n\")\n",
    "        else:\n",
    "          buf.write(f\"{(ts-pd.Timedelta(cf.DATE_TIME_DELTA)).strftime('%a %b %d %Hh%M')}\\n\")\n",
    "        dow_1 = dow\n",
    "        ts_1 = ts\n",
    "  buf.write(f'\\nTOTAL NUMBER OF GAPS FOR ALL RESOURCES: {n_gaps}\\n')\n",
    "  buf.write(f'{cf.CONTIGUOUS_REWARD=}\\n')\n",
    "  buf.write(f'{cf.MAX_DAILY_SLOT_RUN=} ({cf.RESOLUTION}s)\\n')\n",
    "  buf.write(f'{cf.TH_CumSlots_SPEC=}\\n')\n",
    "  buf.write(f'{cf.TH_SickProb_SPEC=}\\n')\n",
    "  buf.write(f'{cf.TH_CumMerits_SPEC=}\\n')\n",
    "  buf.write(f'{cf.TH_ContSlots_SPEC=}\\n')\n",
    "  buf.write(f'{cf.TH_Select_SPEC=}\\n')\n",
    "  return buf.getvalue()"
   ]
  },
  {
   "cell_type": "code",
   "execution_count": null,
   "metadata": {},
   "outputs": [],
   "source": [
    "#| export\n",
    "def prepare_schedule_slots_as_json(df, pars):\n",
    "  sched_dict = defaultdict(lambda: defaultdict(lambda: defaultdict(list)))\n",
    "  gap_mins = utl.gap_minutes(pars.RESOLUTION)\n",
    "  mask = df.columns.str.contains('Allocd_t')\n",
    "  resource_allocs = list(df.columns[mask])\n",
    "  sched = copy(df)\n",
    "  schedule = sched[['dt']+resource_allocs]\n",
    "\n",
    "  n_gaps = 0\n",
    "  for res_alloc in resource_allocs:\n",
    "    _,_,id,resType,_,_,_ = res_alloc.split('_')\n",
    "    resName = id+'_'+resType\n",
    "    sched_list = list(schedule.loc[\n",
    "      schedule[res_alloc] == True,\n",
    "      ['dt', res_alloc]\n",
    "    ]['dt'])\n",
    "    if len(sched_list) > 0:\n",
    "      ## capture each slot and indicate gaps\n",
    "      ts_1 = sched_list[0]\n",
    "      dow_1 = -1\n",
    "      for ts in sched_list:\n",
    "        dow = ts.day_of_week\n",
    "        if (int((ts.to_datetime64() - ts_1.to_datetime64())/(1e9*60)) > gap_mins)\\\n",
    "          and (dow == dow_1):\n",
    "          n_gaps += 1\n",
    "          sched_dict['slots'][resName][dow].append(f\"{(ts-pd.Timedelta(pars.DATE_TIME_DELTA)).strftime('%a %b %d %Hh%M')} GAP\")\n",
    "        else:\n",
    "          sched_dict['slots'][resName][dow].append(f\"{(ts-pd.Timedelta(pars.DATE_TIME_DELTA)).strftime('%a %b %d %Hh%M')}\")\n",
    "        dow_1 = dow\n",
    "        ts_1 = ts\n",
    "  sched_dict['config']['TOTAL NUMBER OF GAPS FOR ALL RESOURCES'] = n_gaps\n",
    "  sched_dict['config']['CONTIGUOUS_REWARD'] = cf.CONTIGUOUS_REWARD\n",
    "  sched_dict['config']['MAX_DAILY_SLOT_RUN'] = pars.MAX_DAILY_SLOT_RUN\n",
    "  sched_dict['config']['RESOLUTION'] = pars.RESOLUTION  \n",
    "  sched_dict['config']['TH_CumSlots_SPEC'] = cf.TH_CumSlots_SPEC\n",
    "  sched_dict['config']['TH_SickProb_SPEC'] = cf.TH_SickProb_SPEC\n",
    "  sched_dict['config']['TH_CumMerits_SPEC'] = cf.TH_CumMerits_SPEC\n",
    "  sched_dict['config']['TH_ContSlots_SPEC'] = cf.TH_ContSlots_SPEC\n",
    "  sched_dict['config']['TH_Select_SPEC'] = cf.TH_Select_SPEC\n",
    "  return sched_dict"
   ]
  },
  {
   "cell_type": "code",
   "execution_count": null,
   "metadata": {},
   "outputs": [],
   "source": [
    "#| export\n",
    "def infer_schedule(L, T, First_n_t, stored_best_theta, pars):\n",
    "    start = time.time()\n",
    "    \n",
    "    ThetaStar_expCbarcum_evalu_opt, ThetaStar_expCtilcum_evalu_opt, \\\n",
    "    _, _, \\\n",
    "    Best_theta_evalu_opt, Worst_theta_evalu_opt, \\\n",
    "    _, _, \\\n",
    "    _, _, \\\n",
    "    Record_evalu_opt = \\\n",
    "      do_infer(L, T, stored_best_theta, pars)\n",
    "    Df_evalu_opt = pd.DataFrame.from_records(\n",
    "        Record_evalu_opt[:First_n_t], columns=pars.LABELS)\n",
    "    ## print(\n",
    "    ##   f'{ThetaStar_expCbarcum_evalu_opt.iloc[-1]=:.2f}')    \n",
    "    ## print_schedule_shifts(Df_evalu_opt)\n",
    "    end = time.time(); print(f'EXECUTION TIME: {end - start} seconds')\n",
    "\n",
    "    buf = StringIO()\n",
    "    ## >>>>>>>>>>>>>>>>>>>>>>>>>>>>>>>>>>>>>>>>>>>>>>>>>>>>>>>>>>>>>>>>\n",
    "    ## prepped_sched = prepare_schedule_shifts_as_text(Df_evalu_opt, buf, pars)\n",
    "    prepped_sched = prepare_schedule_slots_as_json(Df_evalu_opt, pars)\n",
    "    ## >>>>>>>>>>>>>>>>>>>>>>>>>>>>>>>>>>>>>>>>>>>>>>>>>>>>>>>>>>>>>>>>\n",
    "    buf.close()\n",
    "\n",
    "    return Best_theta_evalu_opt, Df_evalu_opt, prepped_sched"
   ]
  },
  {
   "cell_type": "code",
   "execution_count": null,
   "metadata": {},
   "outputs": [],
   "source": [
    "#| hide\n",
    "import nbdev; nbdev.nbdev_export()"
   ]
  },
  {
   "cell_type": "code",
   "execution_count": null,
   "metadata": {},
   "outputs": [],
   "source": []
  }
 ],
 "metadata": {
  "kernelspec": {
   "display_name": "python3",
   "language": "python",
   "name": "python3"
  }
 },
 "nbformat": 4,
 "nbformat_minor": 4
}
