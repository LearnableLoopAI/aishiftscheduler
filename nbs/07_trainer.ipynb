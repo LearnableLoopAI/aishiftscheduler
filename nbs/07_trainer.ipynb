{
 "cells": [
  {
   "cell_type": "markdown",
   "metadata": {},
   "source": [
    "# trainer\n",
    "\n",
    "> Trains the schedule\n",
    "- order: 7"
   ]
  },
  {
   "cell_type": "code",
   "execution_count": 1,
   "metadata": {},
   "outputs": [],
   "source": [
    "#| default_exp trainer"
   ]
  },
  {
   "cell_type": "code",
   "execution_count": 2,
   "metadata": {},
   "outputs": [
    {
     "name": "stdout",
     "output_type": "stream",
     "text": [
      "/Users/kobus/aishiftscheduler/.venv/bin/python\n"
     ]
    }
   ],
   "source": [
    "!which python"
   ]
  },
  {
   "cell_type": "code",
   "execution_count": 3,
   "metadata": {},
   "outputs": [],
   "source": [
    "# Set up autoreload\n",
    "%load_ext autoreload\n",
    "%autoreload 2"
   ]
  },
  {
   "cell_type": "code",
   "execution_count": 4,
   "metadata": {},
   "outputs": [],
   "source": [
    "#| hide\n",
    "from nbdev.showdoc import *"
   ]
  },
  {
   "cell_type": "code",
   "execution_count": 5,
   "metadata": {},
   "outputs": [
    {
     "name": "stdout",
     "output_type": "stream",
     "text": [
      "/Users/kobus/aishiftscheduler/aishiftscheduler/shift_scheduler_data.xlsx\n",
      "/Users/kobus/aishiftscheduler/aishiftscheduler/AIShiftScheduler1.png\n",
      "\n",
      "len(thNAMES)=5\n",
      "thNAMES=['thCumSlots', 'thSickProb', 'thCumMerits', 'thContSlots', 'thSelect']\n"
     ]
    }
   ],
   "source": [
    "#| export\n",
    "# from collections import namedtuple, defaultdict\n",
    "import numpy as np\n",
    "import pandas as pd\n",
    "# import matplotlib as mpl\n",
    "# import matplotlib.pyplot as plt\n",
    "from copy import copy\n",
    "import time\n",
    "# import math\n",
    "# from pprint import pprint\n",
    "## !pip install -U \"ray\"\n",
    "import ray\n",
    "# import json\n",
    "\n",
    "import aishiftscheduler.config as cf\n",
    "import aishiftscheduler.model as mod\n",
    "import aishiftscheduler.policy as pol"
   ]
  },
  {
   "cell_type": "code",
   "execution_count": 6,
   "metadata": {},
   "outputs": [
    {
     "data": {
      "text/plain": [
       "'2.0.3'"
      ]
     },
     "execution_count": 6,
     "metadata": {},
     "output_type": "execute_result"
    }
   ],
   "source": [
    "pd.__version__"
   ]
  },
  {
   "cell_type": "code",
   "execution_count": 9,
   "metadata": {},
   "outputs": [],
   "source": [
    "#| export\n",
    "pd.options.display.float_format = '{:,.4f}'.format\n",
    "pd.set_option('display.max_columns', None)\n",
    "pd.set_option('display.max_rows', None)\n",
    "pd.set_option('display.max_colwidth', None)"
   ]
  },
  {
   "cell_type": "code",
   "execution_count": 11,
   "metadata": {},
   "outputs": [],
   "source": [
    "#| export\n",
    "def setup_thetas_for_training():\n",
    "    # Setup the training thetas.\n",
    "    ThetasCumSlots = np.arange(cf.TH_CumSlots_SPEC[0], cf.TH_CumSlots_SPEC[1], cf.TH_CumSlots_SPEC[2])\n",
    "    ## ThetasCumSlots = TH_CumSlots_SPEC\n",
    "    \n",
    "    ## ThetasSickProb = np.arange(TH_SickProb_SPEC[0], TH_SickProb_SPEC[1], TH_SickProb_SPEC[2])\n",
    "    ThetasSickProb = cf.TH_SickProb_SPEC\n",
    "    \n",
    "    ThetasCumMerits = np.arange(cf.TH_CumMerits_SPEC[0], cf.TH_CumMerits_SPEC[1], cf.TH_CumMerits_SPEC[2])\n",
    "    ## ThetasCumMerits = TH_CumMerits_SPEC\n",
    "    \n",
    "    ## BALANCE/REMAINING \n",
    "    ## ThetasContSlots = np.arange(TH_ContSlots_SPEC[0], TH_ContSlots_SPEC[1], TH_ContSlots_SPEC[2])\n",
    "    ## ThetasContSlots = TH_ContSlots_SPEC\n",
    "    \n",
    "    ThetasSelect = cf.TH_Select_SPEC\n",
    "    \n",
    "    thetas_list = [\n",
    "        ( round(th0,2), round(th1,2), round(th2,2), round(1-(th0+th1+th2),2), th4 )\n",
    "        for th0 in ThetasCumSlots\n",
    "          for th1 in ThetasSickProb\n",
    "            for th2 in ThetasCumMerits if (th0 + th1 + th2) <= 1.0\n",
    "              for th4 in ThetasSelect\n",
    "    ]\n",
    "    Thetas = [\n",
    "        ## P.build_theta({'thCumSlots': tup[0], 'thSickProb': tup[1], 'thCumMerits': tup[2], 'thSelect': tup[3]})\n",
    "        pol.Policy(None).build_theta({\n",
    "          'thCumSlots': tup[0], \n",
    "          'thSickProb': tup[1], \n",
    "          'thCumMerits': tup[2], \n",
    "          'thContSlots': tup[3], \n",
    "          'thSelect': tup[4]\n",
    "          })\n",
    "        for tup in thetas_list\n",
    "    ]\n",
    "    return Thetas"
   ]
  },
  {
   "cell_type": "code",
   "execution_count": 12,
   "metadata": {},
   "outputs": [],
   "source": [
    "#| export\n",
    "def do_train(L, T, Thetas, pars):\n",
    "  M = mod.Model(pars)\n",
    "  P = pol.Policy(M)\n",
    "  ## DEM = DemandSimulator(seed=SEED_TRAIN)\n",
    "  ## MER = MeritSimulator(seed=SEED_TRAIN)\n",
    "\n",
    "  return \\\n",
    "    P.parallel_perform_grid_search_sample_paths('X__Alloc', Thetas, L, T, pars)"
   ]
  },
  {
   "cell_type": "code",
   "execution_count": 13,
   "metadata": {},
   "outputs": [],
   "source": [
    "#| export\n",
    "def train_schedule(L, T, First_n_t, Last_n_t, pars):\n",
    "    start = time.time()\n",
    "    ray.shutdown()\n",
    "    ray.init()\n",
    "    Thetas = setup_thetas_for_training()\n",
    "\n",
    "    ThetaStar_expCbarcum, ThetaStar_expCtilcum, \\\n",
    "    Cbarcum, Ctilcum, \\\n",
    "    Best_theta, Worst_theta, \\\n",
    "    Best_Cbarcum, Worst_Cbarcum, \\\n",
    "    Best_Ctilcum, Worst_Ctilcum, \\\n",
    "    Record = \\\n",
    "      do_train(L, T, Thetas, pars)\n",
    "    \n",
    "    f'{ThetaStar_expCbarcum.iloc[-1]=:.2f}'\n",
    "    Df_first_n_t = pd.DataFrame.from_records(Record[:First_n_t], columns=pars.LABELS)\n",
    "    Df_last_n_t = pd.DataFrame.from_records(Record[-Last_n_t:], columns=pars.LABELS)\n",
    "    end = time.time(); print(f'EXECUTION TIME: {end - start} seconds')\n",
    "    return Best_theta, Worst_theta, Df_first_n_t, Df_last_n_t"
   ]
  },
  {
   "cell_type": "code",
   "execution_count": 14,
   "metadata": {},
   "outputs": [],
   "source": [
    "#| hide\n",
    "import nbdev; nbdev.nbdev_export()"
   ]
  },
  {
   "cell_type": "code",
   "execution_count": null,
   "metadata": {},
   "outputs": [],
   "source": []
  }
 ],
 "metadata": {
  "kernelspec": {
   "display_name": ".venv",
   "language": "python",
   "name": "python3"
  },
  "language_info": {
   "codemirror_mode": {
    "name": "ipython",
    "version": 3
   },
   "file_extension": ".py",
   "mimetype": "text/x-python",
   "name": "python",
   "nbconvert_exporter": "python",
   "pygments_lexer": "ipython3",
   "version": "3.10.0"
  }
 },
 "nbformat": 4,
 "nbformat_minor": 4
}
