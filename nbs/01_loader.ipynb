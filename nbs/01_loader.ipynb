{
 "cells": [
  {
   "cell_type": "markdown",
   "metadata": {},
   "source": [
    "# loader\n",
    "\n",
    "> Loads the data\n",
    "- order: 1"
   ]
  },
  {
   "cell_type": "code",
   "execution_count": null,
   "metadata": {},
   "outputs": [
    {
     "name": "stdout",
     "output_type": "stream",
     "text": [
      "/Users/kobus/aishiftscheduler/aishiftscheduler/shift_scheduler_data.xlsx\n",
      "/Users/kobus/aishiftscheduler/aishiftscheduler/best_theta_data.xlsx\n",
      "/Users/kobus/aishiftscheduler/aishiftscheduler/AIShiftScheduler1.png\n",
      "\n",
      "len(thNAMES)=5\n",
      "thNAMES=['thCumSlots', 'thSickProb', 'thCumMerits', 'thContSlots', 'thSelect']\n"
     ]
    }
   ],
   "source": [
    "#| default_exp loader"
   ]
  },
  {
   "cell_type": "code",
   "execution_count": null,
   "metadata": {},
   "outputs": [
    {
     "name": "stdout",
     "output_type": "stream",
     "text": [
      "The autoreload extension is already loaded. To reload it, use:\n",
      "  %reload_ext autoreload\n"
     ]
    }
   ],
   "source": [
    "# Set up autoreload\n",
    "%load_ext autoreload\n",
    "%autoreload 2"
   ]
  },
  {
   "cell_type": "code",
   "execution_count": null,
   "metadata": {},
   "outputs": [],
   "source": [
    "#| hide\n",
    "from nbdev.showdoc import *"
   ]
  },
  {
   "cell_type": "code",
   "execution_count": null,
   "metadata": {},
   "outputs": [
    {
     "name": "stdout",
     "output_type": "stream",
     "text": [
      "/Users/kobus/aishiftscheduler/aishiftscheduler/shift_scheduler_data.xlsx\n",
      "/Users/kobus/aishiftscheduler/aishiftscheduler/best_theta_data.xlsx\n",
      "/Users/kobus/aishiftscheduler/aishiftscheduler/AIShiftScheduler1.png\n",
      "\n",
      "len(thNAMES)=5\n",
      "thNAMES=['thCumSlots', 'thSickProb', 'thCumMerits', 'thContSlots', 'thSelect']\n"
     ]
    }
   ],
   "source": [
    "#| export\n",
    "import pandas as pd\n",
    "# import aishiftscheduler.policy as pol #circular import"
   ]
  },
  {
   "cell_type": "code",
   "execution_count": null,
   "metadata": {},
   "outputs": [],
   "source": [
    "#| export\n",
    "def load_sick_probs(filename):\n",
    "  sick_df = pd.read_excel(\n",
    "      filename,\n",
    "      sheet_name='SickProbs',\n",
    "      ## skiprows=3,\n",
    "      converters={'ResourceId':str}\n",
    "      )\n",
    "  return sick_df"
   ]
  },
  {
   "cell_type": "code",
   "execution_count": null,
   "metadata": {},
   "outputs": [],
   "source": [
    "#| export\n",
    "def load_merit_probs(filename):\n",
    "  merit_df = pd.read_excel(\n",
    "      filename,\n",
    "      sheet_name='MeritProbs',\n",
    "      ## skiprows=3,\n",
    "      converters={'ResourceId':str}\n",
    "      )\n",
    "  return merit_df"
   ]
  },
  {
   "cell_type": "code",
   "execution_count": null,
   "metadata": {},
   "outputs": [],
   "source": [
    "#| export\n",
    "def load_exog_info(filename):\n",
    "  exog_info_df = pd.read_excel(\n",
    "    filename,\n",
    "    sheet_name='ExogInfo2',\n",
    "    skiprows=6,\n",
    "    converters={'volume':int}\n",
    "    )\n",
    "  return exog_info_df"
   ]
  },
  {
   "cell_type": "code",
   "execution_count": null,
   "metadata": {},
   "outputs": [],
   "source": [
    "#| export\n",
    "def save_best_theta(filename, trn_Best_theta_df):\n",
    "  trn_Best_theta_df.to_excel(\n",
    "    filename,\n",
    "    sheet_name='BestTheta',\n",
    "  )"
   ]
  },
  {
   "cell_type": "code",
   "execution_count": null,
   "metadata": {},
   "outputs": [],
   "source": [
    "#| export\n",
    "def load_best_theta(filename):\n",
    "  trn_Best_theta_df = pd.read_excel(\n",
    "    filename,\n",
    "    sheet_name='BestTheta',\n",
    "    index_col=0 #None\n",
    "  )\n",
    "  trn_Best_theta_tuple = tuple(trn_Best_theta_df.iloc[0])\n",
    "  return trn_Best_theta_tuple"
   ]
  },
  {
   "cell_type": "code",
   "execution_count": null,
   "metadata": {},
   "outputs": [],
   "source": [
    "#| hide\n",
    "import nbdev; nbdev.nbdev_export()"
   ]
  },
  {
   "cell_type": "code",
   "execution_count": null,
   "metadata": {},
   "outputs": [],
   "source": []
  }
 ],
 "metadata": {
  "kernelspec": {
   "display_name": "python3",
   "language": "python",
   "name": "python3"
  }
 },
 "nbformat": 4,
 "nbformat_minor": 4
}
