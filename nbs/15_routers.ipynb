{
 "cells": [
  {
   "cell_type": "markdown",
   "metadata": {},
   "source": [
    "# routers\n",
    "\n",
    "> Contains all the routes. (routers subfoler in tut; nbdev did not transfer a subfolder under nbs to the package folder)"
   ]
  },
  {
   "cell_type": "code",
   "execution_count": 3,
   "metadata": {},
   "outputs": [],
   "source": [
    "#| default_exp routers"
   ]
  },
  {
   "cell_type": "code",
   "execution_count": 4,
   "metadata": {},
   "outputs": [
    {
     "name": "stdout",
     "output_type": "stream",
     "text": [
      "/home/uts/aishiftscheduler/.venv/bin/python\n"
     ]
    }
   ],
   "source": [
    "!which python"
   ]
  },
  {
   "cell_type": "code",
   "execution_count": 5,
   "metadata": {},
   "outputs": [
    {
     "name": "stdout",
     "output_type": "stream",
     "text": [
      "Python 3.10.12\n"
     ]
    }
   ],
   "source": [
    "!python --version"
   ]
  },
  {
   "cell_type": "code",
   "execution_count": 6,
   "metadata": {},
   "outputs": [],
   "source": [
    "# Set up autoreload\n",
    "%load_ext autoreload\n",
    "%autoreload 2"
   ]
  },
  {
   "cell_type": "code",
   "execution_count": 7,
   "metadata": {},
   "outputs": [],
   "source": [
    "#| hide\n",
    "from nbdev.showdoc import *"
   ]
  },
  {
   "cell_type": "code",
   "execution_count": 8,
   "metadata": {},
   "outputs": [],
   "source": [
    "# !pip install psycopg2"
   ]
  },
  {
   "cell_type": "code",
   "execution_count": 10,
   "metadata": {},
   "outputs": [
    {
     "name": "stdout",
     "output_type": "stream",
     "text": [
      "/home/uts/aishiftscheduler/aishiftscheduler/shift_scheduler_data.xlsx\n",
      "/home/uts/aishiftscheduler/aishiftscheduler/best_theta_data.xlsx\n",
      "/home/uts/aishiftscheduler/aishiftscheduler/AIShiftScheduler1.png\n",
      "\n",
      "len(thNAMES)=5\n",
      "thNAMES=['thCumSlots', 'thSickProb', 'thCumMerits', 'thContSlots', 'thSelect']\n"
     ]
    }
   ],
   "source": [
    "#| export\n",
    "from typing import List\n",
    "from fastapi import Response, status, HTTPException, Depends, APIRouter\n",
    "from fastapi.security.oauth2 import OAuth2PasswordRequestForm\n",
    "# from pydantic import BaseModel\n",
    "# # from passlib.context import CryptContext\n",
    "# from fastapi.middleware.cors import CORSMiddleware\n",
    "# from fastapi.params import Body\n",
    "# from random import randrange\n",
    "# import psycopg2\n",
    "# from psycopg2.extras import RealDictCursor\n",
    "\n",
    "# ## sqlalchemy and ORM (database.py from tut)\n",
    "# from sqlalchemy import create_engine\n",
    "# from sqlalchemy.ext.declarative import declarative_base\n",
    "from sqlalchemy.orm import sessionmaker, Session\n",
    "# SQLALCHEMY_DATABASE_URL = 'postgresql://postgres:p@localhost/sai_db2'\n",
    "# engine = create_engine(SQLALCHEMY_DATABASE_URL)\n",
    "# SessionLocal = sessionmaker(autocommit=False, autoflush=False, bind=engine)\n",
    "# Base = declarative_base()\n",
    "\n",
    "import aishiftscheduler.dbmodels as dbm\n",
    "import aishiftscheduler.schemas as sch\n",
    "import aishiftscheduler.utils as utl\n",
    "import aishiftscheduler.oauth2 as oa2\n",
    "from aishiftscheduler.database import get_db"
   ]
  },
  {
   "cell_type": "markdown",
   "metadata": {},
   "source": [
    "## Authentication (tut auth.py)"
   ]
  },
  {
   "cell_type": "code",
   "execution_count": null,
   "metadata": {},
   "outputs": [],
   "source": [
    "#| export\n",
    "auth_router = APIRouter(tags=['Authentication'])"
   ]
  },
  {
   "cell_type": "code",
   "execution_count": null,
   "metadata": {},
   "outputs": [],
   "source": [
    "#| export\n",
    "@auth_router.post('/login', response_model=sch.Token)\n",
    "# def login(user_credentials: sch.UserLogin, db: Session=Depends(get_db)):\n",
    "def login(user_credentials: OAuth2PasswordRequestForm=Depends(), db: Session=Depends(get_db)):\n",
    "    # user = db.query(dbm.User).filter(dbm.User.email == user_credentials.email).first()\n",
    "    user = db.query(dbm.User).filter(dbm.User.email == user_credentials.username).first()\n",
    "\n",
    "    if not user:\n",
    "        raise HTTPException(\n",
    "            status_code=status.HTTP_403_FORBIDDEN, \n",
    "            # detail=f\"Invalid Credentials\"\n",
    "            detail=f\"not user !!!!!!!!!!!!!!!!!!!!!!!!!!!!!!!!!\"\n",
    "        )\n",
    "\n",
    "    if not utl.verify(user_credentials.password, user.password):\n",
    "        raise HTTPException(\n",
    "            status_code=status.HTTP_403_FORBIDDEN, \n",
    "            # detail=f\"Invalid Credentials\"\n",
    "            detail=f\"fail verify !!!!!!!!!!!!!!!!!!!!!!!!!!!!\"\n",
    "        )\n",
    "    \n",
    "    ## create a token\n",
    "    ## return token\n",
    "    access_token = oa2.create_access_token(data={\"user_id\": user.id})\n",
    "    return {\"access_token\": access_token, \"token_type\": \"bearer\"}"
   ]
  },
  {
   "cell_type": "code",
   "execution_count": null,
   "metadata": {},
   "outputs": [],
   "source": []
  },
  {
   "cell_type": "code",
   "execution_count": null,
   "metadata": {},
   "outputs": [],
   "source": [
    "#| export\n",
    "userinput_router = APIRouter(\n",
    "    prefix=\"/userinputs\",\n",
    "    tags=['UsersInputs']\n",
    ")"
   ]
  },
  {
   "cell_type": "markdown",
   "metadata": {},
   "source": [
    "## UserInput routes"
   ]
  },
  {
   "cell_type": "code",
   "execution_count": null,
   "metadata": {},
   "outputs": [],
   "source": [
    "#| export\n",
    "# @app.get(\"/userinputs\", response_model=List[sch.UserInput])\n",
    "@userinput_router.get(\"/\", response_model=List[sch.UserInput])\n",
    "def get_userinputs(db: Session=Depends(get_db), user_id: int=Depends(oa2.get_current_user)):\n",
    "    userinputs = db.query(dbm.UserInput).all()\n",
    "    return userinputs"
   ]
  },
  {
   "cell_type": "code",
   "execution_count": null,
   "metadata": {},
   "outputs": [],
   "source": [
    "#| export\n",
    "@userinput_router.post(\"/\", status_code=status.HTTP_201_CREATED, response_model=sch.UserInput)\n",
    "# def create_userinputs(userinput: sch.UserInputCreate, db: Session = Depends(get_db), get_current_user: int=Depends(oa2.get_current_user)):\n",
    "# def create_userinputs(userinput: sch.UserInputCreate, db: Session = Depends(get_db), user_id: int=Depends(oa2.get_current_user)):\n",
    "def create_userinputs(userinput: sch.UserInputCreate, db: Session = Depends(get_db), current_user: int=Depends(oa2.get_current_user)):  \n",
    "    # print(user_id)\n",
    "    # print(current_user.email)\n",
    "    # new_userinput = dbm.UserInput(**userinput.model_dump())\n",
    "    new_userinput = dbm.UserInput(user_id=current_user.id, **userinput.model_dump())\n",
    "    db.add(new_userinput)\n",
    "    db.commit()\n",
    "    db.refresh(new_userinput)\n",
    "    return new_userinput"
   ]
  },
  {
   "cell_type": "code",
   "execution_count": null,
   "metadata": {},
   "outputs": [],
   "source": [
    "#| export\n",
    "@userinput_router.get(\"/{id}\", response_model=sch.UserInput)\n",
    "# def get_userinput(id: int, db: Session = Depends(get_db), user_id: int=Depends(oa2.get_current_user)):\n",
    "def get_userinput(id: int, db: Session = Depends(get_db), current_user: int=Depends(oa2.get_current_user)):\n",
    "    userinput = db.query(dbm.UserInput).filter(dbm.UserInput.id == id).first()\n",
    "    if not userinput:\n",
    "        raise HTTPException(status_code=status.HTTP_404_NOT_FOUND, detail=f\"userinput with id: {id} was not found\")\n",
    "    return userinput"
   ]
  },
  {
   "cell_type": "code",
   "execution_count": null,
   "metadata": {},
   "outputs": [],
   "source": [
    "#| export\n",
    "@userinput_router.delete(\"/{id}\", status_code=status.HTTP_204_NO_CONTENT)\n",
    "# def delete_userinput(id: int, db: Session = Depends(get_db), user_id: int=Depends(oa2.get_current_user)):\n",
    "def delete_userinput(id: int, db: Session = Depends(get_db), current_user: int=Depends(oa2.get_current_user)):    \n",
    "    userinput = db.query(dbm.UserInput).filter(dbm.UserInput.id == id)\n",
    "    if userinput.first() == None:\n",
    "        raise HTTPException(status_code=status.HTTP_404_NOT_FOUND, detail=f\"userinput with id: {id} does not exist\")\n",
    "    userinput.delete(synchronize_session=False)\n",
    "    db.commit()\n",
    "    return Response(status_code=status.HTTP_204_NO_CONTENT)\n"
   ]
  },
  {
   "cell_type": "code",
   "execution_count": null,
   "metadata": {},
   "outputs": [],
   "source": [
    "#| export\n",
    "@userinput_router.put(\"/{id}\", response_model=sch.UserInput)\n",
    "# def update_userinput(id: int, updated_userinput: sch.UserInputUpdate, db: Session=Depends(get_db), user_id: int=Depends(oa2.get_current_user)):\n",
    "def update_userinput(id: int, updated_userinput: sch.UserInputUpdate, db: Session=Depends(get_db), current_user: int=Depends(oa2.get_current_user)):\n",
    "    userinput_query = db.query(dbm.UserInput).filter(dbm.UserInput.id == id)\n",
    "    userinput = userinput_query.first()\n",
    "    if userinput == None:\n",
    "        raise HTTPException(\n",
    "            status_code=status.HTTP_404_NOT_FOUND, \n",
    "            detail=f\"userinput with id: {id} does not exist\")    \n",
    "    userinput_query.update(updated_userinput.model_dump(), synchronize_session=False)\n",
    "    db.commit()\n",
    "    return userinput_query.first()"
   ]
  },
  {
   "cell_type": "markdown",
   "metadata": {},
   "source": [
    "## User routes"
   ]
  },
  {
   "cell_type": "code",
   "execution_count": null,
   "metadata": {},
   "outputs": [],
   "source": [
    "#| export\n",
    "user_router = APIRouter(\n",
    "    prefix=\"/users\",\n",
    "    tags=['Users']\n",
    ")"
   ]
  },
  {
   "cell_type": "code",
   "execution_count": null,
   "metadata": {},
   "outputs": [],
   "source": [
    "#| export\n",
    "## users\n",
    "@user_router.post(\"/\", status_code=status.HTTP_201_CREATED, response_model=sch.UserOut)\n",
    "def create_user(user: sch.UserCreate, db: Session=Depends(get_db)):\n",
    "\n",
    "    # has the password - user.password\n",
    "    # hashed_password = pwd_context.hash(user.password)\n",
    "    hashed_password = utl.hash(user.password)\n",
    "    user.password = hashed_password\n",
    "\n",
    "    new_user = dbm.User(**user.model_dump())\n",
    "    db.add(new_user)\n",
    "    db.commit()\n",
    "    db.refresh(new_user)\n",
    "    return new_user"
   ]
  }
 ],
 "metadata": {
  "kernelspec": {
   "display_name": "python3",
   "language": "python",
   "name": "python3"
  },
  "language_info": {
   "codemirror_mode": {
    "name": "ipython",
    "version": 3
   },
   "file_extension": ".py",
   "mimetype": "text/x-python",
   "name": "python",
   "nbconvert_exporter": "python",
   "pygments_lexer": "ipython3",
   "version": "3.10.12"
  }
 },
 "nbformat": 4,
 "nbformat_minor": 4
}
