{
 "cells": [
  {
   "cell_type": "markdown",
   "metadata": {},
   "source": [
    "# dbmodels\n",
    "\n",
    "> Contains the models for the database."
   ]
  },
  {
   "cell_type": "code",
   "execution_count": 3,
   "metadata": {},
   "outputs": [],
   "source": [
    "#| default_exp dbmodels"
   ]
  },
  {
   "cell_type": "code",
   "execution_count": 4,
   "metadata": {},
   "outputs": [
    {
     "name": "stdout",
     "output_type": "stream",
     "text": [
      "/home/uts/aishiftscheduler/.venv/bin/python\n"
     ]
    }
   ],
   "source": [
    "!which python"
   ]
  },
  {
   "cell_type": "code",
   "execution_count": 5,
   "metadata": {},
   "outputs": [
    {
     "name": "stdout",
     "output_type": "stream",
     "text": [
      "Python 3.10.12\n"
     ]
    }
   ],
   "source": [
    "!python --version"
   ]
  },
  {
   "cell_type": "code",
   "execution_count": 6,
   "metadata": {},
   "outputs": [],
   "source": [
    "# Set up autoreload\n",
    "%load_ext autoreload\n",
    "%autoreload 2"
   ]
  },
  {
   "cell_type": "code",
   "execution_count": 7,
   "metadata": {},
   "outputs": [],
   "source": [
    "#| hide\n",
    "from nbdev.showdoc import *"
   ]
  },
  {
   "cell_type": "code",
   "execution_count": 8,
   "metadata": {},
   "outputs": [],
   "source": [
    "# !pip install psycopg2"
   ]
  },
  {
   "cell_type": "code",
   "execution_count": 10,
   "metadata": {},
   "outputs": [
    {
     "name": "stdout",
     "output_type": "stream",
     "text": [
      "/home/uts/aishiftscheduler/aishiftscheduler/shift_scheduler_data.xlsx\n",
      "/home/uts/aishiftscheduler/aishiftscheduler/best_theta_data.xlsx\n",
      "/home/uts/aishiftscheduler/aishiftscheduler/AIShiftScheduler1.png\n",
      "\n",
      "len(thNAMES)=5\n",
      "thNAMES=['thCumSlots', 'thSickProb', 'thCumMerits', 'thContSlots', 'thSelect']\n"
     ]
    }
   ],
   "source": [
    "#| export\n",
    "# from collections import defaultdict\n",
    "# import numpy as np\n",
    "# import pandas as pd\n",
    "# import matplotlib as mpl\n",
    "# import matplotlib.pyplot as plt\n",
    "# from copy import copy\n",
    "# import time\n",
    "# import math\n",
    "# from pprint import pprint\n",
    "# import ray\n",
    "# import json\n",
    "# from io import StringIO\n",
    "# import aishiftscheduler.loader as ldr\n",
    "# import aishiftscheduler.config as cf\n",
    "# import aishiftscheduler.visualization as vis\n",
    "# import aishiftscheduler.model as mod\n",
    "# import aishiftscheduler.policy as pol\n",
    "# import aishiftscheduler.inferencer as inf\n",
    "# import aishiftscheduler.trainer as trn\n",
    "# import aishiftscheduler.evaluator as evl\n",
    "# import aishiftscheduler.parameters as par\n",
    "# from PIL import Image\n",
    "# import aishiftscheduler.utils as utl\n",
    "# from fastapi import FastAPI, Response, status, HTTPException, Depends\n",
    "# from pydantic import BaseModel\n",
    "# from fastapi.middleware.cors import CORSMiddleware\n",
    "# from fastapi.params import Body\n",
    "# from random import randrange\n",
    "# import psycopg2\n",
    "# from psycopg2.extras import RealDictCursor"
   ]
  },
  {
   "cell_type": "code",
   "execution_count": null,
   "metadata": {},
   "outputs": [],
   "source": [
    "#| export\n",
    "# models.py from tut\n",
    "from aishiftscheduler.production import Base\n",
    "from sqlalchemy import Column, Integer, String\n",
    "from sqlalchemy.sql.expression import text\n",
    "from sqlalchemy.sql.sqltypes import TIMESTAMP\n",
    "\n",
    "class UserInput(Base):\n",
    "    __tablename__ = \"userinputs\"\n",
    "\n",
    "    id = Column(Integer, primary_key=True, nullable=False)\n",
    "    start = Column(String, nullable=False)\n",
    "    slots_per_day = Column(Integer, nullable=False)\n",
    "    max_daily_slot_run = Column(Integer, nullable=False)\n",
    "    resources = Column(String, nullable=False)\n",
    "    demands_per_busyness = Column(String, nullable=False)\n",
    "    demands_per_volume = Column(String, nullable=False)\n",
    "    demands_per_revenue = Column(String, nullable=False)\n",
    "    resource_expenses = Column(String, nullable=False)\n",
    "    created_at = Column(TIMESTAMP(timezone=True), nullable=False, server_default=text('now()'))\n",
    "\n",
    "# Base.metadata.create_all(bind=engine)\n",
    "\n",
    "# def get_db():\n",
    "#     db = SessionLocal()\n",
    "#     try:\n",
    "#         yield db\n",
    "#     finally:\n",
    "#         db.close()"
   ]
  }
 ],
 "metadata": {
  "kernelspec": {
   "display_name": "python3",
   "language": "python",
   "name": "python3"
  },
  "language_info": {
   "codemirror_mode": {
    "name": "ipython",
    "version": 3
   },
   "file_extension": ".py",
   "mimetype": "text/x-python",
   "name": "python",
   "nbconvert_exporter": "python",
   "pygments_lexer": "ipython3",
   "version": "3.10.12"
  }
 },
 "nbformat": 4,
 "nbformat_minor": 4
}
