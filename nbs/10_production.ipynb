{
 "cells": [
  {
   "cell_type": "markdown",
   "metadata": {},
   "source": [
    "# production\n",
    "\n",
    "> Contains the production flow."
   ]
  },
  {
   "cell_type": "code",
   "execution_count": 6,
   "metadata": {},
   "outputs": [],
   "source": [
    "#| default_exp production"
   ]
  },
  {
   "cell_type": "code",
   "execution_count": 7,
   "metadata": {},
   "outputs": [
    {
     "name": "stdout",
     "output_type": "stream",
     "text": [
      "/home/uts/aishiftscheduler/.venv/bin/python\n"
     ]
    }
   ],
   "source": [
    "!which python"
   ]
  },
  {
   "cell_type": "code",
   "execution_count": 8,
   "metadata": {},
   "outputs": [
    {
     "name": "stdout",
     "output_type": "stream",
     "text": [
      "Python 3.10.12\n"
     ]
    }
   ],
   "source": [
    "!python --version"
   ]
  },
  {
   "cell_type": "code",
   "execution_count": 9,
   "metadata": {},
   "outputs": [],
   "source": [
    "# Set up autoreload\n",
    "%load_ext autoreload\n",
    "%autoreload 2"
   ]
  },
  {
   "cell_type": "code",
   "execution_count": 10,
   "metadata": {},
   "outputs": [],
   "source": [
    "#| hide\n",
    "from nbdev.showdoc import *"
   ]
  },
  {
   "cell_type": "code",
   "execution_count": 11,
   "metadata": {},
   "outputs": [],
   "source": [
    "# !pip install psycopg2"
   ]
  },
  {
   "cell_type": "code",
   "execution_count": 15,
   "metadata": {},
   "outputs": [
    {
     "name": "stderr",
     "output_type": "stream",
     "text": [
      "/tmp/ipykernel_7686/3652071369.py:44: MovedIn20Warning: The ``declarative_base()`` function is now available as sqlalchemy.orm.declarative_base(). (deprecated since: 2.0) (Background on SQLAlchemy 2.0 at: https://sqlalche.me/e/b8d9)\n",
      "  Base = declarative_base()\n"
     ]
    },
    {
     "name": "stdout",
     "output_type": "stream",
     "text": [
      "Database connection was successful!\n",
      "\n",
      "len(self.RESOURCE_TYPES)=3\n",
      "['Manager', 'AssistMngr', 'RetailAssoc']\n",
      "\n",
      "len(self.TYPES)=13\n",
      "['Manager', 'AssistMngr', 'AssistMngr', 'RetailAssoc', 'RetailAssoc', 'RetailAssoc', 'RetailAssoc', 'RetailAssoc', 'RetailAssoc', 'RetailAssoc', 'RetailAssoc', 'RetailAssoc', 'RetailAssoc']\n",
      "len(self.aNAMES)=13\n",
      "['Manager_Matt', 'AssistMngr_Mike', 'AssistMngr_Tanner', 'RetailAssoc_Jake', 'RetailAssoc_James', 'RetailAssoc_Jane', 'RetailAssoc_John', 'RetailAssoc_Jim', 'RetailAssoc_Jenny', 'RetailAssoc_Jeremy', 'RetailAssoc_Judy', 'RetailAssoc_Julie', 'RetailAssoc_Jeffrey']\n",
      "\n",
      "len(self.bNAMES)=3\n",
      "['Manager', 'AssistMngr', 'RetailAssoc']\n",
      "\n",
      "len(self.abNAMES)=13\n",
      "['Manager_Matt___Manager', 'AssistMngr_Mike___AssistMngr', 'AssistMngr_Tanner___AssistMngr', 'RetailAssoc_Jake___RetailAssoc', 'RetailAssoc_James___RetailAssoc', 'RetailAssoc_Jane___RetailAssoc', 'RetailAssoc_John___RetailAssoc', 'RetailAssoc_Jim___RetailAssoc', 'RetailAssoc_Jenny___RetailAssoc', 'RetailAssoc_Jeremy___RetailAssoc', 'RetailAssoc_Judy___RetailAssoc', 'RetailAssoc_Julie___RetailAssoc', 'RetailAssoc_Jeffrey___RetailAssoc']\n",
      "\n",
      "self.SIM_MU_D={'Manager': 4, 'AssistMngr': 2, 'RetailAssoc': 2}\n",
      "\n",
      "self.SIM_EVENT_TIME_D={'Manager': None, 'AssistMngr': None, 'RetailAssoc': None}\n",
      "\n",
      "self.SIM_MU_DELTA_D={'Manager': None, 'AssistMngr': None, 'RetailAssoc': None}\n"
     ]
    }
   ],
   "source": [
    "#| export\n",
    "from collections import defaultdict\n",
    "import numpy as np\n",
    "import pandas as pd\n",
    "import matplotlib as mpl\n",
    "import matplotlib.pyplot as plt\n",
    "from copy import copy\n",
    "import time\n",
    "import math\n",
    "from pprint import pprint\n",
    "import ray\n",
    "import json\n",
    "from io import StringIO\n",
    "import aishiftscheduler.loader as ldr\n",
    "import aishiftscheduler.config as cf\n",
    "import aishiftscheduler.visualization as vis\n",
    "import aishiftscheduler.model as mod\n",
    "import aishiftscheduler.policy as pol\n",
    "import aishiftscheduler.inferencer as inf\n",
    "import aishiftscheduler.trainer as trn\n",
    "import aishiftscheduler.evaluator as evl\n",
    "import aishiftscheduler.parameters as par\n",
    "from PIL import Image\n",
    "import aishiftscheduler.utils as utl\n",
    "from typing import Optional, List\n",
    "from fastapi import FastAPI, Response, status, HTTPException, Depends\n",
    "from pydantic import BaseModel\n",
    "from fastapi.middleware.cors import CORSMiddleware\n",
    "from fastapi.params import Body\n",
    "from random import randrange\n",
    "import psycopg2\n",
    "from psycopg2.extras import RealDictCursor\n",
    "\n",
    "## sqlalchemy and ORM (database.py from tut)\n",
    "from sqlalchemy import create_engine\n",
    "from sqlalchemy.ext.declarative import declarative_base\n",
    "from sqlalchemy.orm import sessionmaker, Session\n",
    "SQLALCHEMY_DATABASE_URL = 'postgresql://postgres:p@localhost/sai_db2'\n",
    "engine = create_engine(SQLALCHEMY_DATABASE_URL)\n",
    "SessionLocal = sessionmaker(autocommit=False, autoflush=False, bind=engine)\n",
    "Base = declarative_base()\n",
    "\n",
    "import aishiftscheduler.dbmodels as dbm\n",
    "import aishiftscheduler.schemas as sch"
   ]
  },
  {
   "cell_type": "code",
   "execution_count": 13,
   "metadata": {},
   "outputs": [
    {
     "data": {
      "text/plain": [
       "('1.26.4', '2.0.3', '3.8.3', '2.9.3', '2.0.9')"
      ]
     },
     "execution_count": 13,
     "metadata": {},
     "output_type": "execute_result"
    }
   ],
   "source": [
    "np.__version__, pd.__version__, mpl.__version__, ray.__version__, json.__version__"
   ]
  },
  {
   "cell_type": "code",
   "execution_count": 14,
   "metadata": {},
   "outputs": [
    {
     "name": "stdout",
     "output_type": "stream",
     "text": [
      "fastapi                   0.110.0\n"
     ]
    }
   ],
   "source": [
    "!pip list|grep fastapi"
   ]
  },
  {
   "cell_type": "code",
   "execution_count": null,
   "metadata": {},
   "outputs": [
    {
     "name": "stdout",
     "output_type": "stream",
     "text": [
      "uvicorn                   0.27.1\n"
     ]
    }
   ],
   "source": [
    "!pip list|grep uvicorn"
   ]
  },
  {
   "cell_type": "code",
   "execution_count": null,
   "metadata": {},
   "outputs": [
    {
     "name": "stdout",
     "output_type": "stream",
     "text": [
      "/Users/kobus/aishiftscheduler/aishiftscheduler/shift_scheduler_data.xlsx\n",
      "/Users/kobus/aishiftscheduler/aishiftscheduler/best_theta_data.xlsx\n",
      "/Users/kobus/aishiftscheduler/aishiftscheduler/AIShiftScheduler1.png\n",
      "\n",
      "len(thNAMES)=5\n",
      "thNAMES=['thCumSlots', 'thSickProb', 'thCumMerits', 'thContSlots', 'thSelect']\n"
     ]
    }
   ],
   "source": [
    "#| export\n",
    "def prepare_schedule(pars):\n",
    "    start = time.time()\n",
    "    if 'TRAIN' in cf.MODES:\n",
    "        print('############################## TRAIN ##############################')\n",
    "        ## COMMENTED OUT TEMPORARILY FOR QUICKER TESTING\n",
    "        # L = 2 #5 #20 #10 #5 #2 #3 #2db #10pub\n",
    "        # T = 7*pars.SLOTS_PER_DAY #5 #7*96\n",
    "        # First_n_t = int(1.2*T)\n",
    "        # Last_n_t = int(1*T) ##make whole multiple of T to look better in chart\n",
    "        \n",
    "        # trn_Best_theta, trn_Worst_theta, trn_Df_first_n_t, trn_Df_last_n_t = \\\n",
    "        #     trn.train_schedule(L, T, First_n_t, Last_n_t, pars)\n",
    "        \n",
    "        # trn_Best_theta_df = pd.DataFrame({\n",
    "        #     'thCumSlots': [trn_Best_theta[0]], \n",
    "        #     'thSickProb': [trn_Best_theta[1]], \n",
    "        #     'thCumMerits': [trn_Best_theta[2]], \n",
    "        #     'thContSlots': [trn_Best_theta[3]],\n",
    "        #     'thSelect': [trn_Best_theta[4]]\n",
    "        # })\n",
    "        # ldr.save_best_theta(cf.PATH_best_theta_data, trn_Best_theta_df)\n",
    "\n",
    "        # print(f'{trn_Best_theta=}')\n",
    "        # print(f'{trn_Df_first_n_t.shape=}')\n",
    "\n",
    "    if 'EVALU' in cf.MODES:\n",
    "        print('############################## EVALU ##############################')\n",
    "        ## COMMENTED OUT TEMPORARILY FOR QUICKER TESTING\n",
    "        # L = 2 #20 #5 #2 #2db #10pub\n",
    "        # T = 7*pars.SLOTS_PER_DAY #=672\n",
    "        # First_n_t = int(.11*L*T)\n",
    "        \n",
    "        # evl_Best_theta_opt, evl_Worst_theta_opt, evl_Df_opt = \\\n",
    "        #     evl.evalu_schedule_opt(L, T, First_n_t, trn_Best_theta, pars)\n",
    "        # print(f'{evl_Best_theta_opt=}')\n",
    "        # print(f'{evl_Df_opt.shape=}')\n",
    "    \n",
    "        # evl_Best_theta_non, evl_Worst_theta_non, evl_Df_non = \\\n",
    "        #     evl.evalu_schedule_non(L, T, First_n_t, trn_Worst_theta, pars)\n",
    "        # print(f'{evl_Best_theta_non=}')\n",
    "        # print(f'{evl_Df_non.shape=}')\n",
    "\n",
    "        # ## single sample-path\n",
    "        # L = 1 #20 #5 #2 #2db #10pub\n",
    "        # T = 7*pars.SLOTS_PER_DAY #=672\n",
    "        # First_n_t = int(1*L*T)\n",
    "        \n",
    "        # evl_Best_theta_opt, evl_Worst_theta_opt, evl_Df_opt = \\\n",
    "        #     evl.evalu_schedule_opt(L, T, First_n_t, trn_Best_theta, pars)\n",
    "        # print(f'{evl_Best_theta_opt=}')\n",
    "        # print(f'{evl_Df_opt.shape=}')\n",
    "    \n",
    "        # evl_Best_theta_non, evl_Worst_theta_non, evl_Df_non = \\\n",
    "        #     evl.evalu_schedule_non(L, T, First_n_t, trn_Worst_theta, pars)\n",
    "        # print(f'{evl_Best_theta_non=}')\n",
    "        # print(f'{evl_Df_non.shape=}')\n",
    "\n",
    "        # print(evl_Df_opt[evl_Df_opt['t']==T-1][['Ccum']])\n",
    "        # print(evl_Df_non[evl_Df_non['t']==T-1][['Ccum']])\n",
    "        \n",
    "    if 'INFER' in cf.MODES:\n",
    "        print('############################## INFER ##############################')\n",
    "        L = 1\n",
    "        T = 7*pars.SLOTS_PER_DAY\n",
    "        First_n_t = int(1*L*T)\n",
    "    \n",
    "        stored_best_theta_tuple = ldr.load_best_theta(cf.PATH_best_theta_data)\n",
    "        stored_best_theta = pol.Policy(None).build_theta({\n",
    "            'thCumSlots': stored_best_theta_tuple[0],\n",
    "            'thSickProb': stored_best_theta_tuple[1],\n",
    "            'thCumMerits': stored_best_theta_tuple[2],\n",
    "            'thContSlots': stored_best_theta_tuple[3],\n",
    "            'thSelect': stored_best_theta_tuple[4]\n",
    "            })\n",
    "        \n",
    "        inf_Best_theta_evalu_opt, inf_Df_evalu_opt, prepped_sched = \\\n",
    "            inf.infer_schedule(L, T, First_n_t, stored_best_theta, pars)\n",
    "    \n",
    "        print(f'{inf_Best_theta_evalu_opt=}')\n",
    "        print(f'{inf_Df_evalu_opt.shape=}')\n",
    "        ## print(f'{prepped_sched=}')\n",
    "        utl.print_schedule_shifts(inf_Df_evalu_opt, pars)\n",
    "        ## utl.print_schedule_slots(inf_Df_evalu_opt, pars)\n",
    "    end = time.time(); print(f'EXECUTION TIME: {end - start} seconds')\n",
    "    return prepped_sched"
   ]
  },
  {
   "cell_type": "code",
   "execution_count": null,
   "metadata": {},
   "outputs": [],
   "source": [
    "#| export\n",
    "## Update the Parameters instance, `Pars` with the latest user input.\n",
    "def update_parameters_from_user_input(pars, user_input):\n",
    "  error = None \n",
    "  pars.START_DATE_TIME = user_input.start\n",
    "  sd = pd.to_datetime(user_input.start)\n",
    "  if not sd.strftime('%a')=='Mon':\n",
    "    error = f\"ERROR: {user_input.start} is a {sd.strftime('%A')}. It should be a Monday.\"\n",
    "    print(error)\n",
    "    return error\n",
    "  for_now_sd = pd.to_datetime('2023-12-04')\n",
    "  if not sd==for_now_sd:\n",
    "    error = f\"ERROR: Start date must be {for_now_sd} for now.\"\n",
    "    print(error) \n",
    "    return error\n",
    "\n",
    "  spd = int(user_input.slots_per_day)\n",
    "  if not spd == 24:\n",
    "    error = f\"ERROR: Slots per day must be 24 for now.\"\n",
    "    print(error)\n",
    "    return error\n",
    "  pars.SLOTS_PER_DAY = spd\n",
    "  \n",
    "  mdsr = int(user_input.max_daily_slot_run)\n",
    "  if not mdsr <= spd:\n",
    "    error = f\"ERROR: 'Max daily slot run' must be less than or equal to 'Slots per day'\"\n",
    "    print(error)\n",
    "    return error\n",
    "  pars.MAX_DAILY_SLOT_RUN = mdsr\n",
    "\n",
    "  resource_type_and_ids = user_input.resources.split(';')\n",
    "  resource_types = []\n",
    "  resource_ids = []\n",
    "  resource_type_counts = []\n",
    "  for itm in resource_type_and_ids:\n",
    "      res_type, res_ids = itm.split(':')\n",
    "      resource_types.append(res_type.strip())\n",
    "      sep_ids = res_ids.split(','); ##print(f'{sep_ids=}')\n",
    "      for rid in sep_ids:\n",
    "          resource_ids.append(rid.strip())\n",
    "      resource_type_counts.append(len(sep_ids))\n",
    "  print(f'{resource_types=}')\n",
    "  print(f'{resource_type_counts=}')\n",
    "  print(f'{resource_ids=}')\n",
    "  if len(resource_types) > cf.MAX_RESOURCE_TYPES:\n",
    "    error = f\"ERROR: The number of resource types should not exceed {cf.MAX_RESOURCE_TYPES}.\\nYou entered the following resource types: {resource_types}\"\n",
    "    print(error)\n",
    "    return error\n",
    "  if len(resource_ids) > cf.MAX_RESOURCE_IDS:\n",
    "    error = f\"ERROR: The number of resources should not exceed {cf.MAX_RESOURCE_IDS}.\\nYou entered the following resources: {resource_ids}\"\n",
    "    print(error)\n",
    "    return error\n",
    "  pars.RESOURCE_TYPES = resource_types; print(f'{pars.RESOURCE_TYPES=}')\n",
    "  pars.RESOURCE_TYPE_COUNTS = resource_type_counts; print(f'{pars.RESOURCE_TYPE_COUNTS=}')\n",
    "  pars.TYPES = []\n",
    "  for i in range(len(pars.RESOURCE_TYPES)):\n",
    "    additional_types = [pars.RESOURCE_TYPES[i]]*pars.RESOURCE_TYPE_COUNTS[i]\n",
    "    for item in additional_types:\n",
    "      pars.TYPES.append(item)\n",
    "  print(f'{pars.TYPES=}')\n",
    "  pars.RESOURCE_IDS = resource_ids; print(f'{pars.RESOURCE_TYPE_COUNTS=}')\n",
    "\n",
    "  rates = user_input.demands_per_busyness.split(',')\n",
    "  if '' in rates:\n",
    "    error = f\"ERROR: There should be a demand-per-busyness for each resource type (role).\\nYou entered the following values: {demands_per_busyness}\"\n",
    "    print(error)\n",
    "    return error\n",
    "  rates = list(map(lambda x: float(x), rates))\n",
    "  print(f'{rates=}')\n",
    "  if len(rates) != len(pars.RESOURCE_TYPES):\n",
    "    error = f\"ERROR: The number of demands-per-busyness should be the same as the number of resource types (roles).\\nYou entered the following values: {demands_per_busyness}\"\n",
    "    print(error)\n",
    "    return error\n",
    "  pars.DEMANDS_PER_BUSYNESS = rates\n",
    "  pars.DEMAND_PER_BUSYNESS = {e: pars.DEMANDS_PER_BUSYNESS[i] for i,e in enumerate(pars.RESOURCE_TYPES)}\n",
    "\n",
    "  rates = user_input.demands_per_volume.split(',')\n",
    "  if '' in rates:\n",
    "    error = f\"ERROR: There should be a demand-per-volume for each resource type (role).\\nYou entered the following values: {demands_per_volume}\"\n",
    "    print(error)\n",
    "    return error\n",
    "  rates = list(map(lambda x: float(x), rates))\n",
    "  print(f'{rates=}')\n",
    "  if len(rates) != len(pars.RESOURCE_TYPES):\n",
    "    error = f\"ERROR: The number of demands-per-volume should be the same as the number of resource types (roles).\\nYou entered the following values: {demands_per_volume}\"\n",
    "    print(error)\n",
    "    return error\n",
    "  pars.DEMANDS_PER_VOLUME = rates\n",
    "  pars.DEMAND_PER_VOLUME = {e: pars.DEMANDS_PER_VOLUME[i] for i,e in enumerate(pars.RESOURCE_TYPES)}\n",
    "\n",
    "  rates = user_input.demands_per_revenue.split(',')\n",
    "  if '' in rates:\n",
    "    error = f\"ERROR: There should be a demand-per-revenue for each resource type (role).\\nYou entered the following values: {demands_per_revenue}\"\n",
    "    print(error)\n",
    "    return error\n",
    "  rates = list(map(lambda x: float(x), rates))\n",
    "  print(f'{rates=}')\n",
    "  if len(rates) != len(pars.RESOURCE_TYPES):\n",
    "    error = f\"ERROR: The number of demands-per-revenue should be the same as the number of resource types (roles).\\nYou entered the following values: {demands_per_revenue}\"\n",
    "    print(error)\n",
    "    return error\n",
    "  pars.DEMANDS_PER_REVENUE = rates\n",
    "  pars.DEMAND_PER_REVENUE = {e: pars.DEMANDS_PER_REVENUE[i] for i,e in enumerate(pars.RESOURCE_TYPES)}\n",
    "\n",
    "  expenses = user_input.resource_expenses.split(',')\n",
    "  if '' in expenses:\n",
    "    error = f\"ERROR: There should be a resource expense for each resource type (role).\\nYou entered the following values: {resource_expenses}\"\n",
    "    print(error)\n",
    "    return error  \n",
    "  expenses = list(map(lambda x: float(x), expenses))\n",
    "  print(f'{expenses=}')\n",
    "  if len(expenses) != len(pars.RESOURCE_TYPES):\n",
    "    error = f\"ERROR: The number of resource expenses should be the same as the number of resource types (roles).\\nYou entered the following values: {resource_expenses}\"\n",
    "    print(error)\n",
    "    return error\n",
    "  pars.RESOURCE_EXPENSES = expenses\n",
    "  pars.RESOURCE_EXPENSE = {e: pars.RESOURCE_EXPENSES[i] for i,e in enumerate(pars.RESOURCE_TYPES)}\n",
    "\n",
    "  pars.aNAMES = [tup[0]+'_'+tup[1] for tup in zip(pars.TYPES, pars.RESOURCE_IDS)]; print(f'{pars.aNAMES=}')\n",
    "  pars.bNAMES = pars.RESOURCE_TYPES; print(f'{pars.bNAMES=}')\n",
    "  pars.abNAMES = [] ##to DEMAND b\n",
    "  for a in pars.aNAMES:\n",
    "    a0,a1 = a.split('_')\n",
    "    for b in pars.bNAMES:\n",
    "      if(a0==b):\n",
    "        abn = (a + '___' + b)\n",
    "        pars.abNAMES.append(abn)\n",
    "  print(f'{pars.abNAMES=}')\n",
    "  pars.LABELS = pars.setup_plot_labels()\n",
    "  return error"
   ]
  },
  {
   "cell_type": "code",
   "execution_count": null,
   "metadata": {},
   "outputs": [],
   "source": [
    "# #| export\n",
    "# class UserInput(BaseModel):\n",
    "#     start: str\n",
    "#     slots_per_day: int\n",
    "#     max_daily_slot_run: int\n",
    "#     resources: str\n",
    "#     demands_per_busyness: str\n",
    "#     demands_per_volume: str\n",
    "#     demands_per_revenue: str\n",
    "#     resource_expenses: str"
   ]
  },
  {
   "cell_type": "code",
   "execution_count": null,
   "metadata": {},
   "outputs": [],
   "source": [
    "#| export\n",
    "## db stuff\n",
    "import time\n",
    "while True:\n",
    "    try:\n",
    "        conn = psycopg2.connect(host='localhost', database='sai_db2', user='postgres', password='p', cursor_factory=RealDictCursor)\n",
    "        cursor = conn.cursor()\n",
    "        print(\"Database connection was successful!\")\n",
    "        break\n",
    "    except Exception as error:\n",
    "        print(\"Connecting to database failed\")\n",
    "        print(\"Error: \", error)       \n",
    "        time.sleep(2)"
   ]
  },
  {
   "cell_type": "code",
   "execution_count": null,
   "metadata": {},
   "outputs": [],
   "source": [
    "#| export\n",
    "# class ParamConfig():#will be copy of Parameters class\n",
    "# class UserInput():\n",
    "#     pass"
   ]
  },
  {
   "cell_type": "code",
   "execution_count": null,
   "metadata": {},
   "outputs": [],
   "source": [
    "# ############################################################\n",
    "# #################### FLOW STARTS ###########################\n",
    "# ############################################################"
   ]
  },
  {
   "cell_type": "code",
   "execution_count": null,
   "metadata": {},
   "outputs": [],
   "source": [
    "#| export\n",
    "app = FastAPI()\n",
    "\n",
    "## allow all origins\n",
    "app.add_middleware(\n",
    "    CORSMiddleware,\n",
    "    allow_origins=[\"*\"],\n",
    "    allow_credentials=False,\n",
    "    allow_methods=[\"GET\", \"POST\", \"PUT\", \"DELETE\"],\n",
    "    allow_headers=[\"*\"],\n",
    ")"
   ]
  },
  {
   "cell_type": "code",
   "execution_count": null,
   "metadata": {},
   "outputs": [],
   "source": [
    "#| export\n",
    "Base.metadata.create_all(bind=engine)\n",
    "\n",
    "def get_db():\n",
    "    db = SessionLocal()\n",
    "    try:\n",
    "        yield db\n",
    "    finally:\n",
    "        db.close()"
   ]
  },
  {
   "cell_type": "code",
   "execution_count": null,
   "metadata": {},
   "outputs": [],
   "source": [
    "#| export\n",
    "my_userinputs = [{\n",
    "    \"start\": \"2023-12-04\",\n",
    "    \"slots_per_day\": 24,\n",
    "    \"max_daily_slot_run\": 9,\n",
    "    \"resources\": \"Manager: Matt; AssistMngr: Mike, Tanner; RetailAssoc: Jake, James, Jane, John, Jim, Jenny, Jeremy, Judy, Julie, Jeffrey\",\n",
    "    \"demands_per_busyness\": \"0.005, 0.008, 0.02\",\n",
    "    \"demands_per_volume\": \"0.03, 0.08, 0.2\",\n",
    "    \"demands_per_revenue\": \"0.00005, 0.0001, 0.0008\",\n",
    "    \"resource_expenses\": \"25.0, 20.0, 18.0\",\n",
    "    \"id\": 1\n",
    "    },\n",
    "    {\n",
    "    \"start\": \"2023-12-11\",\n",
    "    \"slots_per_day\": 24,\n",
    "    \"max_daily_slot_run\": 8,\n",
    "    \"resources\": \"Manager: Allen; AssistMngr: Rochelle; GroceryManager: Dave; Nightcrew: Brian, Nas, Camden\",\n",
    "    \"demands_per_busyness\": \"0.009, 0.006, 0.008, 0.03\",\n",
    "    \"demands_per_volume\": \"0.08, 0.05, 0.02, 0.7\",\n",
    "    \"demands_per_revenue\": \"0.00003, 0.0002, 0.0003, 0.0001\",\n",
    "    \"resource_expenses\": \"50.0, 40.0, 30.0, 25.0\",\n",
    "    \"id\": 2\n",
    "    }\n",
    "]"
   ]
  },
  {
   "cell_type": "code",
   "execution_count": null,
   "metadata": {},
   "outputs": [],
   "source": [
    "#| export\n",
    "def find_userinput(id):\n",
    "    for ui in my_userinputs:\n",
    "        if ui[\"id\"] == id:\n",
    "            return ui"
   ]
  },
  {
   "cell_type": "code",
   "execution_count": null,
   "metadata": {},
   "outputs": [],
   "source": [
    "#| export\n",
    "def find_index_userinput(id):\n",
    "    for i, ui in enumerate(my_userinputs):\n",
    "        if ui['id'] == id:\n",
    "            return i"
   ]
  },
  {
   "cell_type": "code",
   "execution_count": null,
   "metadata": {},
   "outputs": [],
   "source": [
    "#| export\n",
    "@app.get(\"/\")\n",
    "def root():\n",
    "    return \"BusinessN AI Scheduler API v1.0.0\""
   ]
  },
  {
   "cell_type": "code",
   "execution_count": null,
   "metadata": {},
   "outputs": [],
   "source": [
    "#| export\n",
    "@app.get(\"/userinputs\", response_model=List[sch.UserInput])\n",
    "def get_userinputs(db: Session=Depends(get_db)):\n",
    "    userinputs = db.query(dbm.UserInput).all()\n",
    "    # return {\"data\": userinputs}\n",
    "    return userinputs"
   ]
  },
  {
   "cell_type": "code",
   "execution_count": null,
   "metadata": {},
   "outputs": [],
   "source": [
    "#| export\n",
    "@app.post(\"/userinputs\", status_code=status.HTTP_201_CREATED, response_model=sch.UserInput)\n",
    "def create_userinputs(userinput: sch.UserInputCreate, db: Session = Depends(get_db)):\n",
    "    new_userinput = dbm.UserInput(**userinput.model_dump())\n",
    "    db.add(new_userinput)\n",
    "    db.commit()\n",
    "    db.refresh(new_userinput)\n",
    "\n",
    "    # return {\"data\": new_userinput}\n",
    "    return new_userinput"
   ]
  },
  {
   "cell_type": "code",
   "execution_count": null,
   "metadata": {},
   "outputs": [],
   "source": [
    "#| export\n",
    "@app.get(\"/userinputs/{id}\", response_model=sch.UserInput)\n",
    "def get_userinput(id: int, db: Session = Depends(get_db)):\n",
    "    userinput = db.query(dbm.UserInput).filter(dbm.UserInput.id == id).first()\n",
    "    if not userinput:\n",
    "        raise HTTPException(status_code=status.HTTP_404_NOT_FOUND, detail=f\"userinput with id: {id} was not found\")\n",
    "    # return {\"userinput_detail\": userinput}\n",
    "    return userinput"
   ]
  },
  {
   "cell_type": "code",
   "execution_count": null,
   "metadata": {},
   "outputs": [],
   "source": [
    "#| export\n",
    "@app.delete(\"/userinputs/{id}\", status_code=status.HTTP_204_NO_CONTENT)\n",
    "def delete_userinput(id: int, db: Session = Depends(get_db)):\n",
    "    userinput = db.query(dbm.UserInput).filter(dbm.UserInput.id == id)\n",
    "    if userinput.first() == None:\n",
    "        raise HTTPException(status_code=status.HTTP_404_NOT_FOUND, detail=f\"userinput with id: {id} does not exist\")\n",
    "    userinput.delete(synchronize_session=False)\n",
    "    db.commit()\n",
    "\n",
    "    return Response(status_code=status.HTTP_204_NO_CONTENT)"
   ]
  },
  {
   "cell_type": "code",
   "execution_count": null,
   "metadata": {},
   "outputs": [],
   "source": [
    "#| export\n",
    "@app.put(\"/userinputs/{id}\", response_model=sch.UserInput)\n",
    "def update_userinput(id: int, updated_userinput: sch.UserInputUpdate, db: Session=Depends(get_db)):\n",
    "    userinput_query = db.query(dbm.UserInput).filter(dbm.UserInput.id == id)\n",
    "    userinput = userinput_query.first()\n",
    "    if userinput == None:\n",
    "        raise HTTPException(\n",
    "            status_code=status.HTTP_404_NOT_FOUND, \n",
    "            detail=f\"userinput with id: {id} does not exist\")\n",
    "    \n",
    "    userinput_query.update(updated_userinput.model_dump(), synchronize_session=False)\n",
    "\n",
    "    db.commit()\n",
    "    # return {'data': userinput_query.first()}\n",
    "    return userinput_query.first()"
   ]
  },
  {
   "cell_type": "code",
   "execution_count": null,
   "metadata": {},
   "outputs": [],
   "source": [
    "#| export\n",
    "# dui = sch.UserInput(\n",
    "dui = sch.UserInputBase(\n",
    "  start=\"2023-12-04\", #2023-12-11\n",
    "  slots_per_day=24,\n",
    "  max_daily_slot_run=9, #8\n",
    "  resources=\"Manager: Matt; AssistMngr: Mike, Tanner; RetailAssoc: Jake, James, Jane, John, Jim, Jenny, Jeremy, Judy, Julie, Jeffrey\",\n",
    "  ## resources = 'Manager: Matt; AssistMngr: Mike, Tanner; RetailAssoc: Jake, James, Jane, John, Jim, Jenny, Jeremy, Judy, Julie',\n",
    "  ## resources = 'Manager: John, Penelope; SalesPerson: Sally, Sarah, Jim, Costa',\n",
    "  ## resources = 'SupChief: Ruan, Francine; Sup: Azra, Wendie, Penny, Sally',\n",
    "  ## resources = 'ChiefTeller: Ruan, Francine; Teller: Azra, Wendie, Penny, Sally',\n",
    "\n",
    "  ## demands_per_busyness = '.2, 4',\n",
    "  demands_per_busyness=\"0.005, 0.008, 0.02\",\n",
    "\n",
    "  ## demands_per_volume = '.02, .4',\n",
    "  demands_per_volume=\"0.03, 0.08, 0.2\",\n",
    "\n",
    "  ## demands_per_revenue = '.05, .8',\n",
    "  demands_per_revenue=\"0.00005, 0.0001, 0.0008\",\n",
    "\n",
    "  ## resource_expenses = '35.17, 23.85'\n",
    "  resource_expenses=\"25.0, 20.0, 18.0\",\n",
    ")"
   ]
  },
  {
   "cell_type": "code",
   "execution_count": null,
   "metadata": {},
   "outputs": [],
   "source": [
    "#| export\n",
    "@app.get(\"/defaultuserinput\")\n",
    "def get_default_user_input():\n",
    "    return {\n",
    "        \"start\": dui.start,\n",
    "        \"slots_per_day\": dui.slots_per_day,\n",
    "        \"max_daily_slot_run\": dui.max_daily_slot_run,\n",
    "        \"resources\": dui.resources,\n",
    "        \"demands_per_busyness\": dui.demands_per_busyness,\n",
    "        \"demands_per_volume\": dui.demands_per_volume,\n",
    "        \"demands_per_revenue\": dui.demands_per_revenue,\n",
    "        \"resource_expenses\": dui.resource_expenses\n",
    "    }"
   ]
  },
  {
   "cell_type": "code",
   "execution_count": null,
   "metadata": {},
   "outputs": [
    {
     "name": "stdout",
     "output_type": "stream",
     "text": [
      "\n",
      "len(self.RESOURCE_TYPES)=3\n",
      "['Manager', 'AssistMngr', 'RetailAssoc']\n",
      "\n",
      "len(self.TYPES)=13\n",
      "['Manager', 'AssistMngr', 'AssistMngr', 'RetailAssoc', 'RetailAssoc', 'RetailAssoc', 'RetailAssoc', 'RetailAssoc', 'RetailAssoc', 'RetailAssoc', 'RetailAssoc', 'RetailAssoc', 'RetailAssoc']\n",
      "len(self.aNAMES)=13\n",
      "['Manager_Matt', 'AssistMngr_Mike', 'AssistMngr_Tanner', 'RetailAssoc_Jake', 'RetailAssoc_James', 'RetailAssoc_Jane', 'RetailAssoc_John', 'RetailAssoc_Jim', 'RetailAssoc_Jenny', 'RetailAssoc_Jeremy', 'RetailAssoc_Judy', 'RetailAssoc_Julie', 'RetailAssoc_Jeffrey']\n",
      "\n",
      "len(self.bNAMES)=3\n",
      "['Manager', 'AssistMngr', 'RetailAssoc']\n",
      "\n",
      "len(self.abNAMES)=13\n",
      "['Manager_Matt___Manager', 'AssistMngr_Mike___AssistMngr', 'AssistMngr_Tanner___AssistMngr', 'RetailAssoc_Jake___RetailAssoc', 'RetailAssoc_James___RetailAssoc', 'RetailAssoc_Jane___RetailAssoc', 'RetailAssoc_John___RetailAssoc', 'RetailAssoc_Jim___RetailAssoc', 'RetailAssoc_Jenny___RetailAssoc', 'RetailAssoc_Jeremy___RetailAssoc', 'RetailAssoc_Judy___RetailAssoc', 'RetailAssoc_Julie___RetailAssoc', 'RetailAssoc_Jeffrey___RetailAssoc']\n",
      "\n",
      "self.SIM_MU_D={'Manager': 4, 'AssistMngr': 2, 'RetailAssoc': 2}\n",
      "\n",
      "self.SIM_EVENT_TIME_D={'Manager': None, 'AssistMngr': None, 'RetailAssoc': None}\n",
      "\n",
      "self.SIM_MU_DELTA_D={'Manager': None, 'AssistMngr': None, 'RetailAssoc': None}\n"
     ]
    }
   ],
   "source": [
    "#| export\n",
    "## Create a Parameter instance & initialize with default pars.\n",
    "## The `Pars` instance will be passed between various modules\n",
    "Pars = par.Parameters()"
   ]
  },
  {
   "cell_type": "code",
   "execution_count": null,
   "metadata": {},
   "outputs": [],
   "source": [
    "#| export\n",
    "@app.post(\"/schedule\")\n",
    "# def find_schedule(user_input: UserInput):\n",
    "def find_schedule(user_input: sch.UserInputBase):\n",
    "    error = update_parameters_from_user_input(Pars, user_input)\n",
    "    if error == None:\n",
    "        ## store latest user input to postgres\n",
    "        # TODO\n",
    "        sched = prepare_schedule(Pars)\n",
    "        ## prepare_schedule(Pars)\n",
    "        return sched\n",
    "    else:\n",
    "        return error"
   ]
  },
  {
   "cell_type": "code",
   "execution_count": null,
   "metadata": {},
   "outputs": [
    {
     "name": "stdout",
     "output_type": "stream",
     "text": [
      "/Users/kobus/aishiftscheduler/aishiftscheduler/shift_scheduler_data.xlsx\n",
      "/Users/kobus/aishiftscheduler/aishiftscheduler/best_theta_data.xlsx\n",
      "/Users/kobus/aishiftscheduler/aishiftscheduler/AIShiftScheduler1.png\n",
      "\n",
      "len(thNAMES)=5\n",
      "thNAMES=['thCumSlots', 'thSickProb', 'thCumMerits', 'thContSlots', 'thSelect']\n"
     ]
    }
   ],
   "source": [
    "## test\n",
    "## prepare_schedule(Pars)"
   ]
  },
  {
   "cell_type": "code",
   "execution_count": null,
   "metadata": {},
   "outputs": [
    {
     "name": "stdout",
     "output_type": "stream",
     "text": [
      "/Users/kobus/aishiftscheduler/aishiftscheduler/shift_scheduler_data.xlsx\n",
      "/Users/kobus/aishiftscheduler/aishiftscheduler/AIShiftScheduler1.png\n",
      "\n",
      "len(thNAMES)=5\n",
      "thNAMES=['thCumSlots', 'thSickProb', 'thCumMerits', 'thContSlots', 'thSelect']\n"
     ]
    }
   ],
   "source": [
    "#| hide\n",
    "import nbdev; nbdev.nbdev_export()"
   ]
  },
  {
   "cell_type": "code",
   "execution_count": null,
   "metadata": {},
   "outputs": [],
   "source": []
  }
 ],
 "metadata": {
  "kernelspec": {
   "display_name": "python3",
   "language": "python",
   "name": "python3"
  },
  "language_info": {
   "codemirror_mode": {
    "name": "ipython",
    "version": 3
   },
   "file_extension": ".py",
   "mimetype": "text/x-python",
   "name": "python",
   "nbconvert_exporter": "python",
   "pygments_lexer": "ipython3",
   "version": "3.10.12"
  }
 },
 "nbformat": 4,
 "nbformat_minor": 4
}
