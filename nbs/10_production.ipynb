{
 "cells": [
  {
   "cell_type": "markdown",
   "metadata": {},
   "source": [
    "# production\n",
    "\n",
    "> Contains the production flow."
   ]
  },
  {
   "cell_type": "code",
   "execution_count": null,
   "metadata": {},
   "outputs": [
    {
     "name": "stdout",
     "output_type": "stream",
     "text": [
      "/Users/kobus/aishiftscheduler/aishiftscheduler/shift_scheduler_data.xlsx\n",
      "/Users/kobus/aishiftscheduler/aishiftscheduler/AIShiftScheduler1.png\n",
      "\n",
      "len(thNAMES)=5\n",
      "thNAMES=['thCumSlots', 'thSickProb', 'thCumMerits', 'thContSlots', 'thSelect']\n"
     ]
    }
   ],
   "source": [
    "#| default_exp production"
   ]
  },
  {
   "cell_type": "code",
   "execution_count": null,
   "metadata": {},
   "outputs": [
    {
     "name": "stdout",
     "output_type": "stream",
     "text": [
      "/Users/kobus/aishiftscheduler/.venv/bin/python\n"
     ]
    }
   ],
   "source": [
    "!which python"
   ]
  },
  {
   "cell_type": "code",
   "execution_count": null,
   "metadata": {},
   "outputs": [
    {
     "name": "stdout",
     "output_type": "stream",
     "text": [
      "Python 3.10.0\n"
     ]
    }
   ],
   "source": [
    "!python --version"
   ]
  },
  {
   "cell_type": "code",
   "execution_count": null,
   "metadata": {},
   "outputs": [
    {
     "name": "stdout",
     "output_type": "stream",
     "text": [
      "The autoreload extension is already loaded. To reload it, use:\n",
      "  %reload_ext autoreload\n"
     ]
    }
   ],
   "source": [
    "# Set up autoreload\n",
    "%load_ext autoreload\n",
    "%autoreload 2"
   ]
  },
  {
   "cell_type": "code",
   "execution_count": null,
   "metadata": {},
   "outputs": [],
   "source": [
    "#| hide\n",
    "from nbdev.showdoc import *"
   ]
  },
  {
   "cell_type": "code",
   "execution_count": null,
   "metadata": {},
   "outputs": [],
   "source": [
    "#| export\n",
    "from collections import defaultdict\n",
    "import numpy as np\n",
    "import pandas as pd\n",
    "import matplotlib as mpl\n",
    "import matplotlib.pyplot as plt\n",
    "from copy import copy\n",
    "import time\n",
    "import math\n",
    "from pprint import pprint\n",
    "import ray\n",
    "import json\n",
    "from io import StringIO\n",
    "import aishiftscheduler.loader as ldr\n",
    "import aishiftscheduler.config as cf\n",
    "import aishiftscheduler.visualization as vis\n",
    "import aishiftscheduler.model as mod\n",
    "import aishiftscheduler.policy as pol\n",
    "import aishiftscheduler.inferencer as inf\n",
    "import aishiftscheduler.trainer as trn\n",
    "import aishiftscheduler.evaluator as evl\n",
    "import aishiftscheduler.parameters as par\n",
    "# from aishiftscheduler.core import print_schedule_shifts\n",
    "# from aishiftscheduler.core import print_schedule_slots\n",
    "from PIL import Image\n",
    "import aishiftscheduler.utils as utl\n",
    "from fastapi import FastAPI\n",
    "from pydantic import BaseModel"
   ]
  },
  {
   "cell_type": "code",
   "execution_count": null,
   "metadata": {},
   "outputs": [
    {
     "data": {
      "text/plain": [
       "('1.26.4', '2.0.3', '3.8.3', '2.9.3', '2.0.9')"
      ]
     },
     "execution_count": null,
     "metadata": {},
     "output_type": "execute_result"
    }
   ],
   "source": [
    "np.__version__, pd.__version__, mpl.__version__, ray.__version__, json.__version__"
   ]
  },
  {
   "cell_type": "code",
   "execution_count": null,
   "metadata": {},
   "outputs": [
    {
     "name": "stdout",
     "output_type": "stream",
     "text": [
      "fastapi                   0.110.0\n"
     ]
    }
   ],
   "source": [
    "!pip list|grep fastapi"
   ]
  },
  {
   "cell_type": "code",
   "execution_count": null,
   "metadata": {},
   "outputs": [
    {
     "name": "stdout",
     "output_type": "stream",
     "text": [
      "uvicorn                   0.27.1\n"
     ]
    }
   ],
   "source": [
    "!pip list|grep uvicorn"
   ]
  },
  {
   "cell_type": "code",
   "execution_count": null,
   "metadata": {},
   "outputs": [],
   "source": [
    "# #| export\n",
    "# # Update the Parameters instance, `Pars` with the latest user input.\n",
    "# # def update_parameters_from_user_input(\n",
    "# def update_parameters_from_user(\n",
    "#     pars,\n",
    "#     start, \n",
    "#     slots_per_day, \n",
    "#     max_daily_slot_run, \n",
    "#     resources, \n",
    "#     demands_per_busyness, \n",
    "#     demands_per_volume, \n",
    "#     demands_per_revenue, \n",
    "#     resource_expenses):\n",
    "    \n",
    "#   pars.START_DATE_TIME = start\n",
    "#   sd = pd.to_datetime(start)\n",
    "#   if not sd.strftime('%a')=='Mon':\n",
    "#     error = f\"ERROR: {start} is a {sd.strftime('%A')}. It should be a Monday.\"\n",
    "#     print(error)\n",
    "#     return error\n",
    "#   for_now_sd = pd.to_datetime('2023-12-04')\n",
    "#   if not sd==for_now_sd:\n",
    "#     error = f\"ERROR: Start date must be {for_now_sd} for now.\"\n",
    "#     print(error) \n",
    "#     return error\n",
    "\n",
    "#   spd = int(slots_per_day)\n",
    "#   if not spd == 24:\n",
    "#     error = f\"ERROR: Slots per day must be 24 for now.\"\n",
    "#     print(error)\n",
    "#     return error\n",
    "#   pars.SLOTS_PER_DAY = spd\n",
    "  \n",
    "#   mdsr = int(max_daily_slot_run)\n",
    "#   if not mdsr <= spd:\n",
    "#     error = f\"ERROR: 'Max daily slot run' must be less than or equal to 'Slots per day'\"\n",
    "#     print(error)\n",
    "#     return error\n",
    "#   pars.MAX_DAILY_SLOT_RUN = mdsr\n",
    "\n",
    "#   resource_type_and_ids = resources.split(';')\n",
    "#   resource_types = []\n",
    "#   resource_ids = []\n",
    "#   resource_type_counts = []\n",
    "#   for itm in resource_type_and_ids:\n",
    "#       res_type, res_ids = itm.split(':')\n",
    "#       resource_types.append(res_type.strip())\n",
    "#       sep_ids = res_ids.split(','); ##print(f'{sep_ids=}')\n",
    "#       for rid in sep_ids:\n",
    "#           resource_ids.append(rid.strip())\n",
    "#       resource_type_counts.append(len(sep_ids))\n",
    "#   print(f'{resource_types=}')\n",
    "#   print(f'{resource_type_counts=}')\n",
    "#   print(f'{resource_ids=}')\n",
    "#   if len(resource_types) > cf.MAX_RESOURCE_TYPES:\n",
    "#     error = f\"ERROR: The number of resource types should not exceed {cf.MAX_RESOURCE_TYPES}.\\nYou entered the following resource types: {resource_types}\"\n",
    "#     print(error)\n",
    "#     return error\n",
    "#   if len(resource_ids) > cf.MAX_RESOURCE_IDS:\n",
    "#     error = f\"ERROR: The number of resources should not exceed {cf.MAX_RESOURCE_IDS}.\\nYou entered the following resources: {resource_ids}\"\n",
    "#     print(error)\n",
    "#     return error\n",
    "#   pars.RESOURCE_TYPES = resource_types; print(f'{pars.RESOURCE_TYPES=}')\n",
    "#   pars.RESOURCE_TYPE_COUNTS = resource_type_counts; print(f'{pars.RESOURCE_TYPE_COUNTS=}')\n",
    "#   pars.TYPES = []\n",
    "#   for i in range(len(pars.RESOURCE_TYPES)):\n",
    "#     additional_types = [pars.RESOURCE_TYPES[i]]*pars.RESOURCE_TYPE_COUNTS[i]\n",
    "#     for item in additional_types:\n",
    "#       pars.TYPES.append(item)\n",
    "#   print(f'{pars.TYPES=}')\n",
    "#   pars.RESOURCE_IDS = resource_ids; print(f'{pars.RESOURCE_TYPE_COUNTS=}')\n",
    "\n",
    "#   rates = demands_per_busyness.split(',')\n",
    "#   if '' in rates:\n",
    "#     error = f\"ERROR: There should be a demand-per-busyness for each resource type (role).\\nYou entered the following values: {demands_per_busyness}\"\n",
    "#     print(error)\n",
    "#     return error\n",
    "#   rates = list(map(lambda x: float(x), rates))\n",
    "#   print(f'{rates=}')\n",
    "#   if len(rates) != len(pars.RESOURCE_TYPES):\n",
    "#     error = f\"ERROR: The number of demands-per-busyness should be the same as the number of resource types (roles).\\nYou entered the following values: {demands_per_busyness}\"\n",
    "#     print(error)\n",
    "#     return error\n",
    "#   pars.DEMANDS_PER_BUSYNESS = rates\n",
    "#   pars.DEMAND_PER_BUSYNESS = {e: pars.DEMANDS_PER_BUSYNESS[i] for i,e in enumerate(pars.RESOURCE_TYPES)}\n",
    "\n",
    "#   rates = demands_per_volume.split(',')\n",
    "#   if '' in rates:\n",
    "#     error = f\"ERROR: There should be a demand-per-volume for each resource type (role).\\nYou entered the following values: {demands_per_volume}\"\n",
    "#     print(error)\n",
    "#     return error\n",
    "#   rates = list(map(lambda x: float(x), rates))\n",
    "#   print(f'{rates=}')\n",
    "#   if len(rates) != len(pars.RESOURCE_TYPES):\n",
    "#     error = f\"ERROR: The number of demands-per-volume should be the same as the number of resource types (roles).\\nYou entered the following values: {demands_per_volume}\"\n",
    "#     print(error)\n",
    "#     return error\n",
    "#   pars.DEMANDS_PER_VOLUME = rates\n",
    "#   pars.DEMAND_PER_VOLUME = {e: pars.DEMANDS_PER_VOLUME[i] for i,e in enumerate(pars.RESOURCE_TYPES)}\n",
    "\n",
    "#   rates = demands_per_revenue.split(',')\n",
    "#   if '' in rates:\n",
    "#     error = f\"ERROR: There should be a demand-per-revenue for each resource type (role).\\nYou entered the following values: {demands_per_revenue}\"\n",
    "#     print(error)\n",
    "#     return error\n",
    "#   rates = list(map(lambda x: float(x), rates))\n",
    "#   print(f'{rates=}')\n",
    "#   if len(rates) != len(pars.RESOURCE_TYPES):\n",
    "#     error = f\"ERROR: The number of demands-per-revenue should be the same as the number of resource types (roles).\\nYou entered the following values: {demands_per_revenue}\"\n",
    "#     print(error)\n",
    "#     return error\n",
    "#   pars.DEMANDS_PER_REVENUE = rates\n",
    "#   pars.DEMAND_PER_REVENUE = {e: pars.DEMANDS_PER_REVENUE[i] for i,e in enumerate(pars.RESOURCE_TYPES)}\n",
    "\n",
    "#   expenses = resource_expenses.split(',')\n",
    "#   if '' in expenses:\n",
    "#     error = f\"ERROR: There should be a resource expense for each resource type (role).\\nYou entered the following values: {resource_expenses}\"\n",
    "#     print(error)\n",
    "#     return error  \n",
    "#   expenses = list(map(lambda x: float(x), expenses))\n",
    "#   print(f'{expenses=}')\n",
    "#   if len(expenses) != len(pars.RESOURCE_TYPES):\n",
    "#     error = f\"ERROR: The number of resource expenses should be the same as the number of resource types (roles).\\nYou entered the following values: {resource_expenses}\"\n",
    "#     print(error)\n",
    "#     return error\n",
    "#   pars.RESOURCE_EXPENSES = expenses\n",
    "#   pars.RESOURCE_EXPENSE = {e: pars.RESOURCE_EXPENSES[i] for i,e in enumerate(pars.RESOURCE_TYPES)}\n",
    "\n",
    "#   pars.aNAMES = [tup[0]+'_'+tup[1] for tup in zip(pars.TYPES, pars.RESOURCE_IDS)]; print(f'{pars.aNAMES=}')\n",
    "#   pars.bNAMES = pars.RESOURCE_TYPES; print(f'{pars.bNAMES=}')\n",
    "#   pars.abNAMES = [] ##to DEMAND b\n",
    "#   for a in pars.aNAMES:\n",
    "#     a0,a1 = a.split('_')\n",
    "#     for b in pars.bNAMES:\n",
    "#       if(a0==b):\n",
    "#         abn = (a + '___' + b)\n",
    "#         pars.abNAMES.append(abn)\n",
    "#   print(f'{pars.abNAMES=}')\n",
    "#   pars.LABELS = pars.setup_plot_labels()"
   ]
  },
  {
   "cell_type": "code",
   "execution_count": null,
   "metadata": {},
   "outputs": [],
   "source": [
    "#| export\n",
    "def prepare_schedule(pars):\n",
    "    start = time.time()\n",
    "    if 'TRAIN' in cf.MODES:\n",
    "        print('############################## TRAIN ##############################')\n",
    "        L = 2 #5 #20 #10 #5 #2 #3 #2db #10pub\n",
    "        T = 7*pars.SLOTS_PER_DAY #5 #7*96\n",
    "        First_n_t = int(1.2*T)\n",
    "        Last_n_t = int(1*T) ##make whole multiple of T to look better in chart\n",
    "        \n",
    "        trn_Best_theta, trn_Worst_theta, trn_Df_first_n_t, trn_Df_last_n_t = \\\n",
    "            trn.train_schedule(L, T, First_n_t, Last_n_t, pars)\n",
    "        print(f'{trn_Best_theta=}')\n",
    "        print(f'{trn_Df_first_n_t.shape=}')\n",
    "\n",
    "    if 'EVALU' in cf.MODES:\n",
    "        print('############################## EVALU ##############################')\n",
    "        L = 2 #20 #5 #2 #2db #10pub\n",
    "        T = 7*pars.SLOTS_PER_DAY #=672\n",
    "        First_n_t = int(.11*L*T)\n",
    "        \n",
    "        evl_Best_theta_opt, evl_Worst_theta_opt, evl_Df_opt = \\\n",
    "            evl.evalu_schedule_opt(L, T, First_n_t, trn_Best_theta, pars)\n",
    "        print(f'{evl_Best_theta_opt=}')\n",
    "        print(f'{evl_Df_opt.shape=}')\n",
    "    \n",
    "        evl_Best_theta_non, evl_Worst_theta_non, evl_Df_non = \\\n",
    "            evl.evalu_schedule_non(L, T, First_n_t, trn_Worst_theta, pars)\n",
    "        print(f'{evl_Best_theta_non=}')\n",
    "        print(f'{evl_Df_non.shape=}')\n",
    "\n",
    "        ## single sample-path\n",
    "        L = 1 #20 #5 #2 #2db #10pub\n",
    "        T = 7*pars.SLOTS_PER_DAY #=672\n",
    "        First_n_t = int(1*L*T)\n",
    "        \n",
    "        evl_Best_theta_opt, evl_Worst_theta_opt, evl_Df_opt = \\\n",
    "            evl.evalu_schedule_opt(L, T, First_n_t, trn_Best_theta, pars)\n",
    "        print(f'{evl_Best_theta_opt=}')\n",
    "        print(f'{evl_Df_opt.shape=}')\n",
    "    \n",
    "        evl_Best_theta_non, evl_Worst_theta_non, evl_Df_non = \\\n",
    "            evl.evalu_schedule_non(L, T, First_n_t, trn_Worst_theta, pars)\n",
    "        print(f'{evl_Best_theta_non=}')\n",
    "        print(f'{evl_Df_non.shape=}')\n",
    "\n",
    "        print(evl_Df_opt[evl_Df_opt['t']==T-1][['Ccum']])\n",
    "        print(evl_Df_non[evl_Df_non['t']==T-1][['Ccum']])\n",
    "        \n",
    "    if 'INFER' in cf.MODES:\n",
    "        print('############################## INFER ##############################')\n",
    "        L = 1\n",
    "        T = 7*pars.SLOTS_PER_DAY\n",
    "        First_n_t = int(1*L*T)\n",
    "    \n",
    "        stored_best_theta = inf.get_best_theta_Alloc()\n",
    "        inf_Best_theta_evalu_opt, inf_Df_evalu_opt, prepped_sched = \\\n",
    "            inf.infer_schedule(L, T, First_n_t, stored_best_theta, pars)\n",
    "        print(f'{inf_Best_theta_evalu_opt=}')\n",
    "        print(f'{inf_Df_evalu_opt.shape=}')\n",
    "        # print(f'{prepped_sched=}')\n",
    "        # utl.print_schedule_shifts(inf_Df_evalu_opt, Pars)\n",
    "        # utl.print_schedule_slots(inf_Df_evalu_opt, Pars)\n",
    "    end = time.time(); print(f'EXECUTION TIME: {end - start} seconds')"
   ]
  },
  {
   "cell_type": "code",
   "execution_count": null,
   "metadata": {},
   "outputs": [],
   "source": [
    "# ############################################################\n",
    "# #################### FLOW STARTS ###########################\n",
    "# ############################################################"
   ]
  },
  {
   "cell_type": "code",
   "execution_count": null,
   "metadata": {},
   "outputs": [],
   "source": [
    "# //////////////////////////////////////"
   ]
  },
  {
   "cell_type": "code",
   "execution_count": null,
   "metadata": {},
   "outputs": [],
   "source": [
    "#| export\n",
    "# Update the Parameters instance, `Pars` with the latest user input.\n",
    "# def update_parameters_from_user_input(\n",
    "def update_parameters_from_user_input(pars, user_input):\n",
    "    # pars,\n",
    "    # start, \n",
    "    # slots_per_day, \n",
    "    # max_daily_slot_run, \n",
    "    # resources, \n",
    "    # demands_per_busyness, \n",
    "    # demands_per_volume, \n",
    "    # demands_per_revenue, \n",
    "    # resource_expenses):\n",
    "    \n",
    "  pars.START_DATE_TIME = user_input.start\n",
    "  sd = pd.to_datetime(user_input.start)\n",
    "  if not sd.strftime('%a')=='Mon':\n",
    "    error = f\"ERROR: {user_input.start} is a {sd.strftime('%A')}. It should be a Monday.\"\n",
    "    print(error)\n",
    "    return error\n",
    "  for_now_sd = pd.to_datetime('2023-12-04')\n",
    "  if not sd==for_now_sd:\n",
    "    error = f\"ERROR: Start date must be {for_now_sd} for now.\"\n",
    "    print(error) \n",
    "    return error\n",
    "\n",
    "  spd = int(user_input.slots_per_day)\n",
    "  if not spd == 24:\n",
    "    error = f\"ERROR: Slots per day must be 24 for now.\"\n",
    "    print(error)\n",
    "    return error\n",
    "  pars.SLOTS_PER_DAY = spd\n",
    "  \n",
    "  mdsr = int(user_input.max_daily_slot_run)\n",
    "  if not mdsr <= spd:\n",
    "    error = f\"ERROR: 'Max daily slot run' must be less than or equal to 'Slots per day'\"\n",
    "    print(error)\n",
    "    return error\n",
    "  pars.MAX_DAILY_SLOT_RUN = mdsr\n",
    "\n",
    "  resource_type_and_ids = user_input.resources.split(';')\n",
    "  resource_types = []\n",
    "  resource_ids = []\n",
    "  resource_type_counts = []\n",
    "  for itm in resource_type_and_ids:\n",
    "      res_type, res_ids = itm.split(':')\n",
    "      resource_types.append(res_type.strip())\n",
    "      sep_ids = res_ids.split(','); ##print(f'{sep_ids=}')\n",
    "      for rid in sep_ids:\n",
    "          resource_ids.append(rid.strip())\n",
    "      resource_type_counts.append(len(sep_ids))\n",
    "  print(f'{resource_types=}')\n",
    "  print(f'{resource_type_counts=}')\n",
    "  print(f'{resource_ids=}')\n",
    "  if len(resource_types) > cf.MAX_RESOURCE_TYPES:\n",
    "    error = f\"ERROR: The number of resource types should not exceed {cf.MAX_RESOURCE_TYPES}.\\nYou entered the following resource types: {resource_types}\"\n",
    "    print(error)\n",
    "    return error\n",
    "  if len(resource_ids) > cf.MAX_RESOURCE_IDS:\n",
    "    error = f\"ERROR: The number of resources should not exceed {cf.MAX_RESOURCE_IDS}.\\nYou entered the following resources: {resource_ids}\"\n",
    "    print(error)\n",
    "    return error\n",
    "  pars.RESOURCE_TYPES = resource_types; print(f'{pars.RESOURCE_TYPES=}')\n",
    "  pars.RESOURCE_TYPE_COUNTS = resource_type_counts; print(f'{pars.RESOURCE_TYPE_COUNTS=}')\n",
    "  pars.TYPES = []\n",
    "  for i in range(len(pars.RESOURCE_TYPES)):\n",
    "    additional_types = [pars.RESOURCE_TYPES[i]]*pars.RESOURCE_TYPE_COUNTS[i]\n",
    "    for item in additional_types:\n",
    "      pars.TYPES.append(item)\n",
    "  print(f'{pars.TYPES=}')\n",
    "  pars.RESOURCE_IDS = resource_ids; print(f'{pars.RESOURCE_TYPE_COUNTS=}')\n",
    "\n",
    "  rates = user_input.demands_per_busyness.split(',')\n",
    "  if '' in rates:\n",
    "    error = f\"ERROR: There should be a demand-per-busyness for each resource type (role).\\nYou entered the following values: {demands_per_busyness}\"\n",
    "    print(error)\n",
    "    return error\n",
    "  rates = list(map(lambda x: float(x), rates))\n",
    "  print(f'{rates=}')\n",
    "  if len(rates) != len(pars.RESOURCE_TYPES):\n",
    "    error = f\"ERROR: The number of demands-per-busyness should be the same as the number of resource types (roles).\\nYou entered the following values: {demands_per_busyness}\"\n",
    "    print(error)\n",
    "    return error\n",
    "  pars.DEMANDS_PER_BUSYNESS = rates\n",
    "  pars.DEMAND_PER_BUSYNESS = {e: pars.DEMANDS_PER_BUSYNESS[i] for i,e in enumerate(pars.RESOURCE_TYPES)}\n",
    "\n",
    "  rates = user_input.demands_per_volume.split(',')\n",
    "  if '' in rates:\n",
    "    error = f\"ERROR: There should be a demand-per-volume for each resource type (role).\\nYou entered the following values: {demands_per_volume}\"\n",
    "    print(error)\n",
    "    return error\n",
    "  rates = list(map(lambda x: float(x), rates))\n",
    "  print(f'{rates=}')\n",
    "  if len(rates) != len(pars.RESOURCE_TYPES):\n",
    "    error = f\"ERROR: The number of demands-per-volume should be the same as the number of resource types (roles).\\nYou entered the following values: {demands_per_volume}\"\n",
    "    print(error)\n",
    "    return error\n",
    "  pars.DEMANDS_PER_VOLUME = rates\n",
    "  pars.DEMAND_PER_VOLUME = {e: pars.DEMANDS_PER_VOLUME[i] for i,e in enumerate(pars.RESOURCE_TYPES)}\n",
    "\n",
    "  rates = user_input.demands_per_revenue.split(',')\n",
    "  if '' in rates:\n",
    "    error = f\"ERROR: There should be a demand-per-revenue for each resource type (role).\\nYou entered the following values: {demands_per_revenue}\"\n",
    "    print(error)\n",
    "    return error\n",
    "  rates = list(map(lambda x: float(x), rates))\n",
    "  print(f'{rates=}')\n",
    "  if len(rates) != len(pars.RESOURCE_TYPES):\n",
    "    error = f\"ERROR: The number of demands-per-revenue should be the same as the number of resource types (roles).\\nYou entered the following values: {demands_per_revenue}\"\n",
    "    print(error)\n",
    "    return error\n",
    "  pars.DEMANDS_PER_REVENUE = rates\n",
    "  pars.DEMAND_PER_REVENUE = {e: pars.DEMANDS_PER_REVENUE[i] for i,e in enumerate(pars.RESOURCE_TYPES)}\n",
    "\n",
    "  expenses = user_input.resource_expenses.split(',')\n",
    "  if '' in expenses:\n",
    "    error = f\"ERROR: There should be a resource expense for each resource type (role).\\nYou entered the following values: {resource_expenses}\"\n",
    "    print(error)\n",
    "    return error  \n",
    "  expenses = list(map(lambda x: float(x), expenses))\n",
    "  print(f'{expenses=}')\n",
    "  if len(expenses) != len(pars.RESOURCE_TYPES):\n",
    "    error = f\"ERROR: The number of resource expenses should be the same as the number of resource types (roles).\\nYou entered the following values: {resource_expenses}\"\n",
    "    print(error)\n",
    "    return error\n",
    "  pars.RESOURCE_EXPENSES = expenses\n",
    "  pars.RESOURCE_EXPENSE = {e: pars.RESOURCE_EXPENSES[i] for i,e in enumerate(pars.RESOURCE_TYPES)}\n",
    "\n",
    "  pars.aNAMES = [tup[0]+'_'+tup[1] for tup in zip(pars.TYPES, pars.RESOURCE_IDS)]; print(f'{pars.aNAMES=}')\n",
    "  pars.bNAMES = pars.RESOURCE_TYPES; print(f'{pars.bNAMES=}')\n",
    "  pars.abNAMES = [] ##to DEMAND b\n",
    "  for a in pars.aNAMES:\n",
    "    a0,a1 = a.split('_')\n",
    "    for b in pars.bNAMES:\n",
    "      if(a0==b):\n",
    "        abn = (a + '___' + b)\n",
    "        pars.abNAMES.append(abn)\n",
    "  print(f'{pars.abNAMES=}')\n",
    "  pars.LABELS = pars.setup_plot_labels()"
   ]
  },
  {
   "cell_type": "code",
   "execution_count": null,
   "metadata": {},
   "outputs": [],
   "source": [
    "#| export\n",
    "class UserInput(BaseModel):\n",
    "    start: str\n",
    "    slots_per_day: int\n",
    "    max_daily_slot_run: int\n",
    "    resources: str\n",
    "    demands_per_busyness: str\n",
    "    demands_per_volume: str\n",
    "    demands_per_revenue: str\n",
    "    resource_expenses: str"
   ]
  },
  {
   "cell_type": "code",
   "execution_count": null,
   "metadata": {},
   "outputs": [],
   "source": [
    "#| export\n",
    "app = FastAPI()"
   ]
  },
  {
   "cell_type": "code",
   "execution_count": null,
   "metadata": {},
   "outputs": [],
   "source": [
    "#| export\n",
    "@app.get(\"/\")\n",
    "def root():\n",
    "    return {\"message\": \"Hello Oupa ...\"}"
   ]
  },
  {
   "cell_type": "code",
   "execution_count": null,
   "metadata": {},
   "outputs": [],
   "source": [
    "#| export\n",
    "dui = UserInput(\n",
    "  start=\"2023-12-04\", #2023-12-11\n",
    "  slots_per_day=24,\n",
    "  max_daily_slot_run=9, #8\n",
    "  resources=\"Manager: Matt; AssistMngr: Mike, Tanner; RetailAssoc: Jake, James, Jane, John, Jim, Jenny, Jeremy, Judy, Julie, Jeffrey\",\n",
    "  # resources = 'Manager: Matt; AssistMngr: Mike, Tanner; RetailAssoc: Jake, James, Jane, John, Jim, Jenny, Jeremy, Judy, Julie',\n",
    "  # resources = 'Manager: John, Penelope; SalesPerson: Sally, Sarah, Jim, Costa',\n",
    "  # resources = 'SupChief: Ruan, Francine; Sup: Azra, Wendie, Penny, Sally',\n",
    "  # resources = 'ChiefTeller: Ruan, Francine; Teller: Azra, Wendie, Penny, Sally',\n",
    "\n",
    "  # demands_per_busyness = '.2, 4',\n",
    "  demands_per_busyness=\"0.005, 0.008, 0.02\",\n",
    "\n",
    "  # demands_per_volume = '.02, .4',\n",
    "  demands_per_volume=\"0.03, 0.08, 0.2\",\n",
    "\n",
    "  # demands_per_revenue = '.05, .8',\n",
    "  demands_per_revenue=\".00005, 0.0001, 0.0008\",\n",
    "\n",
    "  # resource_expenses = '35.17, 23.85'\n",
    "  resource_expenses=\"25.0, 20.0, 18.0\"    \n",
    ")"
   ]
  },
  {
   "cell_type": "code",
   "execution_count": null,
   "metadata": {},
   "outputs": [],
   "source": [
    "#| export\n",
    "@app.get(\"/defaultuserinput\")\n",
    "def get_default_user_input():\n",
    "    return {\n",
    "        \"start\": dui.start,\n",
    "        \"slots_per_day\": dui.slots_per_day,\n",
    "        \"max_daily_slot_run\": dui.max_daily_slot_run,\n",
    "        \"resources\": dui.resources,\n",
    "        \"demands_per_busyness\": dui.demands_per_busyness,\n",
    "        \"demands_per_volume\": dui.demands_per_volume,\n",
    "        \"demands_per_revenue\": dui.demands_per_revenue,\n",
    "        \"resource_expenses\": dui.resource_expenses\n",
    "    }"
   ]
  },
  {
   "cell_type": "code",
   "execution_count": null,
   "metadata": {},
   "outputs": [
    {
     "name": "stdout",
     "output_type": "stream",
     "text": [
      "\n",
      "len(self.RESOURCE_TYPES)=3\n",
      "['Manager', 'AssistMngr', 'RetailAssoc']\n",
      "\n",
      "len(self.TYPES)=13\n",
      "['Manager', 'AssistMngr', 'AssistMngr', 'RetailAssoc', 'RetailAssoc', 'RetailAssoc', 'RetailAssoc', 'RetailAssoc', 'RetailAssoc', 'RetailAssoc', 'RetailAssoc', 'RetailAssoc', 'RetailAssoc']\n",
      "len(self.aNAMES)=13\n",
      "['Manager_Matt', 'AssistMngr_Mike', 'AssistMngr_Tanner', 'RetailAssoc_Jake', 'RetailAssoc_James', 'RetailAssoc_Jane', 'RetailAssoc_John', 'RetailAssoc_Jim', 'RetailAssoc_Jenny', 'RetailAssoc_Jeremy', 'RetailAssoc_Judy', 'RetailAssoc_Julie', 'RetailAssoc_Jeffrey']\n",
      "\n",
      "len(self.bNAMES)=3\n",
      "['Manager', 'AssistMngr', 'RetailAssoc']\n",
      "\n",
      "len(self.abNAMES)=13\n",
      "['Manager_Matt___Manager', 'AssistMngr_Mike___AssistMngr', 'AssistMngr_Tanner___AssistMngr', 'RetailAssoc_Jake___RetailAssoc', 'RetailAssoc_James___RetailAssoc', 'RetailAssoc_Jane___RetailAssoc', 'RetailAssoc_John___RetailAssoc', 'RetailAssoc_Jim___RetailAssoc', 'RetailAssoc_Jenny___RetailAssoc', 'RetailAssoc_Jeremy___RetailAssoc', 'RetailAssoc_Judy___RetailAssoc', 'RetailAssoc_Julie___RetailAssoc', 'RetailAssoc_Jeffrey___RetailAssoc']\n",
      "\n",
      "self.SIM_MU_D={'Manager': 4, 'AssistMngr': 2, 'RetailAssoc': 2}\n",
      "\n",
      "self.SIM_EVENT_TIME_D={'Manager': None, 'AssistMngr': None, 'RetailAssoc': None}\n",
      "\n",
      "self.SIM_MU_DELTA_D={'Manager': None, 'AssistMngr': None, 'RetailAssoc': None}\n"
     ]
    }
   ],
   "source": [
    "#| export\n",
    "# Create a Parameter instance & initialize with default pars.\n",
    "# The `Pars` instance will be passed between various modules\n",
    "Pars = par.Parameters()"
   ]
  },
  {
   "cell_type": "code",
   "execution_count": null,
   "metadata": {},
   "outputs": [],
   "source": [
    "#| export\n",
    "@app.post(\"/schedule\")\n",
    "def find_schedule(user_input: UserInput):\n",
    "    update_parameters_from_user_input(Pars, user_input)\n",
    "    # sched = prepare_schedule(Pars)\n",
    "    prepare_schedule(Pars)\n",
    "    # return sched\n",
    "    return \"works !!!!!!!!!!!!!!!!!!!!!!!!!\""
   ]
  },
  {
   "cell_type": "code",
   "execution_count": null,
   "metadata": {},
   "outputs": [],
   "source": [
    "# \\\\\\\\\\\\\\\\\\\\\\\\\\\\\\\\\\\\\\\\\\\\"
   ]
  },
  {
   "cell_type": "markdown",
   "metadata": {},
   "source": [
    "## Create a parameters instance"
   ]
  },
  {
   "cell_type": "code",
   "execution_count": null,
   "metadata": {},
   "outputs": [],
   "source": [
    "# #| export\n",
    "# # Create a Parameter instance & initialize with default pars.\n",
    "# # The `Pars` instance will be passed between various modules\n",
    "# Pars = par.Parameters()"
   ]
  },
  {
   "cell_type": "markdown",
   "metadata": {},
   "source": [
    "## Update parameters from user store\n",
    "\n",
    "> Each of the following calls need to come from the API client, e.g. Postman, a browser, and eventually, the ERP UI. There presence below is for testing purposes."
   ]
  },
  {
   "cell_type": "markdown",
   "metadata": {},
   "source": [
    "## Update parameters from user input"
   ]
  },
  {
   "cell_type": "markdown",
   "metadata": {},
   "source": [
    "## Prepare Schedule"
   ]
  },
  {
   "cell_type": "code",
   "execution_count": null,
   "metadata": {},
   "outputs": [
    {
     "name": "stdout",
     "output_type": "stream",
     "text": [
      "############################## TRAIN ##############################\n"
     ]
    },
    {
     "name": "stderr",
     "output_type": "stream",
     "text": [
      "2024-02-29 07:50:35,166\tINFO worker.py:1724 -- Started a local Ray instance.\n"
     ]
    },
    {
     "name": "stdout",
     "output_type": "stream",
     "text": [
      "numThetas=8\n",
      "... printing every 1th theta (if considered) ...\n",
      "\u001b[36m(pid=99522)\u001b[0m /Users/kobus/aishiftscheduler/aishiftscheduler/shift_scheduler_data.xlsx\n",
      "\u001b[36m(pid=99522)\u001b[0m /Users/kobus/aishiftscheduler/aishiftscheduler/AIShiftScheduler1.png\n",
      "\u001b[36m(pid=99522)\u001b[0m thNAMES=['thCumSlots', 'thSickProb', 'thCumMerits', 'thContSlots', 'thSelect']\n",
      "\u001b[36m(parallel_run_grid_sample_paths pid=99522)\u001b[0m \t%%% l=1\n",
      "\u001b[36m(pid=99517)\u001b[0m /Users/kobus/aishiftscheduler/aishiftscheduler/shift_scheduler_data.xlsx\u001b[32m [repeated 7x across cluster] (Ray deduplicates logs by default. Set RAY_DEDUP_LOGS=0 to disable log deduplication, or see https://docs.ray.io/en/master/ray-observability/ray-logging.html#log-deduplication for more options.)\u001b[0m\n",
      "\u001b[36m(pid=99517)\u001b[0m len(thNAMES)=5\u001b[32m [repeated 23x across cluster]\u001b[0m\n",
      "\u001b[36m(pid=99517)\u001b[0m thNAMES=['thCumSlots', 'thSickProb', 'thCumMerits', 'thContSlots', 'thSelect']\u001b[32m [repeated 7x across cluster]\u001b[0m\n",
      "\u001b[36m(parallel_run_grid_sample_paths pid=99517)\u001b[0m \t%%% l=2\u001b[32m [repeated 8x across cluster]\u001b[0m\n",
      "0/7, 473,872, Theta(thCumSlots=0.0, thSickProb=0, thCumMerits=0.0, thContSlots=1.0, thSelect='random')\n",
      "1/7, 476,203, Theta(thCumSlots=0.0, thSickProb=0, thCumMerits=0.5, thContSlots=0.5, thSelect='random')\n",
      "2/7, 473,281, Theta(thCumSlots=0.0, thSickProb=1, thCumMerits=0.0, thContSlots=0.0, thSelect='random')\n",
      "3/7, 473,492, Theta(thCumSlots=0.0, thSickProb=0.5, thCumMerits=0.0, thContSlots=0.5, thSelect='random')\n",
      "4/7, 475,687, Theta(thCumSlots=0.0, thSickProb=0.5, thCumMerits=0.5, thContSlots=0.0, thSelect='random')\n",
      "5/7, 476,015, Theta(thCumSlots=0.5, thSickProb=0, thCumMerits=0.0, thContSlots=0.5, thSelect='random')\n",
      "6/7, 478,851, Theta(thCumSlots=0.5, thSickProb=0, thCumMerits=0.5, thContSlots=0.0, thSelect='random')\n",
      "7/7, 475,952, Theta(thCumSlots=0.5, thSickProb=0.5, thCumMerits=0.0, thContSlots=0.0, thSelect='random')\n",
      "EXECUTION TIME: 42.24908685684204 seconds\n",
      "trn_Best_theta=Theta(thCumSlots=0.5, thSickProb=0, thCumMerits=0.5, thContSlots=0.0, thSelect='random')\n",
      "trn_Df_first_n_t.shape=(201, 97)\n",
      "############################## EVALU ##############################\n",
      "numThetas=1\n",
      "... printing every 1th theta (if considered) ...\n",
      "\t%%% l=1\n",
      "\t%%% l=2\n",
      "0/0, 478,333, Theta(thCumSlots=0.5, thSickProb=0, thCumMerits=0.5, thContSlots=0.0, thSelect='random')\n",
      "ThetaStar_expCbarcum_evalu_opt.iloc[-1]=478333.34\n",
      "EXECUTION TIME: 18.766806602478027 seconds\n",
      "evl_Best_theta_opt=Theta(thCumSlots=0.5, thSickProb=0, thCumMerits=0.5, thContSlots=0.0, thSelect='random')\n",
      "evl_Df_opt.shape=(36, 97)\n",
      "numThetas=1\n",
      "... printing every 1th theta (if considered) ...\n",
      "\t%%% l=1\n",
      "\t%%% l=2\n",
      "0/0, 473,210, Theta(thCumSlots=0.0, thSickProb=1, thCumMerits=0.0, thContSlots=0.0, thSelect='random')\n",
      "ThetaStar_expCbarcum_evalu_non.iloc[-1]=473209.79\n",
      "EXECUTION TIME: 18.44565510749817 seconds\n",
      "evl_Best_theta_non=Theta(thCumSlots=0.0, thSickProb=1, thCumMerits=0.0, thContSlots=0.0, thSelect='random')\n",
      "evl_Df_non.shape=(36, 97)\n",
      "numThetas=1\n",
      "... printing every 1th theta (if considered) ...\n",
      "\t%%% l=1\n"
     ]
    },
    {
     "name": "stderr",
     "output_type": "stream",
     "text": [
      "/Users/kobus/aishiftscheduler/aishiftscheduler/policy.py:212: RuntimeWarning: invalid value encountered in scalar divide\n",
      "  Ctilcum_tmp = np.sum(np.square(np.array(CcumIomega__lI) - Cbarcum_tmp))/(L - 1)\n"
     ]
    },
    {
     "name": "stdout",
     "output_type": "stream",
     "text": [
      "0/0, 478,040, Theta(thCumSlots=0.5, thSickProb=0, thCumMerits=0.5, thContSlots=0.0, thSelect='random')\n",
      "ThetaStar_expCbarcum_evalu_opt.iloc[-1]=478039.60\n",
      "EXECUTION TIME: 9.904422998428345 seconds\n",
      "evl_Best_theta_opt=Theta(thCumSlots=0.5, thSickProb=0, thCumMerits=0.5, thContSlots=0.0, thSelect='random')\n",
      "evl_Df_opt.shape=(168, 97)\n",
      "numThetas=1\n",
      "... printing every 1th theta (if considered) ...\n",
      "\t%%% l=1\n"
     ]
    },
    {
     "name": "stderr",
     "output_type": "stream",
     "text": [
      "/Users/kobus/aishiftscheduler/aishiftscheduler/policy.py:212: RuntimeWarning: invalid value encountered in scalar divide\n",
      "  Ctilcum_tmp = np.sum(np.square(np.array(CcumIomega__lI) - Cbarcum_tmp))/(L - 1)\n"
     ]
    },
    {
     "name": "stdout",
     "output_type": "stream",
     "text": [
      "0/0, 473,092, Theta(thCumSlots=0.0, thSickProb=1, thCumMerits=0.0, thContSlots=0.0, thSelect='random')\n",
      "ThetaStar_expCbarcum_evalu_non.iloc[-1]=473091.54\n",
      "EXECUTION TIME: 9.615336894989014 seconds\n",
      "evl_Best_theta_non=Theta(thCumSlots=0.0, thSickProb=1, thCumMerits=0.0, thContSlots=0.0, thSelect='random')\n",
      "evl_Df_non.shape=(168, 97)\n",
      "            Ccum\n",
      "167 478,039.6000\n",
      "            Ccum\n",
      "167 473,091.5440\n",
      "############################## INFER ##############################\n",
      "numThetas=1\n",
      "... printing every 1th theta (if considered) ...\n",
      "\t%%% l=1\n",
      "0/0, 473,966, Theta(thCumSlots=0, thSickProb=0, thCumMerits=0, thContSlots=1, thSelect='random')\n",
      "EXECUTION TIME: 9.816122055053711 seconds\n",
      "inf_Best_theta_evalu_opt=Theta(thCumSlots=0, thSickProb=0, thCumMerits=0, thContSlots=1, thSelect='random')\n",
      "inf_Df_evalu_opt.shape=(168, 97)\n",
      "EXECUTION TIME: 108.8190450668335 seconds\n"
     ]
    },
    {
     "name": "stderr",
     "output_type": "stream",
     "text": [
      "/Users/kobus/aishiftscheduler/aishiftscheduler/policy.py:212: RuntimeWarning: invalid value encountered in scalar divide\n",
      "  Ctilcum_tmp = np.sum(np.square(np.array(CcumIomega__lI) - Cbarcum_tmp))/(L - 1)\n"
     ]
    }
   ],
   "source": [
    "prepare_schedule(Pars)"
   ]
  },
  {
   "cell_type": "code",
   "execution_count": null,
   "metadata": {},
   "outputs": [],
   "source": [
    "# this is a dummy change"
   ]
  },
  {
   "cell_type": "code",
   "execution_count": null,
   "metadata": {},
   "outputs": [
    {
     "name": "stdout",
     "output_type": "stream",
     "text": [
      "/Users/kobus/aishiftscheduler/aishiftscheduler/shift_scheduler_data.xlsx\n",
      "/Users/kobus/aishiftscheduler/aishiftscheduler/AIShiftScheduler1.png\n",
      "\n",
      "len(thNAMES)=5\n",
      "thNAMES=['thCumSlots', 'thSickProb', 'thCumMerits', 'thContSlots', 'thSelect']\n"
     ]
    },
    {
     "ename": "SyntaxError",
     "evalue": "invalid syntax (<unknown>, line 2)",
     "output_type": "error",
     "traceback": [
      "Traceback \u001b[0;36m(most recent call last)\u001b[0m:\n",
      "\u001b[0m  File \u001b[1;32m~/aishiftscheduler/.venv/lib/python3.10/site-packages/IPython/core/interactiveshell.py:3577\u001b[0m in \u001b[1;35mrun_code\u001b[0m\n    exec(code_obj, self.user_global_ns, self.user_ns)\u001b[0m\n",
      "\u001b[0m  Cell \u001b[1;32mIn[80], line 2\u001b[0m\n    import nbdev; nbdev.nbdev_export()\u001b[0m\n",
      "\u001b[0m  File \u001b[1;32m~/aishiftscheduler/.venv/lib/python3.10/site-packages/fastcore/script.py:110\u001b[0m in \u001b[1;35m_f\u001b[0m\n    if not mod: return func(*args, **kwargs)\u001b[0m\n",
      "\u001b[0m  File \u001b[1;32m~/aishiftscheduler/.venv/lib/python3.10/site-packages/nbdev/doclinks.py:144\u001b[0m in \u001b[1;35mnbdev_export\u001b[0m\n    _build_modidx()\u001b[0m\n",
      "\u001b[0m  File \u001b[1;32m~/aishiftscheduler/.venv/lib/python3.10/site-packages/nbdev/doclinks.py:102\u001b[0m in \u001b[1;35m_build_modidx\u001b[0m\n    res['syms'].update(_get_modidx((dest.parent/file).resolve(), code_root, nbs_path=nbs_path))\u001b[0m\n",
      "\u001b[0m  File \u001b[1;32m~/aishiftscheduler/.venv/lib/python3.10/site-packages/nbdev/doclinks.py:79\u001b[0m in \u001b[1;35m_get_modidx\u001b[0m\n    for tree in ast.parse(cell.code).body:\u001b[0m\n",
      "\u001b[0;36m  File \u001b[0;32m~/.pyenv/versions/3.10.0/lib/python3.10/ast.py:50\u001b[0;36m in \u001b[0;35mparse\u001b[0;36m\n\u001b[0;31m    return compile(source, filename, mode, flags,\u001b[0;36m\n",
      "\u001b[0;36m  File \u001b[0;32m<unknown>:2\u001b[0;36m\u001b[0m\n\u001b[0;31m    def find_schedule(config Config):\u001b[0m\n\u001b[0m                             ^\u001b[0m\n\u001b[0;31mSyntaxError\u001b[0m\u001b[0;31m:\u001b[0m invalid syntax\n"
     ]
    }
   ],
   "source": [
    "#| hide\n",
    "import nbdev; nbdev.nbdev_export()"
   ]
  },
  {
   "cell_type": "code",
   "execution_count": null,
   "metadata": {},
   "outputs": [],
   "source": []
  }
 ],
 "metadata": {
  "kernelspec": {
   "display_name": "python3",
   "language": "python",
   "name": "python3"
  }
 },
 "nbformat": 4,
 "nbformat_minor": 4
}
