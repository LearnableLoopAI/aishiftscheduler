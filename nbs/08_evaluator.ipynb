{
 "cells": [
  {
   "cell_type": "markdown",
   "metadata": {},
   "source": [
    "# evaluator\n",
    "\n",
    "> Evaluates the schedule\n",
    "- order: 8"
   ]
  },
  {
   "cell_type": "code",
   "execution_count": 1,
   "metadata": {},
   "outputs": [],
   "source": [
    "#| default_exp evaluator"
   ]
  },
  {
   "cell_type": "code",
   "execution_count": 2,
   "metadata": {},
   "outputs": [
    {
     "name": "stdout",
     "output_type": "stream",
     "text": [
      "/Users/kobus/aishiftscheduler/.venv/bin/python\n"
     ]
    }
   ],
   "source": [
    "!which python"
   ]
  },
  {
   "cell_type": "code",
   "execution_count": 3,
   "metadata": {},
   "outputs": [],
   "source": [
    "# Set up autoreload\n",
    "%load_ext autoreload\n",
    "%autoreload 2"
   ]
  },
  {
   "cell_type": "code",
   "execution_count": 4,
   "metadata": {},
   "outputs": [],
   "source": [
    "#| hide\n",
    "from nbdev.showdoc import *"
   ]
  },
  {
   "cell_type": "code",
   "execution_count": 5,
   "metadata": {},
   "outputs": [
    {
     "name": "stdout",
     "output_type": "stream",
     "text": [
      "/Users/kobus/aishiftscheduler/aishiftscheduler/shift_scheduler_data.xlsx\n",
      "/Users/kobus/aishiftscheduler/aishiftscheduler/AIShiftScheduler1.png\n",
      "\n",
      "len(thNAMES)=5\n",
      "thNAMES=['thCumSlots', 'thSickProb', 'thCumMerits', 'thContSlots', 'thSelect']\n"
     ]
    }
   ],
   "source": [
    "#| export\n",
    "# from collections import namedtuple, defaultdict\n",
    "# import numpy as np\n",
    "import pandas as pd\n",
    "# import matplotlib as mpl\n",
    "# import matplotlib.pyplot as plt\n",
    "from copy import copy\n",
    "import time\n",
    "# import math\n",
    "# from pprint import pprint\n",
    "## !pip install -U \"ray\"\n",
    "# import ray\n",
    "# import json\n",
    "\n",
    "import aishiftscheduler.config as cf\n",
    "import aishiftscheduler.model as mod\n",
    "import aishiftscheduler.policy as pol"
   ]
  },
  {
   "cell_type": "code",
   "execution_count": 6,
   "metadata": {},
   "outputs": [
    {
     "data": {
      "text/plain": [
       "'2.0.3'"
      ]
     },
     "execution_count": 6,
     "metadata": {},
     "output_type": "execute_result"
    }
   ],
   "source": [
    "pd.__version__"
   ]
  },
  {
   "cell_type": "code",
   "execution_count": 7,
   "metadata": {},
   "outputs": [],
   "source": [
    "#| export\n",
    "pd.options.display.float_format = '{:,.4f}'.format\n",
    "pd.set_option('display.max_columns', None)\n",
    "pd.set_option('display.max_rows', None)\n",
    "pd.set_option('display.max_colwidth', None)"
   ]
  },
  {
   "cell_type": "code",
   "execution_count": 8,
   "metadata": {},
   "outputs": [],
   "source": [
    "# #| export\n",
    "# base_dir = '.'\n",
    "# file_name = 'shift_scheduler_data.xlsx'"
   ]
  },
  {
   "cell_type": "code",
   "execution_count": 9,
   "metadata": {},
   "outputs": [],
   "source": [
    "#| export\n",
    "def do_evalu_opt(L, T, Best_theta_Alloc, pars):\n",
    "  M = mod.Model(pars)\n",
    "  P = pol.Policy(M)\n",
    "  ## DEM = DemandSimulator(seed=SEED_EVALU)\n",
    "  ## MER = MeritSimulator(seed=SEED_EVALU)\n",
    "\n",
    "  thetasOpt = []; thetasOpt.append(Best_theta_Alloc)\n",
    "  return \\\n",
    "    P.perform_grid_search_sample_paths('X__Alloc', thetasOpt, L, T, pars)"
   ]
  },
  {
   "cell_type": "code",
   "execution_count": 10,
   "metadata": {},
   "outputs": [],
   "source": [
    "#| export\n",
    "def do_evalu_non(L, T, Worst_theta_Alloc, pars):\n",
    "  M = mod.Model(pars)\n",
    "  P = pol.Policy(M)\n",
    "  ## DEM = DemandSimulator(seed=SEED_EVALU)\n",
    "  ## MER = MeritSimulator(seed=SEED_EVALU)\n",
    "\n",
    "  thetasNon = []; thetasNon.append(Worst_theta_Alloc)\n",
    "  ## thetasNon = []; thetasNon.append(\n",
    "  ##   Policy(None).build_theta(\n",
    "  ##     {'thCumShifts': 1.0, 'thSickProb': 1.0}\n",
    "  ##   )\n",
    "  ## )\n",
    "  return \\\n",
    "    P.perform_grid_search_sample_paths('X__Alloc', thetasNon, L, T, pars)"
   ]
  },
  {
   "cell_type": "code",
   "execution_count": 11,
   "metadata": {},
   "outputs": [],
   "source": [
    "#| export\n",
    "def evalu_schedule_opt(L, T, First_n_t, trn_Best_theta, pars):\n",
    "    start = time.time()\n",
    "\n",
    "    ThetaStar_expCbarcum_evalu_opt, ThetaStar_expCtilcum_evalu_opt, \\\n",
    "    _, _, \\\n",
    "    Best_theta_evalu_opt, Worst_theta_evalu_opt, \\\n",
    "    _, _, \\\n",
    "    _, _, \\\n",
    "    Record_evalu_opt = \\\n",
    "      do_evalu_opt(L, T, trn_Best_theta, pars)\n",
    "    \n",
    "    Df_evalu_opt = pd.DataFrame.from_records(\n",
    "      Record_evalu_opt[:First_n_t], columns=pars.LABELS)\n",
    "    print(f'{ThetaStar_expCbarcum_evalu_opt.iloc[-1]=:.2f}')\n",
    "    end = time.time(); print(f'EXECUTION TIME: {end - start} seconds')\n",
    "    return Best_theta_evalu_opt, Worst_theta_evalu_opt, Df_evalu_opt"
   ]
  },
  {
   "cell_type": "code",
   "execution_count": 12,
   "metadata": {},
   "outputs": [],
   "source": [
    "#| export\n",
    "def evalu_schedule_non(L, T, First_n_t, trn_Worst_theta, pars):\n",
    "    start = time.time()\n",
    "\n",
    "    ThetaStar_expCbarcum_evalu_non, ThetaStar_expCtilcum_evalu_non, \\\n",
    "    _, _, \\\n",
    "    Best_theta_evalu_non, Worst_theta_evalu_non, \\\n",
    "    _, _, \\\n",
    "    _, _, \\\n",
    "    Record_evalu_non = \\\n",
    "      do_evalu_non(L, T, trn_Worst_theta, pars)\n",
    "    \n",
    "    Df_evalu_non = pd.DataFrame.from_records(\n",
    "      Record_evalu_non[:First_n_t], columns=pars.LABELS)\n",
    "    print(f'{ThetaStar_expCbarcum_evalu_non.iloc[-1]=:.2f}')\n",
    "    end = time.time(); print(f'EXECUTION TIME: {end - start} seconds')\n",
    "    return Best_theta_evalu_non, Worst_theta_evalu_non, Df_evalu_non"
   ]
  },
  {
   "cell_type": "code",
   "execution_count": 13,
   "metadata": {},
   "outputs": [],
   "source": [
    "#| hide\n",
    "import nbdev; nbdev.nbdev_export()"
   ]
  },
  {
   "cell_type": "code",
   "execution_count": null,
   "metadata": {},
   "outputs": [],
   "source": []
  }
 ],
 "metadata": {
  "kernelspec": {
   "display_name": "python3",
   "language": "python",
   "name": "python3"
  },
  "language_info": {
   "codemirror_mode": {
    "name": "ipython",
    "version": 3
   },
   "file_extension": ".py",
   "mimetype": "text/x-python",
   "name": "python",
   "nbconvert_exporter": "python",
   "pygments_lexer": "ipython3",
   "version": "3.10.0"
  }
 },
 "nbformat": 4,
 "nbformat_minor": 4
}
