{
 "cells": [
  {
   "cell_type": "markdown",
   "metadata": {},
   "source": [
    "# database\n",
    "\n",
    "> Contains the database code."
   ]
  },
  {
   "cell_type": "code",
   "execution_count": 3,
   "metadata": {},
   "outputs": [],
   "source": [
    "#| default_exp database"
   ]
  },
  {
   "cell_type": "code",
   "execution_count": 4,
   "metadata": {},
   "outputs": [
    {
     "name": "stdout",
     "output_type": "stream",
     "text": [
      "/home/uts/aishiftscheduler/.venv/bin/python\n"
     ]
    }
   ],
   "source": [
    "!which python"
   ]
  },
  {
   "cell_type": "code",
   "execution_count": 5,
   "metadata": {},
   "outputs": [
    {
     "name": "stdout",
     "output_type": "stream",
     "text": [
      "Python 3.10.12\n"
     ]
    }
   ],
   "source": [
    "!python --version"
   ]
  },
  {
   "cell_type": "code",
   "execution_count": 6,
   "metadata": {},
   "outputs": [],
   "source": [
    "# Set up autoreload\n",
    "%load_ext autoreload\n",
    "%autoreload 2"
   ]
  },
  {
   "cell_type": "code",
   "execution_count": 7,
   "metadata": {},
   "outputs": [],
   "source": [
    "#| hide\n",
    "from nbdev.showdoc import *"
   ]
  },
  {
   "cell_type": "code",
   "execution_count": 8,
   "metadata": {},
   "outputs": [],
   "source": [
    "# !pip install psycopg2"
   ]
  },
  {
   "cell_type": "code",
   "execution_count": 10,
   "metadata": {},
   "outputs": [
    {
     "name": "stdout",
     "output_type": "stream",
     "text": [
      "/home/uts/aishiftscheduler/aishiftscheduler/shift_scheduler_data.xlsx\n",
      "/home/uts/aishiftscheduler/aishiftscheduler/best_theta_data.xlsx\n",
      "/home/uts/aishiftscheduler/aishiftscheduler/AIShiftScheduler1.png\n",
      "\n",
      "len(thNAMES)=5\n",
      "thNAMES=['thCumSlots', 'thSickProb', 'thCumMerits', 'thContSlots', 'thSelect']\n"
     ]
    }
   ],
   "source": [
    "#| export\n",
    "# from typing import List\n",
    "# from fastapi import FastAPI, Response, status, HTTPException, Depends, APIRouter\n",
    "# from pydantic import BaseModel\n",
    "# # from passlib.context import CryptContext\n",
    "# from fastapi.middleware.cors import CORSMiddleware\n",
    "# from fastapi.params import Body\n",
    "# from random import randrange\n",
    "# import psycopg2\n",
    "# from psycopg2.extras import RealDictCursor\n",
    "\n",
    "## sqlalchemy and ORM (database.py from tut)\n",
    "from sqlalchemy import create_engine\n",
    "from sqlalchemy.ext.declarative import declarative_base\n",
    "from sqlalchemy.orm import sessionmaker, Session\n",
    "import psycopg2\n",
    "from psycopg2.extras import RealDictCursor\n",
    "SQLALCHEMY_DATABASE_URL = 'postgresql://postgres:p@localhost/sai_db2'\n",
    "engine = create_engine(SQLALCHEMY_DATABASE_URL)\n",
    "SessionLocal = sessionmaker(autocommit=False, autoflush=False, bind=engine)\n",
    "Base = declarative_base()\n",
    "\n",
    "# import aishiftscheduler.dbmodels as dbm\n",
    "# import aishiftscheduler.schemas as sch\n",
    "\n",
    "# from aishiftscheduler.production import get_db"
   ]
  },
  {
   "cell_type": "code",
   "execution_count": null,
   "metadata": {},
   "outputs": [],
   "source": [
    "#| export\n",
    "def get_db():\n",
    "    db = SessionLocal()\n",
    "    try:\n",
    "        yield db\n",
    "    finally:\n",
    "        db.close()"
   ]
  },
  {
   "cell_type": "code",
   "execution_count": null,
   "metadata": {},
   "outputs": [],
   "source": [
    "#| export\n",
    "## db stuff\n",
    "import time\n",
    "while True:\n",
    "    try:\n",
    "        conn = psycopg2.connect(host='localhost', database='sai_db2', user='postgres', password='p', cursor_factory=RealDictCursor)\n",
    "        cursor = conn.cursor()\n",
    "        print(\"Database connection was successful!\")\n",
    "        break\n",
    "    except Exception as error:\n",
    "        print(\"Connecting to database failed\")\n",
    "        print(\"Error: \", error)       \n",
    "        time.sleep(2)"
   ]
  }
 ],
 "metadata": {
  "kernelspec": {
   "display_name": "python3",
   "language": "python",
   "name": "python3"
  },
  "language_info": {
   "codemirror_mode": {
    "name": "ipython",
    "version": 3
   },
   "file_extension": ".py",
   "mimetype": "text/x-python",
   "name": "python",
   "nbconvert_exporter": "python",
   "pygments_lexer": "ipython3",
   "version": "3.10.12"
  }
 },
 "nbformat": 4,
 "nbformat_minor": 4
}
