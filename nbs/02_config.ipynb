{
 "cells": [
  {
   "cell_type": "markdown",
   "metadata": {},
   "source": [
    "# config\n",
    "\n",
    "> Configure the system\n",
    "- order: 2"
   ]
  },
  {
   "cell_type": "code",
   "execution_count": null,
   "metadata": {},
   "outputs": [],
   "source": [
    "#| default_exp config"
   ]
  },
  {
   "cell_type": "code",
   "execution_count": null,
   "metadata": {},
   "outputs": [],
   "source": [
    "# Set up autoreload\n",
    "%load_ext autoreload\n",
    "%autoreload 2"
   ]
  },
  {
   "cell_type": "code",
   "execution_count": null,
   "metadata": {},
   "outputs": [],
   "source": [
    "#| hide\n",
    "from nbdev.showdoc import *"
   ]
  },
  {
   "cell_type": "code",
   "execution_count": null,
   "metadata": {},
   "outputs": [],
   "source": [
    "#| export\n",
    "# from collections import namedtuple, defaultdict\n",
    "# import numpy as np\n",
    "import pandas as pd\n",
    "# import matplotlib as mpl\n",
    "# import matplotlib.pyplot as plt\n",
    "# from copy import copy\n",
    "# import time\n",
    "# import math\n",
    "# from pprint import pprint\n",
    "## !pip install -U \"ray\"\n",
    "# import ray\n",
    "# import json\n",
    "\n",
    "import aishiftscheduler.loader as ldr"
   ]
  },
  {
   "cell_type": "code",
   "execution_count": null,
   "metadata": {},
   "outputs": [],
   "source": [
    "# pd.__version__"
   ]
  },
  {
   "cell_type": "code",
   "execution_count": null,
   "metadata": {},
   "outputs": [],
   "source": [
    "#| export\n",
    "## PARAMETERS\n",
    "## MODES:\n",
    "## TRAIN|LEARN\n",
    "## EVALU\n",
    "## INFER|APPLY|SERVE\n",
    "# MODES = ['LEARN']\n",
    "# MODES = ['TRAIN', 'EVALU']\n",
    "MODES = ['TRAIN', 'EVALU', 'INFER']\n",
    "# MODES = ['EVALU', 'INFER']\n",
    "# MODES = ['INFER']"
   ]
  },
  {
   "cell_type": "code",
   "execution_count": null,
   "metadata": {},
   "outputs": [],
   "source": [
    "#| hide\n",
    "# try this:\n",
    "# In MANIFEST.in:\n",
    "# include AIShiftScheduler_KE5/shift_scheduler_data.xlsx\n",
    "# Does not seem to make a difference"
   ]
  },
  {
   "cell_type": "code",
   "execution_count": null,
   "metadata": {},
   "outputs": [
    {
     "name": "stdout",
     "output_type": "stream",
     "text": [
      "../aishiftscheduler/shift_scheduler_data.xlsx\n",
      "../aishiftscheduler/best_theta_data.xlsx\n",
      "../aishiftscheduler/AIShiftScheduler1.png\n"
     ]
    }
   ],
   "source": [
    "#| export\n",
    "# based on:\n",
    "# https://github.com/MannLabs/alphapept/blob/master/nbs/10_constants.ipynb\n",
    "# https://github.com/MannLabs/alphapept/blob/843de6b7b560b4ebaefdd9fbe533b65098df3b15/alphapept/webui.py#L9\n",
    "# put data file in 'package' folder (aishiftscheduler), i.e. not in 'nbs' folder\n",
    "import os\n",
    "try:\n",
    "    base = os.path.dirname(os.path.abspath(__file__)) #Cant do this in notebook\n",
    "except NameError:\n",
    "    base = os.path.join(os.pardir, 'aishiftscheduler')\n",
    "\n",
    "if not os.path.isfile(os.path.join(base, \"shift_scheduler_data.xlsx\")):\n",
    "    #Calling nbdev build_docs from parent dir\n",
    "    base = os.path.join(base, 'aishiftscheduler')\n",
    "\n",
    "# shift_scheduler_data_path = os.path.join(base, \"shift_scheduler_data.xlsx\")\n",
    "PATH_shift_scheduler_data = os.path.join(base, \"shift_scheduler_data.xlsx\"); print(PATH_shift_scheduler_data)\n",
    "PATH_best_theta_data = os.path.join(base, \"best_theta_data.xlsx\"); print(PATH_best_theta_data)\n",
    "PATH_AIShiftScheduler1 = os.path.join(base, \"AIShiftScheduler1.png\"); print(PATH_AIShiftScheduler1)"
   ]
  },
  {
   "cell_type": "code",
   "execution_count": null,
   "metadata": {},
   "outputs": [],
   "source": [
    "# #| export\n",
    "# BASE_DIR = '.'\n",
    "# # BASE_DIR = '..'\n",
    "# FILE_NAME = 'shift_scheduler_data.xlsx'"
   ]
  },
  {
   "cell_type": "code",
   "execution_count": null,
   "metadata": {},
   "outputs": [],
   "source": [
    "#| export\n",
    "SICK_PROBS = ldr.load_sick_probs(PATH_shift_scheduler_data)\n",
    "MERIT_PROBS = ldr.load_merit_probs(PATH_shift_scheduler_data)\n",
    "EXOG_INFO = ldr.load_exog_info(PATH_shift_scheduler_data)"
   ]
  },
  {
   "cell_type": "code",
   "execution_count": null,
   "metadata": {},
   "outputs": [],
   "source": [
    "#| export\n",
    "BEST_THETA_Alloc = (0, 0, 0, 1, 'random') #will be written/read eventually"
   ]
  },
  {
   "cell_type": "code",
   "execution_count": null,
   "metadata": {},
   "outputs": [],
   "source": [
    "#| export\n",
    "MAX_RESOURCE_TYPES = 3\n",
    "MAX_RESOURCE_IDS = 13"
   ]
  },
  {
   "cell_type": "code",
   "execution_count": null,
   "metadata": {},
   "outputs": [
    {
     "name": "stdout",
     "output_type": "stream",
     "text": [
      "\n",
      "len(thNAMES)=5\n",
      "thNAMES=['thCumSlots', 'thSickProb', 'thCumMerits', 'thContSlots', 'thSelect']\n"
     ]
    }
   ],
   "source": [
    "#| export\n",
    "piNAMES = ['X__Alloc'] ##policy names\n",
    "thNAMES = [ ##theta names\n",
    "  'thCumSlots',\n",
    "  'thSickProb',\n",
    "  'thCumMerits',\n",
    "  'thContSlots',\n",
    "  'thSelect'\n",
    "  ## 'thBusyRate' ##later\n",
    "]\n",
    "print(f'\\n{len(thNAMES)=}')\n",
    "print(f'{thNAMES=}')"
   ]
  },
  {
   "cell_type": "code",
   "execution_count": null,
   "metadata": {},
   "outputs": [],
   "source": [
    "#| export\n",
    "BLOCK_START_HOUR = {0: 0, 1: 8, 2:16}"
   ]
  },
  {
   "cell_type": "code",
   "execution_count": null,
   "metadata": {},
   "outputs": [],
   "source": [
    "#| export\n",
    "SEED_TRAIN = 77777777\n",
    "SEED_EVALU = 88888888\n",
    "## N_SAMPLEPATHS = 100; L = N_SAMPLEPATHS\n",
    "## N_TRANSITIONS = 100; T = N_TRANSITIONS"
   ]
  },
  {
   "cell_type": "code",
   "execution_count": null,
   "metadata": {},
   "outputs": [],
   "source": [
    "#| export\n",
    "# TH_CumSlots_SPEC = (0, 1, .2)!!!!!!!!!!!!!!!!!!!\n",
    "TH_CumSlots_SPEC = (0, 1, .5)\n",
    "# TH_SickProb_SPEC = (0, 1, .2)!!!!!!!!!!!!!!!!!!!!\n",
    "TH_SickProb_SPEC = (0, 1, .5)\n",
    "# TH_CumMerits_SPEC = (0, 1, .2)!!!!!!!!!!!!!!!!!!!!!!\n",
    "TH_CumMerits_SPEC = (0, 1, .5)\n",
    "# TH_ContSlots_SPEC = (0, 1, .2)!!!!!!!!!!!!!!!!!\n",
    "TH_ContSlots_SPEC = (0, 1, .5)\n",
    "## TH_Select_SPEC = ('random', 'ranked_CumMerits')\n",
    "TH_Select_SPEC = ('random',)\n",
    "## TH_Select_SPEC = ('ranked_CumMerits',)"
   ]
  },
  {
   "cell_type": "code",
   "execution_count": null,
   "metadata": {},
   "outputs": [],
   "source": [
    "# #| export\n",
    "# SIM_T = 60\n",
    "# ## SIM_MU_D = {bNAMES[0]: 4, bNAMES[1]: 2}\n",
    "# SIM_MU_D = {bNAMES[0]: 4, bNAMES[1]: 2, bNAMES[2]: 2}\n",
    "# print(f'\\n{SIM_MU_D=}')\n",
    "# assert len(SIM_MU_D.items())==len(bNAMES)\n",
    "\n",
    "# ## SIM_EVENT_TIME_D = {bNAMES[0]: None, bNAMES[1]: None, bNAMES[2]: None, bNAMES[3]: None}\n",
    "# ## SIM_EVENT_TIME_D = {bNAMES[0]: None, bNAMES[1]: None}\n",
    "# SIM_EVENT_TIME_D = {bNAMES[0]: None, bNAMES[1]: None, bNAMES[2]: None}\n",
    "# print(f'\\n{SIM_EVENT_TIME_D=}')\n",
    "# assert len(SIM_EVENT_TIME_D.items())==len(bNAMES)\n",
    "\n",
    "# ## SIM_MU_DELTA_D = {bNAMES[0]: None, bNAMES[1]: None, bNAMES[2]: None, bNAMES[3]: None}\n",
    "# SIM_MU_DELTA_D = {bNAMES[0]: None, bNAMES[1]: None, bNAMES[2]: None}\n",
    "# print(f'\\n{SIM_MU_DELTA_D=}')\n",
    "# assert len(SIM_MU_DELTA_D.items())==len(bNAMES)"
   ]
  },
  {
   "cell_type": "code",
   "execution_count": null,
   "metadata": {},
   "outputs": [],
   "source": [
    "#| export\n",
    "CONTIGUOUS_REWARD = 1"
   ]
  },
  {
   "cell_type": "code",
   "execution_count": null,
   "metadata": {},
   "outputs": [],
   "source": [
    "#| export\n",
    "GOV_UTIL_THESH = 0.40"
   ]
  },
  {
   "cell_type": "code",
   "execution_count": null,
   "metadata": {},
   "outputs": [],
   "source": [
    "#| hide\n",
    "import nbdev; nbdev.nbdev_export()"
   ]
  },
  {
   "cell_type": "code",
   "execution_count": null,
   "metadata": {},
   "outputs": [],
   "source": []
  }
 ],
 "metadata": {
  "kernelspec": {
   "display_name": "python3",
   "language": "python",
   "name": "python3"
  }
 },
 "nbformat": 4,
 "nbformat_minor": 4
}
