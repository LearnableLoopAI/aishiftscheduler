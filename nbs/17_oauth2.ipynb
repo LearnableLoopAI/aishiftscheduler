{
 "cells": [
  {
   "cell_type": "markdown",
   "metadata": {},
   "source": [
    "# oauth2\n",
    "\n",
    "> For oauth2"
   ]
  },
  {
   "cell_type": "code",
   "execution_count": 3,
   "metadata": {},
   "outputs": [],
   "source": [
    "#| default_exp oauth2"
   ]
  },
  {
   "cell_type": "code",
   "execution_count": 4,
   "metadata": {},
   "outputs": [
    {
     "name": "stdout",
     "output_type": "stream",
     "text": [
      "/home/uts/aishiftscheduler/.venv/bin/python\n"
     ]
    }
   ],
   "source": [
    "!which python"
   ]
  },
  {
   "cell_type": "code",
   "execution_count": 5,
   "metadata": {},
   "outputs": [
    {
     "name": "stdout",
     "output_type": "stream",
     "text": [
      "Python 3.10.12\n"
     ]
    }
   ],
   "source": [
    "!python --version"
   ]
  },
  {
   "cell_type": "code",
   "execution_count": 6,
   "metadata": {},
   "outputs": [],
   "source": [
    "# Set up autoreload\n",
    "%load_ext autoreload\n",
    "%autoreload 2"
   ]
  },
  {
   "cell_type": "code",
   "execution_count": 7,
   "metadata": {},
   "outputs": [],
   "source": [
    "#| hide\n",
    "from nbdev.showdoc import *"
   ]
  },
  {
   "cell_type": "code",
   "execution_count": 10,
   "metadata": {},
   "outputs": [
    {
     "name": "stdout",
     "output_type": "stream",
     "text": [
      "/home/uts/aishiftscheduler/aishiftscheduler/shift_scheduler_data.xlsx\n",
      "/home/uts/aishiftscheduler/aishiftscheduler/best_theta_data.xlsx\n",
      "/home/uts/aishiftscheduler/aishiftscheduler/AIShiftScheduler1.png\n",
      "\n",
      "len(thNAMES)=5\n",
      "thNAMES=['thCumSlots', 'thSickProb', 'thCumMerits', 'thContSlots', 'thSelect']\n"
     ]
    }
   ],
   "source": [
    "#| export\n",
    "from jose import JWTError, jwt\n",
    "from datetime import datetime, timedelta\n",
    "import aishiftscheduler.schemas as sch\n",
    "import aishiftscheduler.database as db\n",
    "import aishiftscheduler.dbmodels as dbm\n",
    "from fastapi import Depends, status, HTTPException\n",
    "from fastapi.security import OAuth2PasswordBearer\n",
    "from sqlalchemy.orm import Session\n",
    "\n",
    "oauth2_scheme = OAuth2PasswordBearer(tokenUrl=\"login\")\n",
    "\n",
    "# import aishiftscheduler.dbmodels as dbm\n",
    "# import aishiftscheduler.schemas as sch\n",
    "# import aishiftscheduler.utils as utl\n",
    "# from aishiftscheduler.database import get_db"
   ]
  },
  {
   "cell_type": "code",
   "execution_count": null,
   "metadata": {},
   "outputs": [],
   "source": [
    "#| export\n",
    "## SECRET_KEY\n",
    "## Algorithm\n",
    "## Expiration time\n",
    "\n",
    "SECRET_KEY = \"change me by going to oauth2 docs and get longer one\"\n",
    "ALGORITHM = \"HS256\"\n",
    "ACCESS_TOKEN_EXPIRE_MINUTES = 60\n",
    "\n",
    "def create_access_token(data: dict):\n",
    "    to_encode = data.copy()\n",
    "\n",
    "    # expire = datetime.utcnow() + timedelta(minutes=ACCESS_TOKEN_EXPIRE_MINUTES)\n",
    "    expire = datetime.utcnow() + timedelta(minutes=ACCESS_TOKEN_EXPIRE_MINUTES)\n",
    "    to_encode.update({\"exp\": expire})\n",
    "\n",
    "    encoded_jwt = jwt.encode(to_encode, SECRET_KEY, algorithm=ALGORITHM)\n",
    "\n",
    "    return encoded_jwt"
   ]
  },
  {
   "cell_type": "code",
   "execution_count": null,
   "metadata": {},
   "outputs": [],
   "source": [
    "#| export\n",
    "def verify_access_token(token: str, credentials_exception):\n",
    "    try:\n",
    "        payload = jwt.decode(token, SECRET_KEY, algorithms=[ALGORITHM])\n",
    "        id: str = payload.get(\"user_id\")\n",
    "        if id is None:\n",
    "            raise credentials_exception\n",
    "        token_data = sch.TokenData(id=id)\n",
    "    # except JWTError as e:\n",
    "    except JWTError:\n",
    "        # print(e)\n",
    "        raise credentials_exception\n",
    "    # except AssertionError as e:\n",
    "    return token_data"
   ]
  },
  {
   "cell_type": "code",
   "execution_count": null,
   "metadata": {},
   "outputs": [],
   "source": [
    "#| export\n",
    "def get_current_user(token: str=Depends(oauth2_scheme), db: Session=Depends(db.get_db)):\n",
    "    credentials_exception = HTTPException(status_code=status.HTTP_401_UNAUTHORIZED, detail=f\"Could not validate credentials\", headers={\"WWW-Authenticate\": \"Bearer\"})\n",
    "    # return verify_access_token(token, credentials_exception)\n",
    "    token = verify_access_token(token, credentials_exception)\n",
    "    user = db.query(dbm.User).filter(dbm.User.id == token.id).first()\n",
    "    return user"
   ]
  }
 ],
 "metadata": {
  "kernelspec": {
   "display_name": "python3",
   "language": "python",
   "name": "python3"
  },
  "language_info": {
   "codemirror_mode": {
    "name": "ipython",
    "version": 3
   },
   "file_extension": ".py",
   "mimetype": "text/x-python",
   "name": "python",
   "nbconvert_exporter": "python",
   "pygments_lexer": "ipython3",
   "version": "3.10.12"
  }
 },
 "nbformat": 4,
 "nbformat_minor": 4
}
