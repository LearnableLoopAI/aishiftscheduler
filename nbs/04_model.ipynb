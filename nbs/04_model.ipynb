{
 "cells": [
  {
   "cell_type": "markdown",
   "metadata": {},
   "source": [
    "# model\n",
    "> Model of the environment | System-Under-Steer\n",
    "- order: 4"
   ]
  },
  {
   "cell_type": "code",
   "execution_count": null,
   "metadata": {},
   "outputs": [],
   "source": [
    "#| default_exp model"
   ]
  },
  {
   "cell_type": "code",
   "execution_count": null,
   "metadata": {},
   "outputs": [
    {
     "name": "stdout",
     "output_type": "stream",
     "text": [
      "/Users/kobus/aishiftscheduler/.venv/bin/python\n"
     ]
    }
   ],
   "source": [
    "!which python"
   ]
  },
  {
   "cell_type": "code",
   "execution_count": null,
   "metadata": {},
   "outputs": [],
   "source": [
    "# Set up autoreload\n",
    "%load_ext autoreload\n",
    "%autoreload"
   ]
  },
  {
   "cell_type": "code",
   "execution_count": null,
   "metadata": {},
   "outputs": [],
   "source": [
    "#| hide\n",
    "from nbdev.showdoc import *"
   ]
  },
  {
   "cell_type": "code",
   "execution_count": null,
   "metadata": {},
   "outputs": [
    {
     "name": "stdout",
     "output_type": "stream",
     "text": [
      "/Users/kobus/aishiftscheduler/aishiftscheduler/shift_scheduler_data.xlsx\n",
      "/Users/kobus/aishiftscheduler/aishiftscheduler/AIShiftScheduler1.png\n",
      "\n",
      "len(thNAMES)=5\n",
      "thNAMES=['thCumSlots', 'thSickProb', 'thCumMerits', 'thContSlots', 'thSelect']\n"
     ]
    }
   ],
   "source": [
    "#| export\n",
    "from collections import defaultdict\n",
    "import pandas as pd\n",
    "# import matplotlib as mpl\n",
    "# import matplotlib.pyplot as plt\n",
    "from copy import copy\n",
    "# import time\n",
    "# import math\n",
    "# from pprint import pprint\n",
    "## !pip install -U \"ray\"\n",
    "# import ray\n",
    "# import json\n",
    "\n",
    "from fastcore.basics import patch\n",
    "import aishiftscheduler.config as cf\n",
    "# import aishiftscheduler.policy as pol\n",
    "import aishiftscheduler.visualization as vis"
   ]
  },
  {
   "cell_type": "code",
   "execution_count": null,
   "metadata": {},
   "outputs": [
    {
     "data": {
      "text/plain": [
       "'2.0.3'"
      ]
     },
     "execution_count": null,
     "metadata": {},
     "output_type": "execute_result"
    }
   ],
   "source": [
    "pd.__version__"
   ]
  },
  {
   "cell_type": "code",
   "execution_count": null,
   "metadata": {},
   "outputs": [],
   "source": [
    "#| export\n",
    "pd.options.display.float_format = '{:,.4f}'.format\n",
    "pd.set_option('display.max_columns', None)\n",
    "pd.set_option('display.max_rows', None)\n",
    "pd.set_option('display.max_colwidth', None)"
   ]
  },
  {
   "cell_type": "code",
   "execution_count": null,
   "metadata": {},
   "outputs": [],
   "source": [
    "class MyClass(int): pass"
   ]
  },
  {
   "cell_type": "code",
   "execution_count": null,
   "metadata": {},
   "outputs": [],
   "source": [
    "@patch\n",
    "def func(self: MyClass, a): return self + a"
   ]
  },
  {
   "cell_type": "code",
   "execution_count": null,
   "metadata": {},
   "outputs": [],
   "source": [
    "mc = MyClass(3)"
   ]
  },
  {
   "cell_type": "code",
   "execution_count": null,
   "metadata": {},
   "outputs": [
    {
     "data": {
      "text/plain": [
       "13"
      ]
     },
     "execution_count": null,
     "metadata": {},
     "output_type": "execute_result"
    }
   ],
   "source": [
    "mc.func(10)"
   ]
  },
  {
   "cell_type": "markdown",
   "metadata": {},
   "source": [
    "### 4.3 Mathematical Model | SUS Design"
   ]
  },
  {
   "cell_type": "markdown",
   "metadata": {},
   "source": [
    "A Python class is used to implement the model for the SUS (System Under Steer):\n",
    "\n",
    "```\n",
    "class Model():\n",
    "  def __init__(self, S_0_info):\n",
    "    ...\n",
    "    ...\n",
    "```"
   ]
  },
  {
   "cell_type": "markdown",
   "metadata": {},
   "source": [
    "#### 4.3.1 State variables"
   ]
  },
  {
   "cell_type": "markdown",
   "metadata": {},
   "source": [
    "We will have the *learnable* parameters:\n",
    "\n",
    "$$(\\theta^{CumShifts}, \\theta^{SickProb}, \\theta^{CumMerits}, \\theta^{Select})$$"
   ]
  },
  {
   "cell_type": "markdown",
   "metadata": {},
   "source": [
    "The *state variables* represent *what we need to know*.\n",
    "\n",
    "- $R^{Avail}_t = (R^{Avail}_{ta})_{a \\in \\cal A}$ where $\\cal{A} = \\{\\alpha_1, \\alpha_2, ... \\alpha_{10}\\}$\n",
    "  - $R^{Avail}_{ta}$ = Boolean indicator for whether this resource (with attribute $a$), is available at $t$ for rental\n",
    "  - $\\alpha_1$ = 1_Courtesy\n",
    "  - $\\alpha_2$ = 2_Courtesy\n",
    "  - $\\alpha_3$ = 3_Courtesy\n",
    "  - ...\n",
    "  - $\\alpha_{15}$ = 9_Stocker\n",
    "  - $\\alpha_{16}$ = 10_Stocker\n",
    "- $R^{CumShifts}_t = (R^{CumShifts}_{ta})_{a \\in \\cal A}$ where $\\cal{A} = \\{\\alpha_1, \\alpha_2, ... \\alpha_{10}\\}$\n",
    "  - $R^{CumShifts}_{ta}$ = Number of shifts this resource (with attribute $a$), has worked at $t$\n",
    "  - $\\alpha_1$ = 1_Courtesy\n",
    "  - $\\alpha_2$ = 2_Courtesy\n",
    "  - $\\alpha_3$ = 3_Courtesy\n",
    "  - ...\n",
    "  - $\\alpha_{15}$ = 9_Stocker\n",
    "  - $\\alpha_{16}$ = 10_Stocker\n",
    "- $R^{CumMerits}_t = (R^{CumMerits}_{ta})_{a \\in \\cal A}$ where $\\cal{A} = \\{\\alpha_1, \\alpha_2, ... \\alpha_{10}\\}$\n",
    "  - $R^{CumMerits}_{ta}$ = Number of net merits this resource (with attribute $a$), has gained at $t$\n",
    "  - $\\alpha_1$ = 1_Courtesy\n",
    "  - $\\alpha_2$ = 2_Courtesy\n",
    "  - $\\alpha_3$ = 3_Courtesy\n",
    "  - ...\n",
    "  - $\\alpha_{15}$ = 9_Stocker\n",
    "  - $\\alpha_{16}$ = 10_Stocker  \n",
    "- $D^{Shift}_t = (D^{Shift}_{tb})_{b \\in \\cal B}$ where $\\cal{B} = \\{\\beta_1, \\beta_2\\}$\n",
    "  - $D^{Shift}_{tb}$ = Number of demands for this resource (with attribute $b$), at $t$\n",
    "  - $\\beta_1$ = Courtesy\n",
    "  - $\\beta_1$ = Stocker\n",
    "- $n^{Merits}_t = (n^{Merits}_{tb})_{b \\in \\cal B}$ where $\\cal{B} = \\{\\beta_1, \\beta_2\\}$\n",
    "  - $n^{Merits}_{tb}$ = Number of merits for this resource (with attribute $b$), at $t$\n",
    "  - $\\beta_1$ = Courtesy\n",
    "  - $\\beta_1$ = Stocker  \n",
    "\n",
    "The state is:\n",
    "\n",
    "$$\n",
    "\\begin{aligned}\n",
    "S_t &= (R^{Avail}_t, R^{CumShifts}_t, R^{CumMerits}_t, D^{Shift}_t, n^{Merits}_t)\n",
    "\\end{aligned}\n",
    "$$"
   ]
  },
  {
   "cell_type": "markdown",
   "metadata": {},
   "source": [
    "#### 4.3.2 Decision variables"
   ]
  },
  {
   "cell_type": "markdown",
   "metadata": {},
   "source": [
    "The *decision variables* represent *what we control*.\n",
    "\n",
    "The decision vector is given by:\n",
    "\n",
    "- $x_t = (x_{tab})_{a\\in \\cal A, b\\in \\cal B}$ where\n",
    "  - $\\cal{A} = \\{\\alpha_1, \\alpha_2, ... \\alpha_{10}\\}$\n",
    "  - $\\cal{B} = \\{\\beta_1, \\beta_2\\}$\n",
    "  - $x_{tab}$ is a boolean vector that indicates whether a specific resource is to be allocated to a demand\n",
    "\n",
    "- Decisions are made with a policy (TBD below):\n",
    "  - $X^{\\pi}(S_t)$"
   ]
  },
  {
   "cell_type": "markdown",
   "metadata": {},
   "source": [
    "#### 4.3.3 Exogenous information variables"
   ]
  },
  {
   "cell_type": "markdown",
   "metadata": {},
   "source": [
    "The *exogenous information variables* represent *what we did not know (when we made a decision)*. These are the variables that we cannot control directly. The information in these variables become available *after* we make the decision $x_t$.\n",
    "\n",
    "When we assume that the demand in each time period is revealed, without any model to predict the demand based on past demands, we have, using approach 1:\n",
    "\n",
    "$$\n",
    "\\begin{aligned}\n",
    "D_{t+1} &= W_{t+1} \\\\\n",
    "        &= \\hat{D}_{t+1}\n",
    "\\end{aligned}         \n",
    "$$\n",
    "\n",
    "Alternatively, when we assume that we observe the *change* in demand $\\hat{D}_{t+1}=p_{t+1}-p_{t}$, we have, using approach 2:\n",
    "\n",
    "$$\n",
    "\\begin{aligned}\n",
    "D_{t+1} &= D_t + W_{t+1} \\\\\n",
    "        &= D_t + \\hat{D}_{t+1}\n",
    "\\end{aligned}\n",
    "$$\n",
    "\n",
    "We will make use of approach 1 which means that the exogenous information, $W_{t+1}$, is the directly observed demands of the resources.\n",
    "\n",
    "Similarly, for the earned merits, we have\n",
    "\n",
    "$$\n",
    "\\begin{aligned}\n",
    "n_{t+1} &= W_{t+1} \\\\\n",
    "        &= \\hat{n}_{t+1}\n",
    "\\end{aligned}         \n",
    "$$\n",
    "\n",
    "The exogenous information is obtained by calls to\n",
    "\n",
    "`DemandSimulator.simulate(...)`\n",
    "\n",
    "`MeritSimulator.simulate(...)`"
   ]
  },
  {
   "cell_type": "markdown",
   "metadata": {},
   "source": [
    "#### 4.3.4 Transition function"
   ]
  },
  {
   "cell_type": "markdown",
   "metadata": {},
   "source": [
    "The *transition function* describe how the state variables evolve over time. We have the equations:\n",
    "\n",
    "$$\n",
    "R^{Avail}_{t+1} =\n",
    "\\begin{cases}\n",
    "  1 & \\text{if resource with attribute $a$ has not been allocated} \\\\\n",
    "  0 & \\text{if resource with attribute $a$ has been allocated  }\n",
    "\\end{cases}\n",
    "$$\n",
    "\n",
    "$$\n",
    "R^{CumShifts}_{t+1} =\n",
    "\\begin{cases}\n",
    "  R^{CumShifts}_{t} + 1 & \\text{if resource was allocated} \\\\\n",
    "  R^{CumShifts}_{t} & \\text{if resource was not allocated  }\n",
    "\\end{cases}\n",
    "$$\n",
    "\n",
    "$$\n",
    "R^{CumMerits}_{t+1} = R^{CumMerits}_{t} + n^{Merits}_t\n",
    "$$\n",
    "\n",
    "Collectively, they represent the general transition function:\n",
    "\n",
    "$$\n",
    "S_{t+1} = S^M(S_t,X^{\\pi}(S_t))\n",
    "$$"
   ]
  },
  {
   "cell_type": "markdown",
   "metadata": {},
   "source": [
    "#### 4.3.5 Objective function"
   ]
  },
  {
   "cell_type": "markdown",
   "metadata": {},
   "source": [
    "The *objective function* captures the performance metrics of the solution to the problem.\n",
    "\n",
    "We can write the state-dependant reward (also called contribution due to the allocation of a resource with attribute $b$):\n",
    "\n",
    "$$\n",
    "C(S_t,x_t) =\n",
    "\\begin{cases}\n",
    "  1 & \\text{if resource was allocated} \\\\\n",
    "  -1 & \\text{if resource was not allocated  }\n",
    "\\end{cases}\n",
    "$$\n",
    "\n",
    "We have the objective function:\n",
    "\n",
    "$$\n",
    "\\max_{\\pi}\\mathbb{E}\\{\\sum_{t=0}^{T}C(S_t,x_t,W_{t+1}) \\}\n",
    "$$\n",
    "\n",
    "The learned parameters are:\n",
    "\n",
    "$$(\\theta^{CumShifts}, \\theta^{SickProb}, \\theta^{CumMerits}, \\theta^{Select})$$"
   ]
  },
  {
   "cell_type": "markdown",
   "metadata": {},
   "source": [
    "#### 4.3.6 Implementation of the System Under Steer (SUS) Model"
   ]
  },
  {
   "cell_type": "code",
   "execution_count": null,
   "metadata": {},
   "outputs": [],
   "source": [
    "#| export\n",
    "class Model(): pass"
   ]
  },
  {
   "cell_type": "code",
   "execution_count": null,
   "metadata": {},
   "outputs": [],
   "source": [
    "#| export\n",
    "@patch\n",
    "def __init__(self:Model, pars, W_fn=None, S__M_fn=None, C_fn=None):\n",
    "    self.params = pars\n",
    "    self.S_t = {\n",
    "      'R_t': pd.DataFrame({\n",
    "        'ResourceId': pars.RESOURCE_IDS,\n",
    "        'Type': pars.TYPES,\n",
    "        'RAvail_t': pars.get_availabilities(pd.to_datetime(pars.START_DATE_TIME)),\n",
    "        'RCumSlots_t': [0]*len(pars.TYPES), ##cumulative allocs (for T)\n",
    "        # /////////////////////\n",
    "        ## 'RMonthCumSlots_t': [0]*len(cf.TYPES),\n",
    "        ## 'RWeekCumSlots_t': [0]*len(cf.TYPES),\n",
    "        ## 'RUtil_t': [0]*len(cf.TYPES),\n",
    "        # \\\\\\\\\\\\\\\\\\\n",
    "        'RCumMerits_t': [0]*len(pars.TYPES),\n",
    "        'RComplete_t': [0]*len(pars.TYPES), ## 1/0: daily slot-run complete or not\n",
    "      }),\n",
    "      'D_t': pd.DataFrame({ ## Demands\n",
    "        'Type': pars.RESOURCE_TYPES,\n",
    "        ## base demand, due to D_n\n",
    "        'DSlot_t': [1]*len(pars.RESOURCE_TYPES), ##why 1?\n",
    "        ## demand due to busyness, i.e. foot traffic\n",
    "        'DBusy_t': [0]*len(pars.RESOURCE_TYPES), \n",
    "        ## demand due to volume, number of items seems to correlate best with demand in general\n",
    "        'DVolume_t': [0]*len(pars.RESOURCE_TYPES),\n",
    "        ## demand due to revenue, e.g. high-value items requires more staff for approval for returns \n",
    "        'DRevenue_t': [0]*len(pars.RESOURCE_TYPES),\n",
    "        ## demand max due to all sources\n",
    "        'DMax_t': [0]*len(pars.RESOURCE_TYPES), \n",
    "      }),\n",
    "      'M_t': pd.DataFrame({ ## Merits\n",
    "        'ResourceId': pars.RESOURCE_IDS,\n",
    "        'Type': pars.TYPES,\n",
    "        'nMerits_t': [0]*len(pars.TYPES),\n",
    "      }),\n",
    "      'B_t': pd.DataFrame({ ## Busyness\n",
    "        'Busy_t': [0],\n",
    "      }),\n",
    "      'V_t': pd.DataFrame({ ## Volume\n",
    "        'Volume_t': [0],\n",
    "      }),\n",
    "      'N_t': pd.DataFrame({ ## Revenue\n",
    "        'Revenue_t': [0],\n",
    "      }),      \n",
    "      'xAlloc_t_1': pd.DataFrame({ ##previous allocation\n",
    "        'Comb': pars.abNAMES, ##Combination\n",
    "        'Allocd_t': [False]*len(pars.abNAMES), ##Allocated\n",
    "      }),\n",
    "    }\n",
    "    self.x_t = {\n",
    "      'xAlloc_t': pd.DataFrame({\n",
    "        'Comb': pars.abNAMES, ##Combination\n",
    "        'Allocd_t': [False]*len(pars.abNAMES), ##Allocated\n",
    "      }),\n",
    "    }\n",
    "    self.Ccum_CumSlots = 0.0\n",
    "    self.Ccum_SickProb = 0.0\n",
    "    self.Ccum_CumMerits = 0.0\n",
    "    self.Ccum_ContSlots = 0.0\n",
    "    self.Ccum = 0.0 ##cumulative reward\n",
    "\n",
    "    self.Ucum_Total = 0 ##cumulative unallocated/unmet demands\n",
    "    ##cumulative unallocated/unmet demands\n",
    "    self.Ucum = {rt: 0 for rt in pars.RESOURCE_TYPES}\n",
    "    self.W_tt1 = {}"
   ]
  },
  {
   "cell_type": "code",
   "execution_count": null,
   "metadata": {},
   "outputs": [],
   "source": [
    "# M = Model()"
   ]
  },
  {
   "cell_type": "code",
   "execution_count": null,
   "metadata": {},
   "outputs": [],
   "source": [
    "# @patch\n",
    "# def reset(self:Model):\n",
    "#   self.Ccum = 0.0\n",
    "#   self.Ucum = 0"
   ]
  },
  {
   "cell_type": "code",
   "execution_count": null,
   "metadata": {},
   "outputs": [],
   "source": [
    "#| export\n",
    "@patch\n",
    "def W_fn(self:Model, t, dt): ## exogenous information\n",
    "    return {\n",
    "      ## 'demands': DEM.simulate(),\n",
    "      ## 'demands': {'Courtesy': 2, 'Stocker': 1},\n",
    "      'demands': { ## TAB function\n",
    "        self.params.RESOURCE_TYPES[int(col.split('_')[1])]: cf.EXOG_INFO.loc[cf.EXOG_INFO['Date'] == dt, col].squeeze() \n",
    "        for col in [f'D_{d}' for d in range(len(self.params.RESOURCE_TYPES))]\n",
    "      },\n",
    "      ## 'merits': MER.simulate(),\n",
    "      'merits': { ## TAB function\n",
    "        self.params.aNAMES[int(col.split('_')[1])]: cf.EXOG_INFO.loc[cf.EXOG_INFO['Date'] == dt, col].squeeze() \n",
    "        for col in [f'M_{m}' for m in range(len(self.params.RESOURCE_IDS))]\n",
    "      },\n",
    "      'availabilities': self.params.get_availabilities(dt), ## TAB function\n",
    "      'busyness': cf.EXOG_INFO.loc[cf.EXOG_INFO['Date'] == dt, 'busyness'].squeeze(),\n",
    "      'volume': cf.EXOG_INFO.loc[cf.EXOG_INFO['Date'] == dt, 'volume'].squeeze(),\n",
    "      'revenue': cf.EXOG_INFO.loc[cf.EXOG_INFO['Date'] == dt, 'revenue'].squeeze()\n",
    "    }"
   ]
  },
  {
   "cell_type": "code",
   "execution_count": null,
   "metadata": {},
   "outputs": [],
   "source": [
    "# t = 7"
   ]
  },
  {
   "cell_type": "code",
   "execution_count": null,
   "metadata": {},
   "outputs": [],
   "source": [
    "# dt = pd.to_datetime(cf.START_DATE_TIME); dt"
   ]
  },
  {
   "cell_type": "code",
   "execution_count": null,
   "metadata": {},
   "outputs": [],
   "source": [
    "# M.W_fn(t, dt)"
   ]
  },
  {
   "cell_type": "code",
   "execution_count": null,
   "metadata": {},
   "outputs": [],
   "source": [
    "#| export\n",
    "@patch\n",
    "def update_Ccum(self:Model, t, dt, S_t, x_t, theta):\n",
    "    ## dow, hod = ((t + 1)//24)%7, (t + 1)%24; ##print(f'{dow=}, {hod=}')\n",
    "    ## dow, qod = ((t + 1)//96)%7, (t + 1)%96; ##print(f'{dow=}, {qod=}')\n",
    "    dow, sod = ((t + 1)//self.params.SLOTS_PER_DAY)%7, (t + 1)%self.params.SLOTS_PER_DAY; ##print(f'{dow=}, {sod=}')\n",
    "    m1 = \\\n",
    "      x_t['xAlloc_t'].merge(\n",
    "      S_t['R_t']\\\n",
    "       [['RCumSlots_t', 'RAvail_t', 'RCumMerits_t']],\n",
    "       left_index=True, right_index=True)\n",
    "\n",
    "    ## merge in previous allocations\n",
    "    m1a = \\\n",
    "      S_t['xAlloc_t_1'].merge(\n",
    "      m1[['Allocd_t', 'RCumSlots_t', 'RAvail_t', 'RCumMerits_t']],\n",
    "      left_index=True, right_index=True)\n",
    "    m1a.rename(columns={'Allocd_t_x': 'Allocd_t_1', 'Allocd_t_y': 'Allocd_t'}, inplace=True)\n",
    "\n",
    "    m2 = \\\n",
    "      m1a.merge(\n",
    "      cf.SICK_PROBS[[dt.month_name()]],\n",
    "      left_index=True, right_index=True)\n",
    "    m2.rename(columns={dt.month_name(): 'SickProb'}, inplace=True)\n",
    "\n",
    "    m2['Capacity'] = pd.DataFrame({'Capacity': self.params.get_capacities(dow)})\n",
    "    m2['Ccum_CumSlots'] = -(m2['RCumSlots_t'] - m2['Capacity'])\n",
    "\n",
    "    ## m2['Ccum_SickProb'] = -100*m2['SickProb']\n",
    "    ## m2['Ccum_SickProb'] = -100*(m2['SickProb'] - m2['SickProb'].mean()) ##100 makes values more comparable with other component of Ccum\n",
    "    m2['Ccum_SickProb'] = -1*(m2['SickProb'] - m2['SickProb'].mean()) ##100 makes values more comparable with other component of Ccum\n",
    "\n",
    "    m2['Ccum_CumMerits'] = m2['RCumMerits_t']\n",
    "\n",
    "    m2.loc[ ## contiguous slots\n",
    "      (m2['Allocd_t'] == True) & \\\n",
    "      (m2['Allocd_t'] == m2['Allocd_t_1']),\n",
    "      ['Ccum_ContSlots']\n",
    "    ] = cf.CONTIGUOUS_REWARD ## reward if shift is continued without interuption\n",
    "\n",
    "    summables = m2.loc[\n",
    "      m2['Allocd_t'] == True,\n",
    "      ['Ccum_CumSlots', 'Ccum_SickProb', 'Ccum_CumMerits', 'Ccum_ContSlots'],\n",
    "    ]\n",
    "    Ccum_CumSlots, Ccum_SickProb, Ccum_CumMerits, Ccum_ContSlots = summables.sum(axis=0)\n",
    "    Ccum = \\\n",
    "      theta.thCumSlots*Ccum_CumSlots + \\\n",
    "      theta.thSickProb*Ccum_SickProb + \\\n",
    "      theta.thCumMerits*Ccum_CumMerits + \\\n",
    "      theta.thContSlots*Ccum_ContSlots\n",
    "    self.Ccum_CumSlots += Ccum_CumSlots\n",
    "    self.Ccum_SickProb += Ccum_SickProb\n",
    "    self.Ccum_CumMerits += Ccum_CumMerits\n",
    "    self.Ccum_ContSlots += Ccum_ContSlots\n",
    "    self.Ccum += Ccum\n",
    "\n",
    "    ##resource expense (what you pay them)\n",
    "    tmp = x_t['xAlloc_t'].loc[\n",
    "      x_t['xAlloc_t']['Allocd_t'] == True,\n",
    "    ]\n",
    "    tmp = tmp.copy()\n",
    "    tmp['type'] = tmp.apply(lambda row: row.Comb.split('_')[0], axis=1)\n",
    "    tmp['expense'] = tmp.apply(lambda row: self.params.RESOURCE_EXPENSE[row.type], axis=1)\n",
    "    expense = tmp['expense'].sum()\n",
    "    self.Ccum -= expense\n",
    "    \n",
    "    ## real revenue or forecast\n",
    "    self.Ccum += self.W_tt1['revenue']"
   ]
  },
  {
   "cell_type": "code",
   "execution_count": null,
   "metadata": {},
   "outputs": [],
   "source": [
    "# m = Model(); m"
   ]
  },
  {
   "cell_type": "code",
   "execution_count": null,
   "metadata": {},
   "outputs": [],
   "source": [
    "# t = 8\n",
    "# dt = pd.to_datetime(cf.START_DATE_TIME); dt"
   ]
  },
  {
   "cell_type": "code",
   "execution_count": null,
   "metadata": {},
   "outputs": [],
   "source": [
    "# S_t = m.S_t; S_t"
   ]
  },
  {
   "cell_type": "code",
   "execution_count": null,
   "metadata": {},
   "outputs": [],
   "source": [
    "# x_t = m.x_t; x_t"
   ]
  },
  {
   "cell_type": "code",
   "execution_count": null,
   "metadata": {},
   "outputs": [],
   "source": [
    "# P = pol.Policy(M)"
   ]
  },
  {
   "cell_type": "code",
   "execution_count": null,
   "metadata": {},
   "outputs": [],
   "source": [
    "# theta = P.build_theta({\n",
    "#   'thCumSlots': .1,\n",
    "#   'thSickProb': .3,\n",
    "#   'thCumMerits': .2,\n",
    "#   'thContSlots': 1 - (.6),\n",
    "#   'thSelect': 'random'\n",
    "# }); theta"
   ]
  },
  {
   "cell_type": "code",
   "execution_count": null,
   "metadata": {},
   "outputs": [],
   "source": [
    "#| export\n",
    "@patch\n",
    "def performAllocDecision(self:Model, S_t, x_t, theta):\n",
    "    ## find list of ResourceIds for allocs from x_t\n",
    "    resourceIds = x_t['xAlloc_t'].loc[\n",
    "      x_t['xAlloc_t']['Allocd_t']==True,\n",
    "      ['Comb']\n",
    "    ]['Comb'].str.split('_').str[1:2].tolist(); ##print(f'{resourceIds=}')\n",
    "    resourceIds_flat = [e[0] for e in resourceIds]; ##print(f'{resourceIds_flat=}')\n",
    "\n",
    "    ## update state of allocs\n",
    "    S_t['R_t'].loc[\n",
    "      S_t['R_t']['ResourceId'].isin(resourceIds_flat),\n",
    "      ['RAvail_t']\n",
    "    ] = 0\n",
    "    S_t['R_t'].loc[\n",
    "      S_t['R_t']['ResourceId'].isin(resourceIds_flat),\n",
    "      ['RCumSlots_t']\n",
    "    ] += 1\n",
    "\n",
    "    ## update Ccum with allocations\n",
    "    ## self.Ccum += len(resourceIds_flat) #number of allocations"
   ]
  },
  {
   "cell_type": "code",
   "execution_count": null,
   "metadata": {},
   "outputs": [],
   "source": [
    "#| export\n",
    "@patch\n",
    "def S__M_fn(self:Model, t, dt, S_t, x_t, W_tt1, theta):\n",
    "    ## dow, hod = ((t + 1)//24)%7, (t + 1)%24; ##print(f'{dow=}, {hod=}')\n",
    "    ## dow, qod = ((t + 1)//96)%7, (t + 1)%96; ##print(f'{dow=}, {qod=}')\n",
    "    dow, sod = ((t + 1)//self.params.SLOTS_PER_DAY)%7, (t + 1)%self.params.SLOTS_PER_DAY; ##print(f'{dow=}, {sod=}')\n",
    "\n",
    "    ## perform decision taken this morning\n",
    "    self.performAllocDecision(S_t, x_t, theta)\n",
    "\n",
    "    ## Update state from exogenous information\n",
    "    for an in self.params.aNAMES:\n",
    "      resId = an.split('_')[1]\n",
    "      merits = W_tt1['merits'][an]\n",
    "      S_t['M_t'].loc[S_t['M_t']['ResourceId'] == resId, 'nMerits_t'] = merits\n",
    "    S_t['R_t']['RAvail_t'] = W_tt1['availabilities']\n",
    "    ## base demands\n",
    "    for rt in self.params.RESOURCE_TYPES:\n",
    "      rt_demands = W_tt1['demands'][rt]\n",
    "      S_t['D_t'].loc[S_t['D_t']['Type'] == rt, 'DSlot_t'] = rt_demands\n",
    "    ## busyness demands  \n",
    "    busyness = W_tt1['busyness'] \n",
    "    S_t['B_t']['Busy_t'] = busyness\n",
    "    for rt in self.params.RESOURCE_TYPES:\n",
    "      rt_demands = self.params.DEMAND_PER_BUSYNESS[rt]*busyness\n",
    "      S_t['D_t'].loc[S_t['D_t']['Type'] == rt, 'DBusy_t'] = rt_demands\n",
    "    ## volume demands\n",
    "    volume = W_tt1['volume'] \n",
    "    S_t['V_t']['Volume_t'] = volume\n",
    "    for rt in self.params.RESOURCE_TYPES:\n",
    "      rt_demands = self.params.DEMAND_PER_VOLUME[rt]*volume\n",
    "      S_t['D_t'].loc[S_t['D_t']['Type'] == rt, 'DVolume_t'] = rt_demands\n",
    "    ## revenue demands\n",
    "    revenue = W_tt1['revenue']\n",
    "    S_t['N_t']['Revenue_t'] = revenue\n",
    "    for rt in self.params.RESOURCE_TYPES:\n",
    "      rt_demands = self.params.DEMAND_PER_REVENUE[rt]*revenue\n",
    "      S_t['D_t'].loc[S_t['D_t']['Type'] == rt, 'DRevenue_t'] = rt_demands    \n",
    "\n",
    "    for rt in self.params.RESOURCE_TYPES:\n",
    "      number = S_t['D_t'].loc[\n",
    "        S_t['D_t']['Type']==rt,\n",
    "        ['DSlot_t', 'DBusy_t', 'DVolume_t', 'DRevenue_t']\n",
    "      ].max(axis=1).squeeze() ##max the contributions of each demand\n",
    "      ## ].sum(axis=1).squeeze() ##sum the contributions of each demand\n",
    "      S_t['D_t'].loc[S_t['D_t']['Type'] == rt, 'DMax_t'] = number\n",
    "\n",
    "    ## Update cumulative merits of all resources\n",
    "    S_t['R_t']['RCumMerits_t'] += S_t['M_t']['nMerits_t']\n",
    "\n",
    "    ## Update RComplete_t\n",
    "    m1 = \\\n",
    "      S_t['xAlloc_t_1'].merge(\n",
    "      x_t['xAlloc_t'],\n",
    "      left_index=True, right_index=True)\n",
    "    m1.rename(columns={'Comb_x': 'Comb', 'Allocd_t_x': 'Allocd_t_1', 'Allocd_t_y': 'Allocd_t'}, inplace=True)\n",
    "    m1.drop('Comb_y', inplace=True, axis=1)\n",
    "    m2 = m1.loc[(m1['Allocd_t_1'] == True) & (m1['Allocd_t'] == False)]\n",
    "    resourceIds = m2.loc[\n",
    "      (m2['Allocd_t_1'] == True) & (m2['Allocd_t'] == False),\n",
    "      ['Comb']\n",
    "    ]['Comb'].str.split('_').str[1:2].tolist(); ##print(f'{resourceIds=}')\n",
    "    resourceIds_flat = [e[0] for e in resourceIds]; ##print(f'{resourceIds_flat=}')\n",
    "    S_t['R_t'].loc[\n",
    "      S_t['R_t']['ResourceId'].isin(resourceIds_flat),\n",
    "      ['RComplete_t']\n",
    "    ] = 1\n",
    "\n",
    "    ## Update 'xAlloc_t_1'\n",
    "    S_t['xAlloc_t_1'] = copy(x_t['xAlloc_t']) ## SG\n",
    "\n",
    "    # ## Reset for new month\n",
    "    # if dt.is_month_start:\n",
    "    #   S_t['R_t']['RMonthCumSlots_t'] = 0\n",
    "\n",
    "    # ## Reset for new week\n",
    "    # if dow == 0:\n",
    "    #   S_t['R_t']['RMonthCumSlots_t'] += S_t['R_t']['RWeekCumSlots_t']\n",
    "    #   S_t['R_t']['RWeekCumSlots_t'] = 0\n",
    "\n",
    "    ## Reset for new day\n",
    "    if sod == 0: ## slot-of-day\n",
    "      S_t['R_t']['RCumSlots_t'] = 0; ##print(f'%%% Resetting RCumSlots_t ...')\n",
    "      ## S_t['R_t']['RWeekCumSlots_t'] += S_t['R_t']['RCumSlots_t']\n",
    "      ## S_t['R_t']['RCumSlots_t'] = 0; ##print(f'%%% Resetting RCumSlots_t ...')\n",
    "\n",
    "      S_t['R_t']['RComplete_t'] = 0\n",
    "      self.Ucum = {rt: 0 for rt in self.params.RESOURCE_TYPES}\n",
    "      self.Ucum_Total = 0\n",
    "      self.Ccum_CumSlots = 0.0\n",
    "      ## self.Ccum_SickProb = 0.0\n",
    "      ## self.Ccum_CumMerits = 0.0\n",
    "      self.Ccum_ContSlots = 0.0\n",
    "      ## self.Ccum = 0.0\n",
    "\n",
    "    record_t = [t, dt] + \\\n",
    "      list(S_t['R_t']['RAvail_t']) + \\\n",
    "      list(S_t['R_t']['RCumSlots_t']) + \\\n",
    "      list(S_t['R_t']['RCumMerits_t']) + \\\n",
    "      list(S_t['R_t']['RComplete_t']) + \\\n",
    "      list(S_t['D_t']['DSlot_t']) + \\\n",
    "      list(S_t['D_t']['DBusy_t']) + \\\n",
    "      list(S_t['D_t']['DVolume_t']) + \\\n",
    "      list(S_t['D_t']['DRevenue_t']) + \\\n",
    "      list(S_t['D_t']['DMax_t']) + \\\n",
    "      list(S_t['B_t']['Busy_t']) + \\\n",
    "      list(S_t['V_t']['Volume_t']) + \\\n",
    "      list(S_t['N_t']['Revenue_t']) + \\\n",
    "      [self.Ucum[rt] for rt in self.params.RESOURCE_TYPES] + \\\n",
    "      [self.Ucum_Total] + \\\n",
    "      [self.Ccum_CumSlots] + \\\n",
    "      [self.Ccum_SickProb] + \\\n",
    "      [self.Ccum_CumMerits] + \\\n",
    "      [self.Ccum_ContSlots] + \\\n",
    "      [self.Ccum] + \\\n",
    "      list(x_t['xAlloc_t']['Allocd_t'])\n",
    "    return record_t"
   ]
  },
  {
   "cell_type": "code",
   "execution_count": null,
   "metadata": {},
   "outputs": [],
   "source": [
    "#| export\n",
    "@patch\n",
    "def C_fn(self:Model, S_t, x_t, W_tt1, theta):\n",
    "    return"
   ]
  },
  {
   "cell_type": "code",
   "execution_count": null,
   "metadata": {},
   "outputs": [],
   "source": [
    "#| export\n",
    "@patch\n",
    "def step(self:Model, t, dt, theta):\n",
    "    ## IND = '\\t\\t'\n",
    "    ## print(f\"{IND}..... M. step() .....\\n{t=}\\n{theta=}\")\n",
    "    self.W_tt1 = self.W_fn(t, dt); ##print(f'%%% {W_tt1=}')\n",
    "\n",
    "    ## update state & reward\n",
    "    record_t = self.S__M_fn(t, dt, self.S_t, self.x_t, self.W_tt1, theta)\n",
    "    # print(f'~~~~~~~~~~~~~ len(record_t): {len(record_t)}')\n",
    "    # print(f'~~~~~~~~~~~~~ len(self.params.LABELS): {len(self.params.LABELS)}')    \n",
    "    return record_t"
   ]
  },
  {
   "cell_type": "markdown",
   "metadata": {},
   "source": [
    "## Usage"
   ]
  },
  {
   "cell_type": "code",
   "execution_count": null,
   "metadata": {},
   "outputs": [],
   "source": [
    "# # hide\n",
    "# # QUICK STEP\n",
    "# def print_S_t():\n",
    "#   print(f'M.S_t[\"R_t\"]=\\n{M.S_t[\"R_t\"]}')\n",
    "#   print(f'M.S_t[\"D_t\"]=\\n{M.S_t[\"D_t\"]}')\n",
    "\n",
    "# def print_x_t():\n",
    "#   # print(f'x_t.x_t= {x_t.x_t}')\n",
    "#   print(f'M.x_t[\"xAlloc_t\"]=\\n{M.x_t[\"xAlloc_t\"]}')\n",
    "\n",
    "# record = []\n",
    "# l = 1\n",
    "# M = Model()\n",
    "# P = pol.Policy(M)\n",
    "# ## DEM = DemandSimulator(seed=SEED_TRAIN); print(f'{DEM.simulate()=}')\n",
    "# ## MER = MeritSimulator(seed=SEED_TRAIN); print(f'{MER.simulate()=}')\n",
    "\n",
    "# theta_test = P.build_theta({\n",
    "#   'thCumSlots': .1,\n",
    "#   'thSickProb': .3,\n",
    "#   'thCumMerits': .2,\n",
    "#   'thContSlots': 1 - (.6),\n",
    "#   'thSelect': 'random'\n",
    "# })\n",
    "# record_l = [cf.piNAMES[0], theta_test, l]; print(f'{record_l=}')\n",
    "# print_S_t()\n",
    "# print_x_t()"
   ]
  },
  {
   "cell_type": "code",
   "execution_count": null,
   "metadata": {},
   "outputs": [],
   "source": [
    "# ## hide\n",
    "# # T = 7*24\n",
    "# # T = 2*24\n",
    "# T = 2\n",
    "# # T = 1*SLOTS_PER_DAY\n",
    "# # T = 2*SLOTS_PER_DAY\n",
    "# dt = pd.to_datetime(cf.START_DATE_TIME)\n",
    "# dt_delta = pd.Timedelta(cf.DATE_TIME_DELTA)\n",
    "# for t in range(T):\n",
    "#   print(f'\\n################# t={t}, dt={dt} #################')\n",
    "#   # getattr(P, 'X__AllocBelow')(t, M.S_t, M.x_t, theta_test); #print(f'{x_t=}')\n",
    "#   getattr(P, 'X__Alloc')(t, dt, M.S_t, M.x_t, theta_test); #print(f'{x_t=}')\n",
    "#   print_S_t()\n",
    "#   print_x_t()\n",
    "\n",
    "#   # record_t = M.step(t, theta_test)\n",
    "#   record_t = M.step(t, dt, theta_test)\n",
    "#   print(f'\\nAFTER STEP:')\n",
    "#   record.append(record_l + record_t); #print(f'{record=}')\n",
    "#   dt = dt + dt_delta\n",
    "#   # print_S_t()\n",
    "#   # print(f'{M.Ccum=}')"
   ]
  },
  {
   "cell_type": "code",
   "execution_count": null,
   "metadata": {},
   "outputs": [],
   "source": [
    "# ## hide\n",
    "# V = vis.Visualization()"
   ]
  },
  {
   "cell_type": "code",
   "execution_count": null,
   "metadata": {},
   "outputs": [],
   "source": [
    "# df_test_n_t = pd.DataFrame.from_records(record, columns=cf.LABELS)\n",
    "# df_test_n_t.tail()"
   ]
  },
  {
   "cell_type": "code",
   "execution_count": null,
   "metadata": {},
   "outputs": [],
   "source": [
    "# ## hide\n",
    "# V.plot_records(\n",
    "#   df=df_test_n_t,\n",
    "#   df_non=None,\n",
    "#   pars=defaultdict(str, {\n",
    "#     # 'thetaAdj1': {a1n: theta_test.thAdj1[a1n] for a1n in a1NAMES},\n",
    "#     # 'thetaAdj3': {a1n: theta_test.thAdj3[a1n] for a1n in a1NAMES},\n",
    "#     # 'suptitle': f'TRAINING OF X__AdjBelow POLICY'+'\\n'+f'(first {first_n_t} records)'+'\\n'+ \\\n",
    "#     # f'L = {L}, T = {T}, '+ \\\n",
    "#     # r'$\\theta^*=$'+f'{P.round_theta(best_theta_AdjBelow)}',\n",
    "#     'T': T\n",
    "#   }),\n",
    "# )"
   ]
  },
  {
   "cell_type": "code",
   "execution_count": null,
   "metadata": {},
   "outputs": [],
   "source": [
    "#| hide\n",
    "import nbdev; nbdev.nbdev_export()"
   ]
  },
  {
   "cell_type": "code",
   "execution_count": null,
   "metadata": {},
   "outputs": [],
   "source": []
  }
 ],
 "metadata": {
  "kernelspec": {
   "display_name": "python3",
   "language": "python",
   "name": "python3"
  }
 },
 "nbformat": 4,
 "nbformat_minor": 4
}
