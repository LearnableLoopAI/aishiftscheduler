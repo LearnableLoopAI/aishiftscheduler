{
 "cells": [
  {
   "cell_type": "markdown",
   "metadata": {},
   "source": [
    "# parameters\n",
    "> Parameters that are updated by the user\n",
    "- order: 11"
   ]
  },
  {
   "cell_type": "code",
   "execution_count": null,
   "metadata": {},
   "outputs": [],
   "source": [
    "#| default_exp parameters"
   ]
  },
  {
   "cell_type": "code",
   "execution_count": null,
   "metadata": {},
   "outputs": [
    {
     "name": "stdout",
     "output_type": "stream",
     "text": [
      "/Users/kobus/aishiftscheduler/.venv/bin/python\n"
     ]
    }
   ],
   "source": [
    "!which python"
   ]
  },
  {
   "cell_type": "code",
   "execution_count": null,
   "metadata": {},
   "outputs": [],
   "source": [
    "# Set up autoreload\n",
    "%load_ext autoreload\n",
    "%autoreload 2"
   ]
  },
  {
   "cell_type": "code",
   "execution_count": null,
   "metadata": {},
   "outputs": [],
   "source": [
    "#| hide\n",
    "from nbdev.showdoc import *"
   ]
  },
  {
   "cell_type": "code",
   "execution_count": null,
   "metadata": {},
   "outputs": [
    {
     "name": "stdout",
     "output_type": "stream",
     "text": [
      "/Users/kobus/aishiftscheduler/aishiftscheduler/shift_scheduler_data.xlsx\n",
      "/Users/kobus/aishiftscheduler/aishiftscheduler/AIShiftScheduler1.png\n",
      "\n",
      "len(thNAMES)=5\n",
      "thNAMES=['thCumSlots', 'thSickProb', 'thCumMerits', 'thContSlots', 'thSelect']\n"
     ]
    }
   ],
   "source": [
    "#| export\n",
    "from collections import defaultdict\n",
    "import pandas as pd\n",
    "# import matplotlib as mpl\n",
    "# import matplotlib.pyplot as plt\n",
    "from copy import copy\n",
    "# import time\n",
    "# import math\n",
    "# from pprint import pprint\n",
    "## !pip install -U \"ray\"\n",
    "# import ray\n",
    "# import json\n",
    "\n",
    "from fastcore.basics import patch\n",
    "import aishiftscheduler.config as cf\n",
    "# import aishiftscheduler.policy as pol\n",
    "# import aishiftscheduler.visualization as vis"
   ]
  },
  {
   "cell_type": "code",
   "execution_count": null,
   "metadata": {},
   "outputs": [
    {
     "data": {
      "text/plain": [
       "'2.0.3'"
      ]
     },
     "execution_count": null,
     "metadata": {},
     "output_type": "execute_result"
    }
   ],
   "source": [
    "pd.__version__"
   ]
  },
  {
   "cell_type": "code",
   "execution_count": null,
   "metadata": {},
   "outputs": [],
   "source": [
    "#| export\n",
    "pd.options.display.float_format = '{:,.4f}'.format\n",
    "pd.set_option('display.max_columns', None)\n",
    "pd.set_option('display.max_rows', None)\n",
    "pd.set_option('display.max_colwidth', None)"
   ]
  },
  {
   "cell_type": "code",
   "execution_count": null,
   "metadata": {},
   "outputs": [],
   "source": [
    "## SNAMES = [ #state variable names\n",
    "#     'RAvail_t', #available resource\n",
    "#     'R_t',      #resource\n",
    "#     'D_t',      #demand\n",
    "# ]\n",
    "## xNAMES = ['x_t'] #decision variable names"
   ]
  },
  {
   "cell_type": "code",
   "execution_count": null,
   "metadata": {},
   "outputs": [],
   "source": [
    "## math parameters use 'math/small case' (as opposed to code parameters)"
   ]
  },
  {
   "cell_type": "code",
   "execution_count": null,
   "metadata": {},
   "outputs": [],
   "source": [
    "## SNAMES = [ #state variable names\n",
    "#     'RAvail_t', #available resource\n",
    "#     'R_t',      #resource\n",
    "#     'D_t',      #demand\n",
    "# ]\n",
    "## xNAMES = ['x_t'] #decision variable names"
   ]
  },
  {
   "cell_type": "code",
   "execution_count": null,
   "metadata": {},
   "outputs": [],
   "source": [
    "## math parameters use 'math/small case' (as opposed to code parameters)"
   ]
  },
  {
   "cell_type": "code",
   "execution_count": null,
   "metadata": {},
   "outputs": [],
   "source": [
    "#| export\n",
    "class Parameters(): pass"
   ]
  },
  {
   "cell_type": "code",
   "execution_count": null,
   "metadata": {},
   "outputs": [],
   "source": [
    "#| export\n",
    "@patch\n",
    "def __init__(self:Parameters, W_fn=None, S__M_fn=None, C_fn=None):\n",
    "    self.START_DATE_TIME = '2023-12-04'\n",
    "    ## self.START_DATE_TIME = '2023-10-30T22:00' ##works too\n",
    "    sd = pd.to_datetime(self.START_DATE_TIME)\n",
    "    assert sd.strftime('%a')=='Mon'\n",
    "\n",
    "    self.RESOLUTION = 'HOUR' ## 'BLOCK_8_HOUR', 'HOUR', 'QUARTER_HOUR', \n",
    "    self.SLOTS_PER_DAY, self.DATE_TIME_DELTA = self.slots_per_day_and_date_time_delta(self.RESOLUTION)\n",
    "\n",
    "    self.MAX_DAILY_SLOT_RUN = 8\n",
    "    assert self.MAX_DAILY_SLOT_RUN<=self.SLOTS_PER_DAY\n",
    "\n",
    "    self.RESOURCE_TYPES = ['Manager', 'AssistMngr', 'RetailAssoc'] ## <<< ========= INPUT ==============\n",
    "    \n",
    "    self.RESOURCE_TYPE_COUNTS = [1, 2, 10] ## <<< ========= INPUT ==============\n",
    "    assert len(self.RESOURCE_TYPES) == len(self.RESOURCE_TYPE_COUNTS)\n",
    "    assert len(self.RESOURCE_TYPES) <= cf.MAX_RESOURCE_TYPES\n",
    "    print(f'\\n{len(self.RESOURCE_TYPES)=}')\n",
    "    print(self.RESOURCE_TYPES)\n",
    "\n",
    "    ## self.TYPES = ['Courtesy']*7 + ['Stocker']*3 + ['Cleaner']*2 + ['Curbsider']*4\n",
    "    self.TYPES = []\n",
    "    for i in range(len(self.RESOURCE_TYPES)):\n",
    "      additional_types = [self.RESOURCE_TYPES[i]]*self.RESOURCE_TYPE_COUNTS[i]\n",
    "      for item in additional_types:\n",
    "        self.TYPES.append(item)\n",
    "    print(f'\\n{len(self.TYPES)=}')\n",
    "    print(self.TYPES)\n",
    "\n",
    "    self.RESOURCE_IDS = [ ## <<< ========= INPUT ==============\n",
    "      'Matt', \n",
    "      'Mike', 'Tanner', \n",
    "      'Jake', 'James', 'Jane', 'John', 'Jim', 'Jenny', 'Jeremy', 'Judy', 'Julie', 'Jeffrey']\n",
    "    assert len(self.RESOURCE_IDS) == len(self.TYPES)\n",
    "    assert len(self.RESOURCE_IDS) <= cf.MAX_RESOURCE_IDS\n",
    "\n",
    "    ## eventually learn, call thBusyRate\n",
    "    ## demand/busyness ## <<< ========= INPUT ==============\n",
    "    ## add demands of 0 up to these values as busyness varies from 0 to 100%\n",
    "    self.DEMANDS_PER_BUSYNESS = [.005, .008, .02] ##set to [0, 0, 0] to disregard\n",
    "    self.DEMAND_PER_BUSYNESS = {e: self.DEMANDS_PER_BUSYNESS[i] for i,e in enumerate(self.RESOURCE_TYPES)}\n",
    "    assert len(self.DEMANDS_PER_BUSYNESS) == len(self.RESOURCE_TYPES)\n",
    "\n",
    "    ## eventually learn, call thVolumeRate\n",
    "    ## demand/volume ## <<< ========= INPUT ==============\n",
    "    self.DEMANDS_PER_VOLUME = [.03, .08, .2] ##set to [0, 0, 0] to disregard\n",
    "    self.DEMAND_PER_VOLUME = {e: self.DEMANDS_PER_VOLUME[i] for i,e in enumerate(self.RESOURCE_TYPES)}\n",
    "    assert len(self.DEMANDS_PER_VOLUME) == len(self.RESOURCE_TYPES)\n",
    "\n",
    "    ## eventually learn, call thRevenueRate\n",
    "    ## demand/revenue ## <<< ========= INPUT ==============\n",
    "    self.DEMANDS_PER_REVENUE = [.00005, .0001, .0008] ##set to [0, 0, 0] to disregard\n",
    "    self.DEMAND_PER_REVENUE = {e: self.DEMANDS_PER_REVENUE[i] for i,e in enumerate(self.RESOURCE_TYPES)}\n",
    "    assert len(self.DEMANDS_PER_REVENUE) == len(self.RESOURCE_TYPES)\n",
    "\n",
    "    ## what it costs to pay the human resources being scheduled\n",
    "    self.RESOURCE_EXPENSES = [25.00, 20.00, 18.00] ## <<< ========= INPUT ==============\n",
    "    self.RESOURCE_EXPENSE = {e: self.RESOURCE_EXPENSES[i] for i,e in enumerate(self.RESOURCE_TYPES)}\n",
    "    assert len(self.RESOURCE_EXPENSES) == len(self.RESOURCE_TYPES)\n",
    "\n",
    "    ## *resource* attribute vectors\n",
    "    self.aNAMES = [tup[0]+'_'+tup[1] for tup in zip(self.TYPES, self.RESOURCE_IDS)]\n",
    "    print(f'{len(self.aNAMES)=}')\n",
    "    print(self.aNAMES)\n",
    "\n",
    "    ## *demand* attribute vectors\n",
    "    self.bNAMES = self.RESOURCE_TYPES\n",
    "    print(f'\\n{len(self.bNAMES)=}')\n",
    "    print(self.bNAMES)\n",
    "\n",
    "    ## *decision* 'attribute' vectors\n",
    "    self.abNAMES = [] ##to DEMAND b\n",
    "    for a in self.aNAMES:\n",
    "      a0,a1 = a.split('_')\n",
    "      for b in self.bNAMES:\n",
    "        if(a0==b):\n",
    "          abn = (a + '___' + b)\n",
    "          self.abNAMES.append(abn)\n",
    "    print(f'\\n{len(self.abNAMES)=}')\n",
    "    print(self.abNAMES)\n",
    "\n",
    "    self.SIM_T = 60\n",
    "    ## SIM_MU_D = {bNAMES[0]: 4, bNAMES[1]: 2}\n",
    "    self.SIM_MU_D = {self.bNAMES[0]: 4, self.bNAMES[1]: 2, self.bNAMES[2]: 2}\n",
    "    print(f'\\n{self.SIM_MU_D=}')\n",
    "    assert len(self.SIM_MU_D.items())==len(self.bNAMES)\n",
    "    \n",
    "    ## SIM_EVENT_TIME_D = {bNAMES[0]: None, bNAMES[1]: None, bNAMES[2]: None, bNAMES[3]: None}\n",
    "    ## SIM_EVENT_TIME_D = {bNAMES[0]: None, bNAMES[1]: None}\n",
    "    self.SIM_EVENT_TIME_D = {self.bNAMES[0]: None, self.bNAMES[1]: None, self.bNAMES[2]: None}\n",
    "    print(f'\\n{self.SIM_EVENT_TIME_D=}')\n",
    "    assert len(self.SIM_EVENT_TIME_D.items())==len(self.bNAMES)\n",
    "    \n",
    "    ## SIM_MU_DELTA_D = {bNAMES[0]: None, bNAMES[1]: None, bNAMES[2]: None, bNAMES[3]: None}\n",
    "    self.SIM_MU_DELTA_D = {self.bNAMES[0]: None, self.bNAMES[1]: None, self.bNAMES[2]: None}\n",
    "    print(f'\\n{self.SIM_MU_DELTA_D=}')\n",
    "    assert len(self.SIM_MU_DELTA_D.items())==len(self.bNAMES)\n",
    "\n",
    "    self.LABELS = self.setup_plot_labels()"
   ]
  },
  {
   "cell_type": "code",
   "execution_count": null,
   "metadata": {},
   "outputs": [],
   "source": [
    "## ///////////////////////////\n",
    "# SLOTS_PER_DAY = {\n",
    "#     'QUARTER_HOUR': 96,\n",
    "#     'HOUR': 24,\n",
    "#     'BLOCK_8_HOUR': 3\n",
    "#     # 'BLOCK_8_HOUR': {0: '6H', 1: '10H', 2: '8H'}\n",
    "# }\n",
    "# DATE_TIME_DELTA = {\n",
    "#     'QUARTER_HOUR': '15min',\n",
    "#     'HOUR': '1H',\n",
    "#     'BLOCK_8_HOUR': '8H'\n",
    "#     # 'BLOCK_8_HOUR': {0: '6H', 1: '10H', 2: '8H'}\n",
    "# }\n",
    "## \\\\\\\\\\\\\\\\\\\\"
   ]
  },
  {
   "cell_type": "code",
   "execution_count": null,
   "metadata": {},
   "outputs": [],
   "source": [
    "## ///////////////////////////\n",
    "# SLOTS_PER_DAY = {\n",
    "#     'QUARTER_HOUR': 96,\n",
    "#     'HOUR': 24,\n",
    "#     'BLOCK_8_HOUR': 3\n",
    "#     # 'BLOCK_8_HOUR': {0: '6H', 1: '10H', 2: '8H'}\n",
    "# }\n",
    "# DATE_TIME_DELTA = {\n",
    "#     'QUARTER_HOUR': '15min',\n",
    "#     'HOUR': '1H',\n",
    "#     'BLOCK_8_HOUR': '8H'\n",
    "#     # 'BLOCK_8_HOUR': {0: '6H', 1: '10H', 2: '8H'}\n",
    "# }\n",
    "## \\\\\\\\\\\\\\\\\\\\"
   ]
  },
  {
   "cell_type": "code",
   "execution_count": null,
   "metadata": {},
   "outputs": [],
   "source": [
    "#| export\n",
    "@patch\n",
    "def slots_per_day_and_date_time_delta(self:Parameters, resolution):\n",
    "# RESOLUTION = 'HOUR' ## 'BLOCK_8_HOUR', 'HOUR', 'QUARTER_HOUR', \n",
    "# if RESOLUTION == 'QUARTER_HOUR':\n",
    "#   SLOTS_PER_DAY = 96\n",
    "#   DATE_TIME_DELTA = '15min'\n",
    "# elif RESOLUTION == 'HOUR':\n",
    "#   SLOTS_PER_DAY = 24\n",
    "#   DATE_TIME_DELTA = '1H'\n",
    "# elif RESOLUTION == 'BLOCK_8_HOUR':\n",
    "#   SLOTS_PER_DAY = 3\n",
    "#   DATE_TIME_DELTA = '8H'\n",
    "#   ## DATE_TIME_DELTA = {0: '6H', 1: '10H', 2: '8H'} ##maybe in future?\n",
    "# else:\n",
    "#   print(f'ERROR: Invalid RESOLUTION: {RESOLUTION}')\n",
    "    if resolution == 'QUARTER_HOUR':\n",
    "      slots_per_day = 96\n",
    "      date_time_delta = '15min'\n",
    "    elif resolution == 'HOUR':\n",
    "      slots_per_day = 24\n",
    "      date_time_delta = '1H'\n",
    "    elif resolution == 'BLOCK_8_HOUR':\n",
    "      slots_per_day = 3\n",
    "      date_time_delta = '8H'\n",
    "      ## DATE_TIME_DELTA = {0: '6H', 1: '10H', 2: '8H'} ##maybe in future?\n",
    "    else:\n",
    "      print(f'ERROR: Invalid resolution: {resolution}')\n",
    "      slots_per_day = 0\n",
    "      date_time_delta = 'error'    \n",
    "    return slots_per_day, date_time_delta"
   ]
  },
  {
   "cell_type": "code",
   "execution_count": null,
   "metadata": {},
   "outputs": [],
   "source": [
    "#| export\n",
    "@patch\n",
    "def get_availabilities(self:Parameters, dt):\n",
    "  avails = \\\n",
    "    cf.EXOG_INFO.loc[\n",
    "      cf.EXOG_INFO['Date']==dt,\n",
    "      [col for col in cf.EXOG_INFO.columns if col in [f'A_{a}' for a in range(len(self.RESOURCE_IDS))]]\n",
    "    ].iloc[0]\n",
    "  avails.reset_index(drop=True, inplace=True) ##to start index at 0\n",
    "  return avails"
   ]
  },
  {
   "cell_type": "code",
   "execution_count": null,
   "metadata": {},
   "outputs": [],
   "source": [
    "#| export\n",
    "@patch\n",
    "def get_dow_qod_capacities(self:Parameters, dow):\n",
    "  capacities = \\\n",
    "    cf.EXOG_INFO.loc[\n",
    "      (cf.EXOG_INFO['DOW']==dow),\n",
    "      [col for col in cf.EXOG_INFO.columns if col in [f'A_{a}' for a in range(len(self.RESOURCE_IDS))]]\n",
    "    ].sum(axis=0) ##total daily capacity\n",
    "  capacities.reset_index(drop=True, inplace=True)\n",
    "  return capacities"
   ]
  },
  {
   "cell_type": "code",
   "execution_count": null,
   "metadata": {},
   "outputs": [],
   "source": [
    "#| export\n",
    "@patch\n",
    "def get_dow_hod_capacities(self:Parameters, dow):\n",
    "  capacities = \\\n",
    "    cf.EXOG_INFO.loc[\n",
    "      (cf.EXOG_INFO['DOW']==dow),\n",
    "    ].groupby(['HOD']).first()\n",
    "  capacities = capacities[[col for col in cf.EXOG_INFO.columns if col in [f'A_{a}' for a in range(len(self.RESOURCE_IDS))]]]\n",
    "  capacities = capacities.sum(axis=0) ##total daily capacity\n",
    "  capacities.reset_index(drop=True, inplace=True)\n",
    "  return capacities"
   ]
  },
  {
   "cell_type": "code",
   "execution_count": null,
   "metadata": {},
   "outputs": [],
   "source": [
    "#| export\n",
    "@patch\n",
    "def get_dow_bod_capacities(self:Parameters, dow):\n",
    "  capacities = \\\n",
    "    cf.EXOG_INFO.loc[\n",
    "      (cf.EXOG_INFO['DOW']==dow),\n",
    "    ].groupby(['BOD']).first()\n",
    "  capacities = capacities[[col for col in cf.EXOG_INFO.columns if col in [f'A_{a}' for a in range(len(self.RESOURCE_IDS))]]]\n",
    "  capacities = capacities.sum(axis=0) ##total daily capacity\n",
    "  capacities.reset_index(drop=True, inplace=True)\n",
    "  return capacities"
   ]
  },
  {
   "cell_type": "code",
   "execution_count": null,
   "metadata": {},
   "outputs": [],
   "source": [
    "#| export\n",
    "@patch\n",
    "def get_capacities(self:Parameters, dow):\n",
    "  if self.RESOLUTION == 'QUARTER_HOUR':\n",
    "    return self.get_dow_qod_capacities(dow)\n",
    "  elif self.RESOLUTION == 'HOUR':\n",
    "    return self.get_dow_hod_capacities(dow)\n",
    "  elif self.RESOLUTION == 'BLOCK_8_HOUR':\n",
    "    return self.get_dow_bod_capacities(dow)\n",
    "  else:\n",
    "    print(f'ERROR: Invalid RESOLUTION: {self.RESOLUTION}')\n",
    "    return None"
   ]
  },
  {
   "cell_type": "code",
   "execution_count": null,
   "metadata": {},
   "outputs": [],
   "source": [
    "#| export\n",
    "@patch\n",
    "def setup_plot_labels(self:Parameters):\n",
    "    RAvail_t_labels = ['RAvail_t_'+an for an in self.aNAMES]\n",
    "    RCumSlots_t_labels = ['RCumSlots_t_'+an for an in self.aNAMES]\n",
    "    RCumMerits_t_labels = ['RCumMerits_t_'+an for an in self.aNAMES]\n",
    "    ## RContSlots_t_labels = ['RContSlots_t_'+an for an in aNAMES]\n",
    "    RComplete_t_labels = ['RComplete_t_'+an for an in self.aNAMES]\n",
    "    DSlot_t_labels = ['DSlot_t_'+rt for rt in self.RESOURCE_TYPES]\n",
    "    DBusy_t_labels = ['DBusy_t_'+rt for rt in self.RESOURCE_TYPES]\n",
    "    DVolume_t_labels = ['DVolume_t_'+rt for rt in self.RESOURCE_TYPES]\n",
    "    DRevenue_t_labels = ['DRevenue_t_'+rt for rt in self.RESOURCE_TYPES]\n",
    "    DMax_t_labels = ['DMax_t_'+rt for rt in self.RESOURCE_TYPES]\n",
    "    B_t_label = ['B_t']\n",
    "    V_t_label = ['V_t']\n",
    "    N_t_label = ['N_t']\n",
    "    xAlloc_t_labels = ['Allocd_t_'+abn for abn in self.abNAMES]\n",
    "    labels = ['piName', 'theta', 'l'] + \\\n",
    "      ['t', 'dt'] + \\\n",
    "      RAvail_t_labels + RCumSlots_t_labels + RCumMerits_t_labels + RComplete_t_labels + \\\n",
    "      DSlot_t_labels + \\\n",
    "      DBusy_t_labels + \\\n",
    "      DVolume_t_labels + \\\n",
    "      DRevenue_t_labels + \\\n",
    "      DMax_t_labels + \\\n",
    "      B_t_label + \\\n",
    "      V_t_label + \\\n",
    "      N_t_label + \\\n",
    "      ['Ucum_'+rt for rt in self.RESOURCE_TYPES] + \\\n",
    "      ['Ucum_Total'] + \\\n",
    "      ['Ccum_CumSlots'] + \\\n",
    "      ['Ccum_SickProb'] + \\\n",
    "      ['Ccum_CumMerits'] + \\\n",
    "      ['Ccum_ContSlots'] + \\\n",
    "      ['Ccum'] + \\\n",
    "      xAlloc_t_labels\n",
    "    return labels"
   ]
  },
  {
   "cell_type": "code",
   "execution_count": null,
   "metadata": {},
   "outputs": [],
   "source": [
    "#| hide\n",
    "import nbdev; nbdev.nbdev_export()"
   ]
  },
  {
   "cell_type": "code",
   "execution_count": null,
   "metadata": {},
   "outputs": [],
   "source": []
  }
 ],
 "metadata": {
  "kernelspec": {
   "display_name": "python3",
   "language": "python",
   "name": "python3"
  }
 },
 "nbformat": 4,
 "nbformat_minor": 4
}
